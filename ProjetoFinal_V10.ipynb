{
  "nbformat": 4,
  "nbformat_minor": 0,
  "metadata": {
    "colab": {
      "name": "ProjetoFinal_V10.ipynb",
      "provenance": [],
      "collapsed_sections": [
        "j6jvOvs6wj1w",
        "bWdw2dWqgtmO",
        "a6HMd_5Y8HGY",
        "YvHb_VuH9k3y",
        "DxL00_my8n-j",
        "hf5S295I0_l5",
        "QWuPeR-NqIvk",
        "l8H20W0ZqxBU",
        "GF2Ze66LrE5W",
        "vNRl7gxfrlR3",
        "9VO1Hwp1sIpZ",
        "DlEGvqrTVwBx",
        "eZTqs5g9MpHr"
      ]
    },
    "kernelspec": {
      "name": "python3",
      "display_name": "Python 3"
    },
    "language_info": {
      "name": "python"
    }
  },
  "cells": [
    {
      "cell_type": "markdown",
      "metadata": {
        "id": "j6jvOvs6wj1w"
      },
      "source": [
        "\n",
        "# **Bibliotecas necessárias**"
      ]
    },
    {
      "cell_type": "code",
      "metadata": {
        "id": "hV1z2sr7jJmm",
        "colab": {
          "base_uri": "https://localhost:8080/"
        },
        "outputId": "ba832a85-756f-40e0-9f1a-8696bb0e4694"
      },
      "source": [
        "!pip install twitter\n",
        "!pip install snscrape"
      ],
      "execution_count": 2,
      "outputs": [
        {
          "output_type": "stream",
          "name": "stdout",
          "text": [
            "Collecting twitter\n",
            "  Downloading twitter-1.19.3-py2.py3-none-any.whl (50 kB)\n",
            "\u001b[?25l\r\u001b[K     |██████▌                         | 10 kB 22.9 MB/s eta 0:00:01\r\u001b[K     |█████████████                   | 20 kB 28.2 MB/s eta 0:00:01\r\u001b[K     |███████████████████▋            | 30 kB 12.6 MB/s eta 0:00:01\r\u001b[K     |██████████████████████████      | 40 kB 9.5 MB/s eta 0:00:01\r\u001b[K     |████████████████████████████████| 50 kB 2.7 MB/s \n",
            "\u001b[?25hInstalling collected packages: twitter\n",
            "Successfully installed twitter-1.19.3\n",
            "Collecting snscrape\n",
            "  Downloading snscrape-0.3.4-py3-none-any.whl (35 kB)\n",
            "Requirement already satisfied: beautifulsoup4 in /usr/local/lib/python3.7/dist-packages (from snscrape) (4.6.3)\n",
            "Requirement already satisfied: requests[socks] in /usr/local/lib/python3.7/dist-packages (from snscrape) (2.23.0)\n",
            "Requirement already satisfied: lxml in /usr/local/lib/python3.7/dist-packages (from snscrape) (4.2.6)\n",
            "Requirement already satisfied: chardet<4,>=3.0.2 in /usr/local/lib/python3.7/dist-packages (from requests[socks]->snscrape) (3.0.4)\n",
            "Requirement already satisfied: certifi>=2017.4.17 in /usr/local/lib/python3.7/dist-packages (from requests[socks]->snscrape) (2021.5.30)\n",
            "Requirement already satisfied: idna<3,>=2.5 in /usr/local/lib/python3.7/dist-packages (from requests[socks]->snscrape) (2.10)\n",
            "Requirement already satisfied: urllib3!=1.25.0,!=1.25.1,<1.26,>=1.21.1 in /usr/local/lib/python3.7/dist-packages (from requests[socks]->snscrape) (1.24.3)\n",
            "Requirement already satisfied: PySocks!=1.5.7,>=1.5.6 in /usr/local/lib/python3.7/dist-packages (from requests[socks]->snscrape) (1.7.1)\n",
            "Installing collected packages: snscrape\n",
            "Successfully installed snscrape-0.3.4\n"
          ]
        }
      ]
    },
    {
      "cell_type": "code",
      "metadata": {
        "id": "JhJjHLKmX1OU",
        "colab": {
          "base_uri": "https://localhost:8080/"
        },
        "collapsed": true,
        "outputId": "0cbeb60b-3464-4138-8115-e79175de64f3"
      },
      "source": [
        "import snscrape.modules.twitter as sntwitter\n",
        "import csv\n",
        "import pandas as pd\n",
        "import numpy as np\n",
        "import re\n",
        "import nltk\n",
        "import itertools\n",
        "import matplotlib.pyplot as plt\n",
        "import seaborn as sns\n",
        "import string\n",
        "import keras \n",
        "import tensorflow as tf\n",
        "\n",
        "from keras import utils\n",
        "from keras.layers import LeakyReLU\n",
        "#############################################\n",
        "from keras.models import Sequential\n",
        "from keras.layers import Dense\n",
        "from keras.layers import Flatten\n",
        "from keras.layers import Dropout\n",
        "#from keras.optimizers import SGD\n",
        "from keras.layers.convolutional import Conv2D\n",
        "from keras.layers.convolutional import MaxPooling2D\n",
        "#############################################\n",
        "\n",
        "\n",
        "from unicodedata import normalize\n",
        "\n",
        "from string import punctuation\n",
        "\n",
        "from nltk.corpus import stopwords\n",
        "from nltk.tokenize import word_tokenize,sent_tokenize\n",
        "from nltk.tokenize.toktok import ToktokTokenizer\n",
        "\n",
        "from tensorflow.keras.models import Sequential\n",
        "from tensorflow.keras.layers import Dense, Activation,Dropout\n",
        "from tensorflow.keras.callbacks import EarlyStopping\n",
        "\n",
        "from sklearn import svm\n",
        "from sklearn import metrics\n",
        "from sklearn.model_selection import train_test_split,cross_val_score,cross_val_predict\n",
        "from sklearn.feature_extraction.text import CountVectorizer,TfidfTransformer\n",
        "from sklearn.linear_model import LogisticRegression,SGDClassifier,PassiveAggressiveClassifier\n",
        "from sklearn.ensemble import RandomForestClassifier\n",
        "from sklearn.naive_bayes import MultinomialNB\n",
        "from sklearn.svm import SVC\n",
        "from sklearn.metrics import classification_report,confusion_matrix,accuracy_score\n",
        "from sklearn.preprocessing import LabelBinarizer\n",
        "from sklearn.pipeline import Pipeline\n",
        "\n",
        "nltk.download('stopwords')"
      ],
      "execution_count": 3,
      "outputs": [
        {
          "output_type": "stream",
          "name": "stdout",
          "text": [
            "[nltk_data] Downloading package stopwords to /root/nltk_data...\n",
            "[nltk_data]   Unzipping corpora/stopwords.zip.\n"
          ]
        },
        {
          "output_type": "execute_result",
          "data": {
            "text/plain": [
              "True"
            ]
          },
          "metadata": {},
          "execution_count": 3
        }
      ]
    },
    {
      "cell_type": "markdown",
      "metadata": {
        "id": "bWdw2dWqgtmO"
      },
      "source": [
        "#**Funções**"
      ]
    },
    {
      "cell_type": "code",
      "metadata": {
        "id": "0CNsFP8Qb6VI"
      },
      "source": [
        "#Função para limpar os tweets utilizando regex\n",
        "def limparText(twt):\n",
        "  twt = re.sub('#(\\w+)','',twt)\n",
        "  twt = re.sub('@(\\w+)','',twt)\n",
        "  twt = re.sub('#[A-Za-z0-9]+]','',twt)\n",
        "  twt = re.sub('\\\\n','',twt)\n",
        "  twt = re.sub('https?:\\/\\/\\S+','',twt)\n",
        "  twt = re.sub('[^\\w\\s]','',twt)\n",
        "  twt = re.sub('  ',' ',twt)  \n",
        "  return twt\n",
        "\n",
        "##----------------------------------------------------------------------------------------\n",
        "\n",
        "# Função para remover emoji.\n",
        "def remove_emoji(string):\n",
        "    emoji_pattern = re.compile(\"[\"\n",
        "                           u\"\\U0001F600-\\U0001F64F\"  # emoticons\n",
        "                           u\"\\U0001F300-\\U0001F5FF\"  # symbols & pictographs\n",
        "                           u\"\\U0001F680-\\U0001F6FF\"  # transport & map symbols\n",
        "                           u\"\\U0001F1E0-\\U0001F1FF\"  # flags (iOS)\n",
        "                           u\"\\U00002702-\\U000027B0\"\n",
        "                           u\"\\U000024C2-\\U0001F251\"\n",
        "                           \"]+\", flags=re.UNICODE)\n",
        "    return emoji_pattern.sub(r'', string)\n",
        "\n",
        "##----------------------------------------------------------------------------------------\n",
        "\n",
        "#Funcao para retirar a acentuação e caracteres especiais\n",
        "def removerCaracteresEspeciais(text) :\n",
        "        return normalize('NFKD', text).encode('ASCII', 'ignore').decode('ASCII')"
      ],
      "execution_count": 4,
      "outputs": []
    },
    {
      "cell_type": "code",
      "metadata": {
        "id": "9j7aW_I3iR13"
      },
      "source": [
        "#função para visualizar a matriz de confusão\n",
        "def plot_confusion_matrix(cm, classes, normalize=False, title='Matriz de confusão', cmap=plt.cm.Greys):\n",
        "    \"\"\"\n",
        "    Source: \n",
        "         http://scikit-learn.org/stable/auto_examples/model_selection/plot_confusion_matrix.html\n",
        "    \n",
        "    Input:\n",
        "         cm: confusion matrix\n",
        "         classes: output classes name\n",
        "         normalize: normalization can be applied by setting `normalize=True`\n",
        "    \n",
        "    Output:\n",
        "         This function prints and plots the confusion matrix.\n",
        "    \"\"\"\n",
        "    plt.figure(figsize=(10,10))\n",
        "    plt.imshow(cm, interpolation='nearest', cmap=cmap)\n",
        "    plt.title(title)\n",
        "    plt.colorbar()\n",
        "    tick_marks = np.arange(len(classes))\n",
        "    plt.xticks(tick_marks, classes, rotation=45)\n",
        "    plt.yticks(tick_marks, classes)\n",
        "    plt.set_cmap('Greys')\n",
        "    if normalize:\n",
        "        cm = cm.astype('float') / cm.sum(axis=1)[:, np.newaxis]\n",
        "        print(\"Normalized confusion matrix\")\n",
        "    else:\n",
        "        print('Confusion matrix, without normalization')\n",
        "\n",
        "    thresh = cm.max() / 2.\n",
        "    for i, j in itertools.product(range(cm.shape[0]), range(cm.shape[1])):\n",
        "        plt.text(j, i, cm[i, j],\n",
        "                 horizontalalignment=\"center\",\n",
        "                 color=\"green\" if cm[i, j] > thresh else \"black\")\n",
        "\n",
        "    plt.tight_layout()\n",
        "    plt.ylabel('Real')\n",
        "    plt.xlabel('Preditos')"
      ],
      "execution_count": 5,
      "outputs": []
    },
    {
      "cell_type": "markdown",
      "metadata": {
        "id": "a6HMd_5Y8HGY"
      },
      "source": [
        "#**Carregando dados**"
      ]
    },
    {
      "cell_type": "markdown",
      "metadata": {
        "id": "YvHb_VuH9k3y"
      },
      "source": [
        "## Carregando novos Tweets para o experimento no final\n",
        "Carregando novos twets para o experimento no final do notebook, eles estão sendo carregados aqui para que possam ser aplicadas as tratativas nos textos juntamente com os dados do treino e teste."
      ]
    },
    {
      "cell_type": "code",
      "metadata": {
        "id": "1PaoEEy-4KuG"
      },
      "source": [
        "# Quantidade máxima de tweets\n",
        "maxTweets = 1000\n",
        "csvFile = open('TweetsExperimento.csv', 'w', newline='', encoding='utf8')\n",
        "\n",
        "csvWriter = csv.writer(csvFile)\n",
        "csvWriter.writerow(['tweetId','texto_original'])\n",
        "\n",
        "tweets_list1 = []\n",
        "for i, tweet in enumerate(sntwitter.TwitterSearchScraper('Correios + lang:pt + since:2018-01-01 until:2018-12-31 -filter:links -filter:replies -filter:retweets').get_items()):#.filter(tweet.id!=dfid['id']): #and sntwitter.TwitterSearchScraper.get_items(id) != dfid['id']:\n",
        "#for i, tweet in enumerate(sntwitter.TwitterSearchScraper('Correios + lang:pt + since:2021-08-31 until:2021-12-31 -filter:links -filter:replies -filter:retweets').get_items()):#.filter(tweet.id!=dfid['id']): #and sntwitter.TwitterSearchScraper.get_items(id) != dfid['id']:\n",
        "      if i > maxTweets:\n",
        "          break\n",
        "      csvWriter.writerow([tweet.id,tweet.content])\n",
        "csvFile.close()"
      ],
      "execution_count": 6,
      "outputs": []
    },
    {
      "cell_type": "code",
      "metadata": {
        "id": "YBE7yo2r4Peb",
        "colab": {
          "base_uri": "https://localhost:8080/"
        },
        "outputId": "af47dea9-db6a-45d8-f8f8-3bb9756f5caa"
      },
      "source": [
        "# Leitura do arquivo csv criado\n",
        "df_experimento = pd.read_csv(\"TweetsExperimento.csv\", names=['tweetId','texto_original'] , header= 1)\n",
        "# Definição do tamanho máximo da coluna e quantidade de linhas para visualização de todos os caracteres, sem restrição\n",
        "pd.set_option('display.max_colwidth', -1)\n",
        "pd.set_option('display.max_rows', df_experimento.shape[0]+1)\n",
        "#Tirando linhas em branco\n",
        "mensagem = df_experimento.dropna(subset=['texto_original'], axis=0)['texto_original']\n",
        "#Removendo duplicadas\n",
        "df_experimento.drop_duplicates(keep='first', inplace=True)"
      ],
      "execution_count": 7,
      "outputs": [
        {
          "output_type": "stream",
          "name": "stderr",
          "text": [
            "/usr/local/lib/python3.7/dist-packages/ipykernel_launcher.py:4: FutureWarning: Passing a negative integer is deprecated in version 1.0 and will not be supported in future version. Instead, use None to not limit the column width.\n",
            "  after removing the cwd from sys.path.\n"
          ]
        }
      ]
    },
    {
      "cell_type": "code",
      "metadata": {
        "id": "c8y2qY_3_mFL"
      },
      "source": [
        "df_experimento['Categoria'] = 'Experimento'\n",
        "#df_experimento = df_experimento.loc['Experimento'] = 'Experimento'"
      ],
      "execution_count": 8,
      "outputs": []
    },
    {
      "cell_type": "markdown",
      "metadata": {
        "id": "K8J6Ob2yhChe"
      },
      "source": [
        "##Carregando os dados utilizados no treino/teste\n",
        "Carregando a base que o grupo categorizou como negativo, neutro e positivo\n"
      ]
    },
    {
      "cell_type": "code",
      "metadata": {
        "colab": {
          "base_uri": "https://localhost:8080/"
        },
        "id": "GsJFZuCs72Lm",
        "outputId": "fd16f2f3-44e6-42ff-bc3f-446a0357c089"
      },
      "source": [
        "from google.colab import drive\n",
        "drive.mount('/content/drive')"
      ],
      "execution_count": 9,
      "outputs": [
        {
          "output_type": "stream",
          "name": "stdout",
          "text": [
            "Drive already mounted at /content/drive; to attempt to forcibly remount, call drive.mount(\"/content/drive\", force_remount=True).\n"
          ]
        }
      ]
    },
    {
      "cell_type": "code",
      "metadata": {
        "id": "LVLKge5A78le",
        "colab": {
          "base_uri": "https://localhost:8080/"
        },
        "outputId": "c3d72783-a873-4260-9ca5-00e8353e01b0"
      },
      "source": [
        "pd.set_option('display.max_colwidth', -1)\n",
        "#df_completo = pd.read_csv('dadosTweetsCorreios_D_2.csv', sep=';', encoding ='unicode_escape')\n",
        "df_completo = pd.read_csv('dadosTweetsCorreios_Final_1.csv', sep=';', encoding ='unicode_escape')"
      ],
      "execution_count": 10,
      "outputs": [
        {
          "output_type": "stream",
          "name": "stderr",
          "text": [
            "/usr/local/lib/python3.7/dist-packages/ipykernel_launcher.py:1: FutureWarning: Passing a negative integer is deprecated in version 1.0 and will not be supported in future version. Instead, use None to not limit the column width.\n",
            "  \"\"\"Entry point for launching an IPython kernel.\n"
          ]
        }
      ]
    },
    {
      "cell_type": "code",
      "metadata": {
        "id": "IvQwV-KDtt8N"
      },
      "source": [
        "#Mantendo o df_completo para situações futuras\n",
        "df = df_completo.drop(columns=['Obs','Item','tweetId'])\n",
        "df_experimento = df_experimento.drop('tweetId',axis=1)\n",
        "#Juntando a base do experimento final com a base que será usada no treino, teste e validação\n",
        "df =pd.concat([df,df_experimento], ignore_index=True)"
      ],
      "execution_count": 11,
      "outputs": []
    },
    {
      "cell_type": "code",
      "metadata": {
        "colab": {
          "base_uri": "https://localhost:8080/"
        },
        "id": "Q0GZTeToC0oW",
        "outputId": "c70c7ac0-42fe-4431-83e5-7b72ac9cf964"
      },
      "source": [
        "#Criando novas colunas (texto e num_cat) para trabalhar e ter a referência do original quando necessário\n",
        "df['texto'] = df['texto_original']\n",
        "df['num_cat'] = df['Categoria'] \n",
        "df.info()"
      ],
      "execution_count": 12,
      "outputs": [
        {
          "output_type": "stream",
          "name": "stdout",
          "text": [
            "<class 'pandas.core.frame.DataFrame'>\n",
            "RangeIndex: 17001 entries, 0 to 17000\n",
            "Data columns (total 4 columns):\n",
            " #   Column          Non-Null Count  Dtype \n",
            "---  ------          --------------  ----- \n",
            " 0   texto_original  17001 non-null  object\n",
            " 1   Categoria       13447 non-null  object\n",
            " 2   texto           17001 non-null  object\n",
            " 3   num_cat         13447 non-null  object\n",
            "dtypes: object(4)\n",
            "memory usage: 531.4+ KB\n"
          ]
        }
      ]
    },
    {
      "cell_type": "markdown",
      "metadata": {
        "id": "DxL00_my8n-j"
      },
      "source": [
        "#**Tratando os dados e balanceando a base**"
      ]
    },
    {
      "cell_type": "markdown",
      "metadata": {
        "id": "hf5S295I0_l5"
      },
      "source": [
        "##Aplicando as tratativas necessárias nos textos\n",
        "\n",
        "*   Transformando texto para minúsculo;\n",
        "*   Remoção de letras repetidas, stopwords, emojis, quebras de linha, acentuação, caracteres especiais e palavras com menos de 3 caracteres.  \n",
        "\n"
      ]
    },
    {
      "cell_type": "code",
      "metadata": {
        "id": "6Ft0TB_7UhC9"
      },
      "source": [
        "#Transformando tudo para minúsculo\n",
        "df['texto'] = df['texto'].str.lower()\n",
        "\n",
        "##----------------------------------------------------------------------------------------\n",
        "#removendo todas as letras repetidas (Ex.: correio->coreio)\n",
        "f = lambda x: ''.join(ch for ch, _ in itertools.groupby(x))\n",
        "df['texto'] = df['texto'].apply(f)\n",
        "\n",
        "##----------------------------------------------------------------------------------------\n",
        "\n",
        "# Definição de stopwords personalizadas e que não estão na bibliotega \"gensim\" \n",
        "stopwords_ptbr = nltk.corpus.stopwords.words('portuguese')\n",
        "stopwords = set(stopwords_ptbr)\n",
        "#mantendo o \"não\" nos textos\n",
        "stopwords.remove('não')\n",
        "#lista de stopwords personalizada\n",
        "stopwords.update(['coreio','correio', 'correios','coreios', 'pra', 'pro', 'mds', 'mrm','esa',\\\n",
        "                  'poa','vou','ter','dnv','tao','ufa','iso', 'vai', 'ser','ces', 'ctz', 'cmg', \\\n",
        "                  'ano', 'fzr'])           \n",
        "pat = r'\\b(?:{})\\b'.format('|'.join(stopwords))\n",
        "#aplicando o stopword e mantendo palavras que contenham mais de 3 caracteres.\n",
        "df['texto'] = df['texto'].apply(lambda x: ' '.join([word for word in x.split() if word not in (stopwords) and len(word) > 2]))\n",
        "\n",
        "#Aplicando as funções que irão tratar as frases\n",
        "#limpando o texto (removendo quebra de linhas careact)\n",
        "df['texto'] = df['texto'].map(lambda x: limparText(x))\n",
        "#Removendo acentuação e caracteres especiais\n",
        "df['texto'] = df['texto'].apply(removerCaracteresEspeciais)\n",
        "#removendo os emoji's\n",
        "df['texto'] = df['texto'].apply(remove_emoji)\n",
        "\n",
        "#Verificando como ficou o texto após as tratativas de remoção de pontuação, caracteres especiais, retirada de emojis, retirada dos stopwords \n",
        "# e de palavras com menos de 3 caracteres, colocar todo o texto em caixa baixa.\n",
        "#df['texto']"
      ],
      "execution_count": 13,
      "outputs": []
    },
    {
      "cell_type": "code",
      "metadata": {
        "id": "6Fjq0AtFVbbb"
      },
      "source": [
        "#Após as tratativas removendo novamente com stopwords sujeiras que podem ter se formado ou palavras que podem ter ficado com menos de 3 caracteres\n",
        "df['texto'] = df['texto'].apply(lambda x: ' '.join([word for word in x.split() if len(word) > 2]))"
      ],
      "execution_count": 14,
      "outputs": []
    },
    {
      "cell_type": "code",
      "metadata": {
        "id": "Kvd8orUEV6_G"
      },
      "source": [
        "#Tratando a coluna num_cat para que ela possa colocar os valores corretos para cada rótulo\n",
        "df.loc[df['Categoria'] == 'Negativo', 'num_cat'] = -1\n",
        "df.loc[df['Categoria'] == 'Neutro', 'num_cat'] = 0\n",
        "df.loc[df['Categoria'] == 'Positivo', 'num_cat'] = 1"
      ],
      "execution_count": 15,
      "outputs": []
    },
    {
      "cell_type": "code",
      "metadata": {
        "id": "XDsbZBZ4I1C9"
      },
      "source": [
        "#Guardando um df completo tratado para situações futuras \n",
        "df_tratado = df"
      ],
      "execution_count": 16,
      "outputs": []
    },
    {
      "cell_type": "markdown",
      "metadata": {
        "id": "bf-OQ6LanuWV"
      },
      "source": [
        "##Analisando a base de dados\n",
        "Separando a base em quantidades iguais para cada categoria para garantir o balanceamento"
      ]
    },
    {
      "cell_type": "code",
      "metadata": {
        "colab": {
          "base_uri": "https://localhost:8080/"
        },
        "id": "ut3aIkkaZUZA",
        "outputId": "916f5a35-11cc-4103-e197-ff4f38bede55"
      },
      "source": [
        "#Verificando o balanceamento da base\n",
        "df['Categoria'].value_counts()"
      ],
      "execution_count": 17,
      "outputs": [
        {
          "output_type": "execute_result",
          "data": {
            "text/plain": [
              "Negativo       5536\n",
              "Neutro         4187\n",
              "Positivo       2715\n",
              "Experimento    1000\n",
              "neutro         9   \n",
              "Name: Categoria, dtype: int64"
            ]
          },
          "metadata": {},
          "execution_count": 17
        }
      ]
    },
    {
      "cell_type": "code",
      "metadata": {
        "id": "tAU-lR8qjKLD",
        "colab": {
          "base_uri": "https://localhost:8080/",
          "height": 0
        },
        "outputId": "5645d8ad-1872-4196-c8a8-01dca6162c79"
      },
      "source": [
        "#Verificando como está o balanceamento da base\n",
        "sns.set_style('whitegrid')\n",
        "sns.countplot(x='Categoria',data=df, color='grey')"
      ],
      "execution_count": 18,
      "outputs": [
        {
          "output_type": "execute_result",
          "data": {
            "text/plain": [
              "<matplotlib.axes._subplots.AxesSubplot at 0x7f6156750590>"
            ]
          },
          "metadata": {},
          "execution_count": 18
        },
        {
          "output_type": "display_data",
          "data": {
            "image/png": "[encoded data removed]",
            "text/plain": [
              "<Figure size 432x288 with 1 Axes>"
            ]
          },
          "metadata": {}
        }
      ]
    },
    {
      "cell_type": "code",
      "metadata": {
        "id": "sZD9nNBH25fg"
      },
      "source": [
        "#Determinando os núremos de corte de forma automática, para que tenhamos sempre um total de 900, sendo 300 de cada categoria na validação.\n",
        "#Usada a base de positivo pois sempre foi a menor durante o tempo de desenvolvimento\n",
        "#qtd1 - é o total de positivos - 300\n",
        "#qtd2 - é o total de positivos \n",
        "qtd1 = len(df.query('Categoria == \"Positivo\"'))-300\n",
        "qtd2 = len(df.query('Categoria == \"Positivo\"'))\n",
        "\n",
        "#Separando as categorias para dividir em treino, teste e validação.\n",
        "df_neg = df.query('Categoria == \"Negativo\"')\n",
        "df_neu = df.query('Categoria == \"Neutro\"')\n",
        "df_pos = df.query('Categoria == \"Positivo\"')\n",
        "#Resetando o index\n",
        "df_neg.reset_index(drop=False, inplace=True)\n",
        "df_neu.reset_index(drop=False, inplace=True)\n",
        "df_pos.reset_index(drop=False, inplace=True)\n",
        "#Separando em quantidades iguais as categorias: Negativo,Neutro e Positivo, para garantir o balanceamento\n",
        "df_0 = df_neg.query('Categoria == \"Negativo\"').loc[0:qtd1]\n",
        "df_1 = df_neu.query('Categoria == \"Neutro\"').loc[0:qtd1]\n",
        "df_2 = df_pos.query('Categoria == \"Positivo\"').loc[0:qtd1]\n",
        "#Juntando tudo em um novo dataframe\n",
        "juntando = [df_0, df_1, df_2]\n",
        "df = pd.concat(juntando)"
      ],
      "execution_count": 19,
      "outputs": []
    },
    {
      "cell_type": "code",
      "metadata": {
        "colab": {
          "base_uri": "https://localhost:8080/"
        },
        "id": "aBfwcqSLKdCM",
        "outputId": "216ee0a7-2e4a-47b0-9504-a6170e066f09"
      },
      "source": [
        "#Verifcando como ficou o balanceamento aplicado\n",
        "df['Categoria'].value_counts()"
      ],
      "execution_count": 20,
      "outputs": [
        {
          "output_type": "execute_result",
          "data": {
            "text/plain": [
              "Negativo    2416\n",
              "Neutro      2416\n",
              "Positivo    2416\n",
              "Name: Categoria, dtype: int64"
            ]
          },
          "metadata": {},
          "execution_count": 20
        }
      ]
    },
    {
      "cell_type": "code",
      "metadata": {
        "colab": {
          "base_uri": "https://localhost:8080/",
          "height": 0
        },
        "id": "GdwGak9Gl_92",
        "outputId": "6d37165f-8b8b-45ae-9424-852388fc325a"
      },
      "source": [
        "#apresentando a base balanceada\n",
        "sns.set_style('whitegrid')\n",
        "sns.countplot(x='Categoria',data=df, color='grey')"
      ],
      "execution_count": 21,
      "outputs": [
        {
          "output_type": "execute_result",
          "data": {
            "text/plain": [
              "<matplotlib.axes._subplots.AxesSubplot at 0x7f6156734cd0>"
            ]
          },
          "metadata": {},
          "execution_count": 21
        },
        {
          "output_type": "display_data",
          "data": {
            "image/png": "[encoded data removed]",
            "text/plain": [
              "<Figure size 432x288 with 1 Axes>"
            ]
          },
          "metadata": {}
        }
      ]
    },
    {
      "cell_type": "markdown",
      "metadata": {
        "id": "0VadSgpB7iyL"
      },
      "source": [
        "# **Área de Treino e Teste dos modelos**\n",
        "Foram criados os modelos de Rede Neural, Logistic Regression, Random Forest, Naive Bayes e Passive Agressive "
      ]
    },
    {
      "cell_type": "markdown",
      "metadata": {
        "id": "EFhup8Pro0FM"
      },
      "source": [
        "## Redes Neurais (TensorFlow)"
      ]
    },
    {
      "cell_type": "code",
      "metadata": {
        "colab": {
          "base_uri": "https://localhost:8080/"
        },
        "id": "Be8ARqS8Nxyz",
        "outputId": "2044f48d-d6d5-494f-ecd1-fb2c28e5b87c"
      },
      "source": [
        "#Preparando um dataframe para realizar os treinamento com tensorflow\n",
        "df1 = df[['texto','Categoria']]\n",
        "#Remover a coluna categoria, colocando-a em linha e aplicando os valores 0 para falso e 1 para verdadeiro.\n",
        "one_hot = pd.get_dummies(df1[\"Categoria\"])\n",
        "df1.drop(['Categoria'],axis=1,inplace=True)\n",
        "df1 = pd.concat([df1,one_hot],axis=1)"
      ],
      "execution_count": 22,
      "outputs": [
        {
          "output_type": "stream",
          "name": "stderr",
          "text": [
            "/usr/local/lib/python3.7/dist-packages/pandas/core/frame.py:4174: SettingWithCopyWarning: \n",
            "A value is trying to be set on a copy of a slice from a DataFrame\n",
            "\n",
            "See the caveats in the documentation: https://pandas.pydata.org/pandas-docs/stable/user_guide/indexing.html#returning-a-view-versus-a-copy\n",
            "  errors=errors,\n"
          ]
        }
      ]
    },
    {
      "cell_type": "code",
      "metadata": {
        "colab": {
          "base_uri": "https://localhost:8080/",
          "height": 220
        },
        "id": "Ep3_hD1P14g4",
        "outputId": "3986d13a-148a-4db2-cbc4-41ed92d1a5c1"
      },
      "source": [
        "df1.head(5)"
      ],
      "execution_count": 23,
      "outputs": [
        {
          "output_type": "execute_result",
          "data": {
            "text/html": [
              "<div>\n",
              "<style scoped>\n",
              "    .dataframe tbody tr th:only-of-type {\n",
              "        vertical-align: middle;\n",
              "    }\n",
              "\n",
              "    .dataframe tbody tr th {\n",
              "        vertical-align: top;\n",
              "    }\n",
              "\n",
              "    .dataframe thead th {\n",
              "        text-align: right;\n",
              "    }\n",
              "</style>\n",
              "<table border=\"1\" class=\"dataframe\">\n",
              "  <thead>\n",
              "    <tr style=\"text-align: right;\">\n",
              "      <th></th>\n",
              "      <th>texto</th>\n",
              "      <th>Negativo</th>\n",
              "      <th>Neutro</th>\n",
              "      <th>Positivo</th>\n",
              "    </tr>\n",
              "  </thead>\n",
              "  <tbody>\n",
              "    <tr>\n",
              "      <th>0</th>\n",
              "      <td>demoram tanto sapucaia</td>\n",
              "      <td>1</td>\n",
              "      <td>0</td>\n",
              "      <td>0</td>\n",
              "    </tr>\n",
              "    <tr>\n",
              "      <th>1</th>\n",
              "      <td>amanha dia enfrentar fila segundafeira</td>\n",
              "      <td>1</td>\n",
              "      <td>0</td>\n",
              "      <td>0</td>\n",
              "    </tr>\n",
              "    <tr>\n",
              "      <th>2</th>\n",
              "      <td>toda vez preciso transportadora mini crise diferente queria nao vender nada fisico nao precisar</td>\n",
              "      <td>1</td>\n",
              "      <td>0</td>\n",
              "      <td>0</td>\n",
              "    </tr>\n",
              "    <tr>\n",
              "      <th>3</th>\n",
              "      <td>preparando psicologicamente pasar dia horas fila</td>\n",
              "      <td>1</td>\n",
              "      <td>0</td>\n",
              "      <td>0</td>\n",
              "    </tr>\n",
              "    <tr>\n",
              "      <th>4</th>\n",
              "      <td>povo bando arombado deixa explicar negocio voces alguem tenta fazer algo legal fode tudo nao vao foder pesoa reclama pora caralho parece nasceram ontem hein</td>\n",
              "      <td>1</td>\n",
              "      <td>0</td>\n",
              "      <td>0</td>\n",
              "    </tr>\n",
              "  </tbody>\n",
              "</table>\n",
              "</div>"
            ],
            "text/plain": [
              "                                                                                                                                                          texto  ...  Positivo\n",
              "0  demoram tanto sapucaia                                                                                                                                        ...  0       \n",
              "1  amanha dia enfrentar fila segundafeira                                                                                                                        ...  0       \n",
              "2  toda vez preciso transportadora mini crise diferente queria nao vender nada fisico nao precisar                                                               ...  0       \n",
              "3  preparando psicologicamente pasar dia horas fila                                                                                                              ...  0       \n",
              "4  povo bando arombado deixa explicar negocio voces alguem tenta fazer algo legal fode tudo nao vao foder pesoa reclama pora caralho parece nasceram ontem hein  ...  0       \n",
              "\n",
              "[5 rows x 4 columns]"
            ]
          },
          "metadata": {},
          "execution_count": 23
        }
      ]
    },
    {
      "cell_type": "code",
      "metadata": {
        "id": "WX5A3NGF2pz-"
      },
      "source": [
        "#separando os dados para treino e teste\n",
        "X=df1['texto'].values\n",
        "y=df1.drop('texto', axis=1).values\n",
        "X_train, X_test, y_train, y_test = train_test_split(X, y, test_size=0.20, random_state=43)"
      ],
      "execution_count": 24,
      "outputs": []
    },
    {
      "cell_type": "code",
      "metadata": {
        "id": "mFnlKpMd6P-N"
      },
      "source": [
        "#vetorizando\n",
        "bow = CountVectorizer()\n",
        "X_train = bow.fit_transform(X_train)\n",
        "X_test = bow.transform(X_test)"
      ],
      "execution_count": 25,
      "outputs": []
    },
    {
      "cell_type": "code",
      "metadata": {
        "id": "lXZfZDRX6P6a"
      },
      "source": [
        "#Term Frequency, Inverse Document Frequency\n",
        "tfidf = TfidfTransformer()\n",
        "X_train = tfidf.fit_transform(X_train)\n",
        "X_test = tfidf.transform(X_test)\n",
        "X_train=X_train.toarray()\n",
        "X_test=X_test.toarray()"
      ],
      "execution_count": 26,
      "outputs": []
    },
    {
      "cell_type": "code",
      "metadata": {
        "id": "sH3xObjF6jip"
      },
      "source": [
        "#criando o modelo \n",
        "model = Sequential()\n",
        "\n",
        "model.add(Dense(units=1500,activation='relu'))\n",
        "model.add(Dropout(0.5))\n",
        "\n",
        "model.add(Dense(units=1000,activation='elu'))\n",
        "model.add(Dropout(0.5))\n",
        "\n",
        "#model.add(Dense(units=50,activation='ThresholdedReLU'))\n",
        "#model.add(Dropout(0.5))\n",
        "\n",
        "#model.add(LeakyReLU(alpha=0.1))\n",
        "#model.add(Dropout(0.5))\n",
        "\n",
        "model.add(Dense(units=1000,activation='relu'))\n",
        "model.add(Dropout(0.5))\n",
        "\n",
        "model.add(Dense(units=500,activation='relu'))\n",
        "model.add(Dropout(0.5))\n",
        "\n",
        "model.add(Dense(units=3, activation='softmax'))\n",
        "\n",
        "opt=tf.keras.optimizers.Adam(learning_rate=0.001)\n",
        "model.compile(loss='categorical_crossentropy', optimizer=opt, metrics=['accuracy'])"
      ],
      "execution_count": 27,
      "outputs": []
    },
    {
      "cell_type": "code",
      "metadata": {
        "id": "Ti4440yZ6jes"
      },
      "source": [
        "#configurando a regra para dar o stop na execução do modelo\n",
        "early_stop = tf.keras.callbacks.EarlyStopping(monitor='val_loss', mode='min', verbose=1, patience=2)"
      ],
      "execution_count": 28,
      "outputs": []
    },
    {
      "cell_type": "code",
      "metadata": {
        "colab": {
          "base_uri": "https://localhost:8080/"
        },
        "id": "H1FwXgvv6ja6",
        "outputId": "617c4495-73e3-4ca1-e0ce-15e21b81ee09"
      },
      "source": [
        "#executando o treinamento\n",
        "history = model.fit(x=X_train, y=y_train, batch_size=550, epochs=100, validation_data=(X_test, y_test), verbose=1, callbacks=[early_stop])"
      ],
      "execution_count": 29,
      "outputs": [
        {
          "output_type": "stream",
          "name": "stdout",
          "text": [
            "Epoch 1/100\n",
            "11/11 [==============================] - 10s 815ms/step - loss: 1.0595 - accuracy: 0.4383 - val_loss: 0.7748 - val_accuracy: 0.7076\n",
            "Epoch 2/100\n",
            "11/11 [==============================] - 9s 783ms/step - loss: 0.6014 - accuracy: 0.7646 - val_loss: 0.5989 - val_accuracy: 0.7862\n",
            "Epoch 3/100\n",
            "11/11 [==============================] - 9s 779ms/step - loss: 0.2517 - accuracy: 0.9088 - val_loss: 0.6503 - val_accuracy: 0.7766\n",
            "Epoch 4/100\n",
            "11/11 [==============================] - 9s 779ms/step - loss: 0.0988 - accuracy: 0.9698 - val_loss: 0.9021 - val_accuracy: 0.7579\n",
            "Epoch 00004: early stopping\n"
          ]
        }
      ]
    },
    {
      "cell_type": "code",
      "metadata": {
        "colab": {
          "base_uri": "https://localhost:8080/"
        },
        "id": "r0lNjD6xGl2U",
        "outputId": "e916a2e8-3cbf-448f-c0d1-9c0d68464fd1"
      },
      "source": [
        "model.summary()"
      ],
      "execution_count": 30,
      "outputs": [
        {
          "output_type": "stream",
          "name": "stdout",
          "text": [
            "Model: \"sequential\"\n",
            "_________________________________________________________________\n",
            "Layer (type)                 Output Shape              Param #   \n",
            "=================================================================\n",
            "dense (Dense)                (None, 1500)              12981000  \n",
            "_________________________________________________________________\n",
            "dropout (Dropout)            (None, 1500)              0         \n",
            "_________________________________________________________________\n",
            "dense_1 (Dense)              (None, 1000)              1501000   \n",
            "_________________________________________________________________\n",
            "dropout_1 (Dropout)          (None, 1000)              0         \n",
            "_________________________________________________________________\n",
            "dense_2 (Dense)              (None, 1000)              1001000   \n",
            "_________________________________________________________________\n",
            "dropout_2 (Dropout)          (None, 1000)              0         \n",
            "_________________________________________________________________\n",
            "dense_3 (Dense)              (None, 500)               500500    \n",
            "_________________________________________________________________\n",
            "dropout_3 (Dropout)          (None, 500)               0         \n",
            "_________________________________________________________________\n",
            "dense_4 (Dense)              (None, 3)                 1503      \n",
            "=================================================================\n",
            "Total params: 15,985,003\n",
            "Trainable params: 15,985,003\n",
            "Non-trainable params: 0\n",
            "_________________________________________________________________\n"
          ]
        }
      ]
    },
    {
      "cell_type": "code",
      "metadata": {
        "colab": {
          "base_uri": "https://localhost:8080/",
          "height": 173
        },
        "id": "TzCvMwb76jVl",
        "outputId": "becb6b47-0cd8-4ba8-a74e-d411932e4d50"
      },
      "source": [
        "df_m=pd.DataFrame(model.history.history)\n",
        "#df_m['Epoch']=range(0,4)\n",
        "#df_m.index=df_m['Epoch']\n",
        "df_m"
      ],
      "execution_count": 31,
      "outputs": [
        {
          "output_type": "execute_result",
          "data": {
            "text/html": [
              "<div>\n",
              "<style scoped>\n",
              "    .dataframe tbody tr th:only-of-type {\n",
              "        vertical-align: middle;\n",
              "    }\n",
              "\n",
              "    .dataframe tbody tr th {\n",
              "        vertical-align: top;\n",
              "    }\n",
              "\n",
              "    .dataframe thead th {\n",
              "        text-align: right;\n",
              "    }\n",
              "</style>\n",
              "<table border=\"1\" class=\"dataframe\">\n",
              "  <thead>\n",
              "    <tr style=\"text-align: right;\">\n",
              "      <th></th>\n",
              "      <th>loss</th>\n",
              "      <th>accuracy</th>\n",
              "      <th>val_loss</th>\n",
              "      <th>val_accuracy</th>\n",
              "    </tr>\n",
              "  </thead>\n",
              "  <tbody>\n",
              "    <tr>\n",
              "      <th>0</th>\n",
              "      <td>1.059533</td>\n",
              "      <td>0.438255</td>\n",
              "      <td>0.774776</td>\n",
              "      <td>0.707586</td>\n",
              "    </tr>\n",
              "    <tr>\n",
              "      <th>1</th>\n",
              "      <td>0.601382</td>\n",
              "      <td>0.764574</td>\n",
              "      <td>0.598943</td>\n",
              "      <td>0.786207</td>\n",
              "    </tr>\n",
              "    <tr>\n",
              "      <th>2</th>\n",
              "      <td>0.251727</td>\n",
              "      <td>0.908762</td>\n",
              "      <td>0.650290</td>\n",
              "      <td>0.776552</td>\n",
              "    </tr>\n",
              "    <tr>\n",
              "      <th>3</th>\n",
              "      <td>0.098831</td>\n",
              "      <td>0.969817</td>\n",
              "      <td>0.902094</td>\n",
              "      <td>0.757931</td>\n",
              "    </tr>\n",
              "  </tbody>\n",
              "</table>\n",
              "</div>"
            ],
            "text/plain": [
              "       loss  accuracy  val_loss  val_accuracy\n",
              "0  1.059533  0.438255  0.774776  0.707586    \n",
              "1  0.601382  0.764574  0.598943  0.786207    \n",
              "2  0.251727  0.908762  0.650290  0.776552    \n",
              "3  0.098831  0.969817  0.902094  0.757931    "
            ]
          },
          "metadata": {},
          "execution_count": 31
        }
      ]
    },
    {
      "cell_type": "code",
      "metadata": {
        "colab": {
          "base_uri": "https://localhost:8080/"
        },
        "id": "HV0xyntw6jSC",
        "outputId": "f1b227a4-ffb9-4943-edd2-1d153a810aef"
      },
      "source": [
        "#Verificando a acuracia do resultado da massa de dados separados para o teste\n",
        "score = model.evaluate(X_test, y_test, batch_size=550, verbose=1)\n",
        "print('Accuracy do teste:', score[1])"
      ],
      "execution_count": 32,
      "outputs": [
        {
          "output_type": "stream",
          "name": "stdout",
          "text": [
            "3/3 [==============================] - 1s 271ms/step - loss: 0.9021 - accuracy: 0.7579\n",
            "Accuracy do teste: 0.7579310536384583\n"
          ]
        }
      ]
    },
    {
      "cell_type": "code",
      "metadata": {
        "id": "aifcF-Jo6jOW",
        "colab": {
          "base_uri": "https://localhost:8080/",
          "height": 295
        },
        "outputId": "3bf31c41-7e07-4f77-fc63-2bfe43a4517c"
      },
      "source": [
        "#Loss gráfico (treino e teste)\n",
        "plt.plot(df_m['loss'])\n",
        "plt.plot(df_m['val_loss'])\n",
        "plt.title('model loss')\n",
        "plt.ylabel('loss')\n",
        "plt.xlabel('epoch')\n",
        "plt.legend(['train_loss', 'val_loss'])\n",
        "plt.show()"
      ],
      "execution_count": 33,
      "outputs": [
        {
          "output_type": "display_data",
          "data": {
            "image/png": "[encoded data removed]",
            "text/plain": [
              "<Figure size 432x288 with 1 Axes>"
            ]
          },
          "metadata": {}
        }
      ]
    },
    {
      "cell_type": "code",
      "metadata": {
        "id": "8E8Dl4IF6jH0",
        "colab": {
          "base_uri": "https://localhost:8080/",
          "height": 295
        },
        "outputId": "14241fee-018d-4d25-e16a-cb13b7951855"
      },
      "source": [
        "# Accuracy gráfico (treino e teste)\n",
        "plt.plot(df_m['accuracy'])\n",
        "plt.plot(df_m['val_accuracy'])\n",
        "plt.title('model accuracy')\n",
        "plt.ylabel('accuracy')\n",
        "plt.xlabel('epoch')\n",
        "plt.legend(['train_acc', 'val_acc'])\n",
        "plt.show()"
      ],
      "execution_count": 34,
      "outputs": [
        {
          "output_type": "display_data",
          "data": {
            "image/png": "[encoded data removed]",
            "text/plain": [
              "<Figure size 432x288 with 1 Axes>"
            ]
          },
          "metadata": {}
        }
      ]
    },
    {
      "cell_type": "code",
      "metadata": {
        "id": "OwhROBkxZf9m",
        "colab": {
          "base_uri": "https://localhost:8080/",
          "height": 746
        },
        "outputId": "c46c6448-3d11-45b2-8ed0-b83281705679"
      },
      "source": [
        "#Realizando a predição na massa de teste\n",
        "preds = model.predict(X_test)\n",
        "\n",
        "#Visualizar na matriz de confusão o resultado da predição da massa de teste\n",
        "cm=confusion_matrix(np.argmax(y_test,axis=1), np.argmax(preds,axis=1))\n",
        "plot_confusion_matrix(cm, classes=['Negativo', 'Neutro', 'Positivo'])"
      ],
      "execution_count": 35,
      "outputs": [
        {
          "output_type": "stream",
          "name": "stdout",
          "text": [
            "Confusion matrix, without normalization\n"
          ]
        },
        {
          "output_type": "display_data",
          "data": {
            "image/png": "[encoded data removed]",
            "text/plain": [
              "<Figure size 720x720 with 2 Axes>"
            ]
          },
          "metadata": {}
        }
      ]
    },
    {
      "cell_type": "code",
      "metadata": {
        "colab": {
          "base_uri": "https://localhost:8080/"
        },
        "id": "Udj_Xjzk7xeP",
        "outputId": "e399f1e5-acdb-4c7d-f301-133a7b3db89c"
      },
      "source": [
        "#Verificando o resultado do modelo \n",
        "#print(confusion_matrix(np.argmax(y_test,axis=1),np.argmax(preds,axis=1)))\n",
        "data = classification_report(np.argmax(y_test,axis=1),np.argmax(preds,axis=1),target_names=['Negativo','Neutro','Positivo'])\n",
        "print(data)"
      ],
      "execution_count": 36,
      "outputs": [
        {
          "output_type": "stream",
          "name": "stdout",
          "text": [
            "              precision    recall  f1-score   support\n",
            "\n",
            "    Negativo       0.75      0.71      0.73       481\n",
            "      Neutro       0.66      0.73      0.69       461\n",
            "    Positivo       0.87      0.82      0.85       508\n",
            "\n",
            "    accuracy                           0.76      1450\n",
            "   macro avg       0.76      0.76      0.76      1450\n",
            "weighted avg       0.76      0.76      0.76      1450\n",
            "\n"
          ]
        }
      ]
    },
    {
      "cell_type": "markdown",
      "metadata": {
        "id": "QWuPeR-NqIvk"
      },
      "source": [
        "## Bag of words e separando dados para treino e teste dos modelos abaixo"
      ]
    },
    {
      "cell_type": "code",
      "metadata": {
        "id": "5_FT8EV6zESq"
      },
      "source": [
        "#Separando o conteúdo categorizado para aplicar nos modelos abaixo\n",
        "df2 = df[df[\"num_cat\"].between(-1,1)].drop(columns=['texto_original',\t'num_cat']).query('texto != \"\"')"
      ],
      "execution_count": 37,
      "outputs": []
    },
    {
      "cell_type": "code",
      "metadata": {
        "id": "MJGPGOXyc2Iz"
      },
      "source": [
        "cv=CountVectorizer(max_features=4500, ngram_range=(1,3))\n",
        "X_count=cv.fit_transform(df2['texto']).toarray()\n",
        "y = df2['Categoria']\n",
        "X_train, X_test, y_train, y_test=train_test_split(X_count, y, test_size=0.20, random_state=0)"
      ],
      "execution_count": 38,
      "outputs": []
    },
    {
      "cell_type": "markdown",
      "metadata": {
        "id": "l8H20W0ZqxBU"
      },
      "source": [
        "## Logistic Regression\n"
      ]
    },
    {
      "cell_type": "code",
      "metadata": {
        "id": "vpy22cD5bZz2"
      },
      "source": [
        "lr=LogisticRegression(random_state=0, solver='saga', max_iter=5000)"
      ],
      "execution_count": 39,
      "outputs": []
    },
    {
      "cell_type": "code",
      "metadata": {
        "colab": {
          "base_uri": "https://localhost:8080/"
        },
        "id": "wSASeX0hbc-B",
        "outputId": "bb30e754-2186-4570-94cd-beaf8d039a9f"
      },
      "source": [
        "lr.fit(X_train, y_train)"
      ],
      "execution_count": 40,
      "outputs": [
        {
          "output_type": "execute_result",
          "data": {
            "text/plain": [
              "LogisticRegression(C=1.0, class_weight=None, dual=False, fit_intercept=True,\n",
              "                   intercept_scaling=1, l1_ratio=None, max_iter=5000,\n",
              "                   multi_class='auto', n_jobs=None, penalty='l2',\n",
              "                   random_state=0, solver='saga', tol=0.0001, verbose=0,\n",
              "                   warm_start=False)"
            ]
          },
          "metadata": {},
          "execution_count": 40
        }
      ]
    },
    {
      "cell_type": "code",
      "metadata": {
        "id": "2mmIrxYLdbw6"
      },
      "source": [
        "pred_lr_count=lr.predict(X_test)"
      ],
      "execution_count": 41,
      "outputs": []
    },
    {
      "cell_type": "code",
      "metadata": {
        "colab": {
          "base_uri": "https://localhost:8080/"
        },
        "id": "x9VXY9PMdeXB",
        "outputId": "5726b08c-22a5-4bdf-e421-d240ecf10947"
      },
      "source": [
        "accuracy_score(y_test, pred_lr_count)"
      ],
      "execution_count": 42,
      "outputs": [
        {
          "output_type": "execute_result",
          "data": {
            "text/plain": [
              "0.7632850241545893"
            ]
          },
          "metadata": {},
          "execution_count": 42
        }
      ]
    },
    {
      "cell_type": "code",
      "metadata": {
        "id": "ovRlIAeYhS9Y"
      },
      "source": [
        "cm=confusion_matrix(y_test, pred_lr_count)"
      ],
      "execution_count": 43,
      "outputs": []
    },
    {
      "cell_type": "code",
      "metadata": {
        "colab": {
          "base_uri": "https://localhost:8080/",
          "height": 0
        },
        "id": "ScYvPerbhS6E",
        "outputId": "7f927c51-7243-4c61-cfe0-5baa4084fbce"
      },
      "source": [
        "plot_confusion_matrix(cm, classes=['Negativo', 'Neutro', 'Positivo'])"
      ],
      "execution_count": 44,
      "outputs": [
        {
          "output_type": "stream",
          "name": "stdout",
          "text": [
            "Confusion matrix, without normalization\n"
          ]
        },
        {
          "output_type": "display_data",
          "data": {
            "image/png": "[encoded data removed]",
            "text/plain": [
              "<Figure size 720x720 with 2 Axes>"
            ]
          },
          "metadata": {}
        }
      ]
    },
    {
      "cell_type": "code",
      "metadata": {
        "colab": {
          "base_uri": "https://localhost:8080/"
        },
        "id": "-k2JXzmIhZ-q",
        "outputId": "56055f41-5a7b-4afd-d4e6-e904e2fc1ab2"
      },
      "source": [
        "print(classification_report(y_test, pred_lr_count))"
      ],
      "execution_count": 45,
      "outputs": [
        {
          "output_type": "stream",
          "name": "stdout",
          "text": [
            "              precision    recall  f1-score   support\n",
            "\n",
            "    Negativo       0.76      0.76      0.76       482\n",
            "      Neutro       0.69      0.71      0.70       484\n",
            "    Positivo       0.84      0.82      0.83       483\n",
            "\n",
            "    accuracy                           0.76      1449\n",
            "   macro avg       0.76      0.76      0.76      1449\n",
            "weighted avg       0.76      0.76      0.76      1449\n",
            "\n"
          ]
        }
      ]
    },
    {
      "cell_type": "markdown",
      "metadata": {
        "id": "-FUwPt0Kp080"
      },
      "source": [
        "\n",
        "\n",
        "---\n",
        "\n"
      ]
    },
    {
      "cell_type": "markdown",
      "metadata": {
        "id": "GF2Ze66LrE5W"
      },
      "source": [
        "## Random forest"
      ]
    },
    {
      "cell_type": "code",
      "metadata": {
        "id": "xMI-gzh8hZ4B"
      },
      "source": [
        "rf=RandomForestClassifier(random_state=0)"
      ],
      "execution_count": 46,
      "outputs": []
    },
    {
      "cell_type": "code",
      "metadata": {
        "colab": {
          "base_uri": "https://localhost:8080/"
        },
        "id": "Ncd7KALVrLP3",
        "outputId": "2baced53-6be2-4900-e51c-0f30f8a43897"
      },
      "source": [
        "rf.fit(X_train,y_train)"
      ],
      "execution_count": 47,
      "outputs": [
        {
          "output_type": "execute_result",
          "data": {
            "text/plain": [
              "RandomForestClassifier(bootstrap=True, ccp_alpha=0.0, class_weight=None,\n",
              "                       criterion='gini', max_depth=None, max_features='auto',\n",
              "                       max_leaf_nodes=None, max_samples=None,\n",
              "                       min_impurity_decrease=0.0, min_impurity_split=None,\n",
              "                       min_samples_leaf=1, min_samples_split=2,\n",
              "                       min_weight_fraction_leaf=0.0, n_estimators=100,\n",
              "                       n_jobs=None, oob_score=False, random_state=0, verbose=0,\n",
              "                       warm_start=False)"
            ]
          },
          "metadata": {},
          "execution_count": 47
        }
      ]
    },
    {
      "cell_type": "code",
      "metadata": {
        "id": "Vz362uCzrOO4"
      },
      "source": [
        "pred_rf_count=rf.predict(X_test)"
      ],
      "execution_count": 48,
      "outputs": []
    },
    {
      "cell_type": "code",
      "metadata": {
        "colab": {
          "base_uri": "https://localhost:8080/",
          "height": 0
        },
        "id": "Zo7esvCBrQlT",
        "outputId": "b628a850-58fa-4db1-a704-260dd806cb3a"
      },
      "source": [
        "cm=confusion_matrix(y_test, pred_rf_count)\n",
        "plot_confusion_matrix(cm, classes=['Negativo', 'Neutro', 'Positivo'])"
      ],
      "execution_count": 49,
      "outputs": [
        {
          "output_type": "stream",
          "name": "stdout",
          "text": [
            "Confusion matrix, without normalization\n"
          ]
        },
        {
          "output_type": "display_data",
          "data": {
            "image/png": "[encoded data removed]",
            "text/plain": [
              "<Figure size 720x720 with 2 Axes>"
            ]
          },
          "metadata": {}
        }
      ]
    },
    {
      "cell_type": "code",
      "metadata": {
        "colab": {
          "base_uri": "https://localhost:8080/"
        },
        "id": "E0i92QUWrg42",
        "outputId": "c50e8fce-2b7b-4cad-af28-d9742515f68f"
      },
      "source": [
        "print(classification_report(y_test, pred_rf_count))"
      ],
      "execution_count": 50,
      "outputs": [
        {
          "output_type": "stream",
          "name": "stdout",
          "text": [
            "              precision    recall  f1-score   support\n",
            "\n",
            "    Negativo       0.76      0.75      0.76       482\n",
            "      Neutro       0.70      0.70      0.70       484\n",
            "    Positivo       0.82      0.84      0.83       483\n",
            "\n",
            "    accuracy                           0.76      1449\n",
            "   macro avg       0.76      0.76      0.76      1449\n",
            "weighted avg       0.76      0.76      0.76      1449\n",
            "\n"
          ]
        }
      ]
    },
    {
      "cell_type": "markdown",
      "metadata": {
        "id": "vNRl7gxfrlR3"
      },
      "source": [
        "## Naive bayes"
      ]
    },
    {
      "cell_type": "code",
      "metadata": {
        "id": "P1QVlpeYrqj3"
      },
      "source": [
        "nb=MultinomialNB(alpha=0.1)"
      ],
      "execution_count": 51,
      "outputs": []
    },
    {
      "cell_type": "code",
      "metadata": {
        "colab": {
          "base_uri": "https://localhost:8080/"
        },
        "id": "FTcdAIL0rsbr",
        "outputId": "e01ea3b6-69d1-4126-a634-9e90a57d57c5"
      },
      "source": [
        "nb.fit(X_train, y_train)"
      ],
      "execution_count": 52,
      "outputs": [
        {
          "output_type": "execute_result",
          "data": {
            "text/plain": [
              "MultinomialNB(alpha=0.1, class_prior=None, fit_prior=True)"
            ]
          },
          "metadata": {},
          "execution_count": 52
        }
      ]
    },
    {
      "cell_type": "code",
      "metadata": {
        "id": "eTBrsTU0ruiM"
      },
      "source": [
        "pred_nb_count=nb.predict(X_test)"
      ],
      "execution_count": 53,
      "outputs": []
    },
    {
      "cell_type": "code",
      "metadata": {
        "colab": {
          "base_uri": "https://localhost:8080/",
          "height": 0
        },
        "id": "Eqsr8jAbrw0b",
        "outputId": "809f6d8a-9f6c-4e2b-95f0-cff3fc3d690e"
      },
      "source": [
        "cm=confusion_matrix(y_test, pred_nb_count)\n",
        "plot_confusion_matrix(cm, classes=['Negativo', 'Neutro', 'Positivo'])"
      ],
      "execution_count": 54,
      "outputs": [
        {
          "output_type": "stream",
          "name": "stdout",
          "text": [
            "Confusion matrix, without normalization\n"
          ]
        },
        {
          "output_type": "display_data",
          "data": {
            "image/png": "[encoded data removed]",
            "text/plain": [
              "<Figure size 720x720 with 2 Axes>"
            ]
          },
          "metadata": {}
        }
      ]
    },
    {
      "cell_type": "code",
      "metadata": {
        "colab": {
          "base_uri": "https://localhost:8080/"
        },
        "id": "0HrVQgb9r14D",
        "outputId": "fdf3f71b-b9ed-43ec-c817-5a35ee2ff356"
      },
      "source": [
        "print(classification_report(y_test, pred_nb_count))"
      ],
      "execution_count": 55,
      "outputs": [
        {
          "output_type": "stream",
          "name": "stdout",
          "text": [
            "              precision    recall  f1-score   support\n",
            "\n",
            "    Negativo       0.72      0.79      0.75       482\n",
            "      Neutro       0.70      0.66      0.68       484\n",
            "    Positivo       0.85      0.81      0.83       483\n",
            "\n",
            "    accuracy                           0.75      1449\n",
            "   macro avg       0.76      0.75      0.75      1449\n",
            "weighted avg       0.76      0.75      0.75      1449\n",
            "\n"
          ]
        }
      ]
    },
    {
      "cell_type": "markdown",
      "metadata": {
        "id": "9VO1Hwp1sIpZ"
      },
      "source": [
        "## Passive aggressive"
      ]
    },
    {
      "cell_type": "code",
      "metadata": {
        "id": "jl_H-sbnr-ep"
      },
      "source": [
        "pa=PassiveAggressiveClassifier(max_iter=5000)"
      ],
      "execution_count": 56,
      "outputs": []
    },
    {
      "cell_type": "code",
      "metadata": {
        "colab": {
          "base_uri": "https://localhost:8080/"
        },
        "id": "95YZd_MHr_JD",
        "outputId": "c9987650-bade-41fc-a6dd-e76045b64957"
      },
      "source": [
        "pa.fit(X_train, y_train)"
      ],
      "execution_count": 57,
      "outputs": [
        {
          "output_type": "execute_result",
          "data": {
            "text/plain": [
              "PassiveAggressiveClassifier(C=1.0, average=False, class_weight=None,\n",
              "                            early_stopping=False, fit_intercept=True,\n",
              "                            loss='hinge', max_iter=5000, n_iter_no_change=5,\n",
              "                            n_jobs=None, random_state=None, shuffle=True,\n",
              "                            tol=0.001, validation_fraction=0.1, verbose=0,\n",
              "                            warm_start=False)"
            ]
          },
          "metadata": {},
          "execution_count": 57
        }
      ]
    },
    {
      "cell_type": "code",
      "metadata": {
        "id": "poJqOWyRsCyi"
      },
      "source": [
        "pred_pa_count=pa.predict(X_test)"
      ],
      "execution_count": 58,
      "outputs": []
    },
    {
      "cell_type": "code",
      "metadata": {
        "colab": {
          "base_uri": "https://localhost:8080/",
          "height": 0
        },
        "id": "hcoBiUzvsF-Q",
        "outputId": "86101144-a921-443c-d9ec-9ed81aaec68a"
      },
      "source": [
        "cm=confusion_matrix(y_test, pred_pa_count)\n",
        "plot_confusion_matrix(cm, classes=['Negativo', 'Neutro', 'Positivo'])"
      ],
      "execution_count": 59,
      "outputs": [
        {
          "output_type": "stream",
          "name": "stdout",
          "text": [
            "Confusion matrix, without normalization\n"
          ]
        },
        {
          "output_type": "display_data",
          "data": {
            "image/png": "[encoded data removed]",
            "text/plain": [
              "<Figure size 720x720 with 2 Axes>"
            ]
          },
          "metadata": {}
        }
      ]
    },
    {
      "cell_type": "code",
      "metadata": {
        "colab": {
          "base_uri": "https://localhost:8080/"
        },
        "id": "IpykRu-dsTLl",
        "outputId": "d5107502-3d1b-4a5c-8d4a-d7c4fe1b97ef"
      },
      "source": [
        "print(classification_report(y_test, pred_pa_count))"
      ],
      "execution_count": 60,
      "outputs": [
        {
          "output_type": "stream",
          "name": "stdout",
          "text": [
            "              precision    recall  f1-score   support\n",
            "\n",
            "    Negativo       0.68      0.68      0.68       482\n",
            "      Neutro       0.61      0.63      0.62       484\n",
            "    Positivo       0.83      0.79      0.81       483\n",
            "\n",
            "    accuracy                           0.70      1449\n",
            "   macro avg       0.70      0.70      0.70      1449\n",
            "weighted avg       0.70      0.70      0.70      1449\n",
            "\n"
          ]
        }
      ]
    },
    {
      "cell_type": "markdown",
      "metadata": {
        "id": "HwLTSjsEsqDr"
      },
      "source": [
        "---\n",
        "# **Área de Validação**"
      ]
    },
    {
      "cell_type": "markdown",
      "metadata": {
        "id": "DlEGvqrTVwBx"
      },
      "source": [
        "## Aplicando nos modelos os dados categorizados que não foram utilizados no treino e no teste na fase anterior"
      ]
    },
    {
      "cell_type": "code",
      "metadata": {
        "id": "vDC5ad_240N8"
      },
      "source": [
        "#Separando em quantidades iguais (negativa, neuro e positiva), apenas as \n",
        "#que já estão categorizadas e não foram usadas para treino e teste.\n",
        "df_3 = df_neg.query('Categoria == \"Negativo\"').loc[qtd1:qtd2-1]\n",
        "df_4 = df_neu.query('Categoria == \"Neutro\"').loc[qtd1:qtd2-1]\n",
        "df_5 = df_pos.query('Categoria == \"Positivo\"').loc[qtd1:qtd2]\n",
        "juntando = [df_3, df_4, df_5]\n",
        "df_validacao = pd.concat(juntando, ignore_index=True)\n",
        "df_validacao = df_validacao.drop(columns=['num_cat','index'])\n",
        "#Refazendo o index\n",
        "df_validacao = df_validacao.query('texto != \"\"')\n",
        "df_validacao = df_validacao.dropna()\n",
        "df_validacao.reset_index(drop=False, inplace=True)"
      ],
      "execution_count": 61,
      "outputs": []
    },
    {
      "cell_type": "markdown",
      "metadata": {
        "id": "oLUGwbUlXL4O"
      },
      "source": [
        "## Bag of Words do dataframe com os dados de validação e aplicação dos modelos"
      ]
    },
    {
      "cell_type": "code",
      "metadata": {
        "id": "mOIIYZX_XIG5"
      },
      "source": [
        "cv=CountVectorizer(max_features=4500, ngram_range=(1,3))\n",
        "X_count=cv.fit_transform(df_validacao['texto']).toarray()"
      ],
      "execution_count": 62,
      "outputs": []
    },
    {
      "cell_type": "code",
      "metadata": {
        "id": "RjyqX47-WdDs"
      },
      "source": [
        "#Aplicando a Regressão Logística\n",
        "pred_lr_count=lr.predict(X_count)\n",
        "#Separando apenas o resultado predito \n",
        "PRED_LR = pd.DataFrame(pred_lr_count, columns=['PRED_LR'])\n",
        "#PRED.reset_index(drop=False, inplace=True)"
      ],
      "execution_count": 63,
      "outputs": []
    },
    {
      "cell_type": "code",
      "metadata": {
        "id": "s3S7Hb1EwcD-"
      },
      "source": [
        "#Aplicando o Random Forest\n",
        "pred_rf_count=rf.predict(X_count)\n",
        "#Separando apenas o resultado predito \n",
        "PRED_RF = pd.DataFrame(pred_rf_count, columns=['PRED_RF'])\n",
        "#PRED.reset_index(drop=False, inplace=True)"
      ],
      "execution_count": 64,
      "outputs": []
    },
    {
      "cell_type": "code",
      "metadata": {
        "id": "cuSBf4eqy2R_"
      },
      "source": [
        "#Aplicando o Naive Bayes\n",
        "pred_nb_count=nb.predict(X_count)\n",
        "#Separando apenas o resultado predito\n",
        "PRED_NB = pd.DataFrame(pred_nb_count, columns=['PRED_NB'])\n",
        "#PRED.reset_index(drop=False, inplace=True)"
      ],
      "execution_count": 65,
      "outputs": []
    },
    {
      "cell_type": "code",
      "metadata": {
        "id": "XwXo1Tv8y1OD"
      },
      "source": [
        "#Aplicando o Passive Aggressive\n",
        "pred_pa_count=pa.predict(X_count)\n",
        "#Separando apenas o resultado predito\n",
        "PRED_PA = pd.DataFrame(pred_pa_count, columns=['PRED_PA'])\n",
        "#PRED.reset_index(drop=False, inplace=True)"
      ],
      "execution_count": 66,
      "outputs": []
    },
    {
      "cell_type": "code",
      "metadata": {
        "id": "8nw_8IPBQhxQ"
      },
      "source": [
        "#preparando um dataframe para realizar os testes com tensorflow\n",
        "dfa = df_validacao[['texto','Categoria']].query('texto != \"\"')\n",
        "#remover a coluna categoria, colocando-a em linha e aplicando os valores 0 para falso e 1 para verdadeiro.\n",
        "one_hot = pd.get_dummies(dfa[\"Categoria\"])\n",
        "dfa.drop(['Categoria'],axis=1,inplace=True)\n",
        "dfa = pd.concat([dfa,one_hot],axis=1)\n",
        "#dfa.head()\n",
        "\n",
        "#Vetorizando\n",
        "val=dfa['texto'].values\n",
        "val_f = bow.transform(val)\n",
        "\n",
        "#Term Frequency, Inverse Document Frequency\n",
        "val_f = tfidf.fit_transform(val_f)\n",
        "val_f = val_f.toarray()\n",
        "#Aplicando a predição da rede neural\n",
        "preds = model.predict(val_f)\n",
        "#Separando apenas o resultado predito\n",
        "PRED_RN = pd.DataFrame(preds, columns=['Negativo','Neutro','Positivo'])\n",
        "#Organizando em uma única coluna os resultados\n",
        "PRED_RN.loc[((PRED_RN['Negativo'] > PRED_RN['Neutro']) & (PRED_RN['Negativo'] > PRED_RN['Positivo'])),'PRED_RN'] = 'Negativo' \n",
        "PRED_RN.loc[((PRED_RN['Neutro'] > PRED_RN['Negativo']) & (PRED_RN['Neutro'] > PRED_RN['Positivo'])),'PRED_RN'] = 'Neutro'  \n",
        "PRED_RN.loc[((PRED_RN['Positivo'] > PRED_RN['Neutro']) & (PRED_RN['Positivo'] > PRED_RN['Negativo'])),'PRED_RN'] = 'Positivo' \n"
      ],
      "execution_count": 100,
      "outputs": []
    },
    {
      "cell_type": "code",
      "metadata": {
        "id": "od9gkYhZWcpP"
      },
      "source": [
        "#Juntando todos os dados das prediçãos realizada (RL/RF/NB/PAC/RN) com a massa de validação e a coluna Categoria com a informação que correta.\n",
        "saida_completa = pd.concat([df_validacao['texto_original'],df_validacao['texto'],df_validacao['Categoria'],PRED_RN,PRED_LR,PRED_RF,PRED_NB,PRED_PA], axis=1,) \\\n",
        "            [['texto_original','texto','Categoria','PRED_RN','PRED_LR', 'PRED_RF','PRED_NB','PRED_PA']]"
      ],
      "execution_count": 101,
      "outputs": []
    },
    {
      "cell_type": "code",
      "metadata": {
        "id": "5-jxxSu7wDRp"
      },
      "source": [
        "#Visualizando uma parte dos dados\n",
        "#saida_completa.loc[0:899].sample(300)\n",
        "saida_completa.loc[0:899].query('Categoria == \"Negativo\"').sample(30)\n",
        "#saida_completa.loc[0:899].query('Categoria == \"Neutro\"').sample(30)\n",
        "#saida_completa.loc[0:899].query('Categoria == \"Positivo\"').sample(30)"
      ],
      "execution_count": null,
      "outputs": []
    },
    {
      "cell_type": "markdown",
      "metadata": {
        "id": "c3u-nsHv5vhg"
      },
      "source": [
        "##Quantitativos e Percentuais de acerto dos modelos\n",
        "Verificando qual modelo apresentou melhores resultado."
      ]
    },
    {
      "cell_type": "code",
      "metadata": {
        "id": "BLd8_8ElOc7E"
      },
      "source": [
        "#Montando a tabela de qtd classificada corretamente\n",
        "saida_completa.insert(loc=1, column='sent', value=1)\n",
        "names_1 = list(saida_completa.columns[1:])\n",
        "names_2 = list(saida_completa.columns[3:])\n",
        "np_col=saida_completa['Categoria'].to_numpy()\n",
        "calclist = [np.where(saida_completa['Categoria']==saida_completa[col], 1, 0) for col in saida_completa.columns[2:]]\n",
        "calclist.insert(0, np_col)\n",
        "dic = dict(zip(names_1, calclist))\n",
        "df_dic = pd.DataFrame(dic)\n",
        "cont_2 = df_dic.groupby(by=['sent'],\n",
        "                          as_index=True).agg({'Categoria': 'sum', 'PRED_RN': 'sum', 'PRED_LR': 'sum','PRED_RF': 'sum', 'PRED_NB': 'sum', 'PRED_PA': 'sum'})\n",
        "cont_2.rename(columns={'Categoria': 'TOTAL'}, inplace=True)\n",
        "\n",
        "#-------------------------------------------------------------------\n",
        "#Montando a tabela de percentuais de acertos\n",
        "percent = [round(cont_2[col] / cont_2['TOTAL'] * 100,2) for col in cont_2.columns]\n",
        "tab_perc = pd.DataFrame().join(percent, how=\"outer\").fillna(0)\n",
        "tab_perc.set_axis(names_2, axis=1, inplace=True)\n",
        "tab_perc.drop('Categoria', axis=1, inplace=True)"
      ],
      "execution_count": 102,
      "outputs": []
    },
    {
      "cell_type": "code",
      "metadata": {
        "colab": {
          "base_uri": "https://localhost:8080/",
          "height": 190
        },
        "id": "ntJNU7L0oN1j",
        "outputId": "676e60e6-4903-4f65-8960-5a6e1f68b632"
      },
      "source": [
        "print('\\x1b[1;34m'+'QTDE. CLASSIFICADA CORRETAMENTE'.center(65)+'\\x1b[0m')\n",
        "cont_2"
      ],
      "execution_count": 105,
      "outputs": [
        {
          "output_type": "stream",
          "name": "stdout",
          "text": [
            "\u001b[1;34m                 QTDE. CLASSIFICADA CORRETAMENTE                 \u001b[0m\n"
          ]
        },
        {
          "output_type": "execute_result",
          "data": {
            "text/html": [
              "<div>\n",
              "<style scoped>\n",
              "    .dataframe tbody tr th:only-of-type {\n",
              "        vertical-align: middle;\n",
              "    }\n",
              "\n",
              "    .dataframe tbody tr th {\n",
              "        vertical-align: top;\n",
              "    }\n",
              "\n",
              "    .dataframe thead th {\n",
              "        text-align: right;\n",
              "    }\n",
              "</style>\n",
              "<table border=\"1\" class=\"dataframe\">\n",
              "  <thead>\n",
              "    <tr style=\"text-align: right;\">\n",
              "      <th></th>\n",
              "      <th>TOTAL</th>\n",
              "      <th>PRED_RN</th>\n",
              "      <th>PRED_LR</th>\n",
              "      <th>PRED_RF</th>\n",
              "      <th>PRED_NB</th>\n",
              "      <th>PRED_PA</th>\n",
              "    </tr>\n",
              "    <tr>\n",
              "      <th>sent</th>\n",
              "      <th></th>\n",
              "      <th></th>\n",
              "      <th></th>\n",
              "      <th></th>\n",
              "      <th></th>\n",
              "      <th></th>\n",
              "    </tr>\n",
              "  </thead>\n",
              "  <tbody>\n",
              "    <tr>\n",
              "      <th>Negativo</th>\n",
              "      <td>300</td>\n",
              "      <td>174</td>\n",
              "      <td>78</td>\n",
              "      <td>98</td>\n",
              "      <td>61</td>\n",
              "      <td>87</td>\n",
              "    </tr>\n",
              "    <tr>\n",
              "      <th>Neutro</th>\n",
              "      <td>298</td>\n",
              "      <td>216</td>\n",
              "      <td>193</td>\n",
              "      <td>184</td>\n",
              "      <td>143</td>\n",
              "      <td>162</td>\n",
              "    </tr>\n",
              "    <tr>\n",
              "      <th>Positivo</th>\n",
              "      <td>300</td>\n",
              "      <td>230</td>\n",
              "      <td>48</td>\n",
              "      <td>84</td>\n",
              "      <td>149</td>\n",
              "      <td>47</td>\n",
              "    </tr>\n",
              "  </tbody>\n",
              "</table>\n",
              "</div>"
            ],
            "text/plain": [
              "          TOTAL  PRED_RN  PRED_LR  PRED_RF  PRED_NB  PRED_PA\n",
              "sent                                                        \n",
              "Negativo  300    174      78       98       61       87     \n",
              "Neutro    298    216      193      184      143      162    \n",
              "Positivo  300    230      48       84       149      47     "
            ]
          },
          "metadata": {},
          "execution_count": 105
        }
      ]
    },
    {
      "cell_type": "code",
      "metadata": {
        "colab": {
          "base_uri": "https://localhost:8080/",
          "height": 159
        },
        "id": "gzE6K3Z3PJge",
        "outputId": "7df2be49-7f13-4ade-f9f6-a8f93baf2bf4"
      },
      "source": [
        "print('\\x1b[1;34m'+'PERCENTUAIS DE ACERTOS'.center(60)+'\\x1b[0m')\n",
        "tab_perc"
      ],
      "execution_count": 104,
      "outputs": [
        {
          "output_type": "stream",
          "name": "stdout",
          "text": [
            "\u001b[1;34m                   PERCENTUAIS DE ACERTOS                   \u001b[0m\n"
          ]
        },
        {
          "output_type": "execute_result",
          "data": {
            "text/html": [
              "<div>\n",
              "<style scoped>\n",
              "    .dataframe tbody tr th:only-of-type {\n",
              "        vertical-align: middle;\n",
              "    }\n",
              "\n",
              "    .dataframe tbody tr th {\n",
              "        vertical-align: top;\n",
              "    }\n",
              "\n",
              "    .dataframe thead th {\n",
              "        text-align: right;\n",
              "    }\n",
              "</style>\n",
              "<table border=\"1\" class=\"dataframe\">\n",
              "  <thead>\n",
              "    <tr style=\"text-align: right;\">\n",
              "      <th></th>\n",
              "      <th>PRED_RN</th>\n",
              "      <th>PRED_LR</th>\n",
              "      <th>PRED_RF</th>\n",
              "      <th>PRED_NB</th>\n",
              "      <th>PRED_PA</th>\n",
              "    </tr>\n",
              "  </thead>\n",
              "  <tbody>\n",
              "    <tr>\n",
              "      <th>Negativo</th>\n",
              "      <td>58.00</td>\n",
              "      <td>26.00</td>\n",
              "      <td>32.67</td>\n",
              "      <td>20.33</td>\n",
              "      <td>29.00</td>\n",
              "    </tr>\n",
              "    <tr>\n",
              "      <th>Neutro</th>\n",
              "      <td>72.48</td>\n",
              "      <td>64.77</td>\n",
              "      <td>61.74</td>\n",
              "      <td>47.99</td>\n",
              "      <td>54.36</td>\n",
              "    </tr>\n",
              "    <tr>\n",
              "      <th>Positivo</th>\n",
              "      <td>76.67</td>\n",
              "      <td>16.00</td>\n",
              "      <td>28.00</td>\n",
              "      <td>49.67</td>\n",
              "      <td>15.67</td>\n",
              "    </tr>\n",
              "  </tbody>\n",
              "</table>\n",
              "</div>"
            ],
            "text/plain": [
              "          PRED_RN  PRED_LR  PRED_RF  PRED_NB  PRED_PA\n",
              "Negativo  58.00    26.00    32.67    20.33    29.00  \n",
              "Neutro    72.48    64.77    61.74    47.99    54.36  \n",
              "Positivo  76.67    16.00    28.00    49.67    15.67  "
            ]
          },
          "metadata": {},
          "execution_count": 104
        }
      ]
    },
    {
      "cell_type": "markdown",
      "metadata": {
        "id": "eZTqs5g9MpHr"
      },
      "source": [
        "---\n",
        "# **Área de Experimento**\n",
        "Essa área e destinada a análise dos tweets que foram carregados no ínicio do processamento, será utilizando o modelo de Rede Neural com tensorflow que apresentou melhores resultados.\n"
      ]
    },
    {
      "cell_type": "code",
      "metadata": {
        "id": "ddMCWR8uH-Cg"
      },
      "source": [
        "#buscando dados do df_tratado\n",
        "df_experimento_final = df_tratado.query('Categoria == \"Experimento\"').drop('num_cat', axis=1)\n",
        "df_experimento_final.reset_index(drop=False, inplace=True)"
      ],
      "execution_count": 73,
      "outputs": []
    },
    {
      "cell_type": "code",
      "metadata": {
        "id": "aL_wswmaHth1"
      },
      "source": [
        "#Vetorizando\n",
        "val=df_experimento_final['texto'].values\n",
        "val_f = bow.transform(val)\n",
        "\n",
        "#Term Frequency, Inverse Document Frequency\n",
        "val_f = tfidf.fit_transform(val_f)\n",
        "val_f = val_f.toarray()\n",
        "#Aplicando a predição da rede neural\n",
        "preds = model.predict(val_f)"
      ],
      "execution_count": 74,
      "outputs": []
    },
    {
      "cell_type": "code",
      "metadata": {
        "id": "VPcgV9lnJ8Fk"
      },
      "source": [
        "#Separando apenas o resultado predito\n",
        "PRED_FINAL = pd.DataFrame(preds, columns=['Negativo','Neutro','Positivo'])\n",
        "#Organizando em uma única coluna os resultados\n",
        "PRED_FINAL.loc[((PRED_FINAL['Negativo'] > PRED_FINAL['Neutro']) & (PRED_FINAL['Negativo'] > PRED_FINAL['Positivo'])),'PRED_FINAL'] = 'Negativo' \n",
        "PRED_FINAL.loc[((PRED_FINAL['Neutro'] > PRED_FINAL['Negativo']) & (PRED_FINAL['Neutro'] > PRED_FINAL['Positivo'])),'PRED_FINAL'] = 'Neutro'  \n",
        "PRED_FINAL.loc[((PRED_FINAL['Positivo'] > PRED_FINAL['Neutro']) & (PRED_FINAL['Positivo'] > PRED_FINAL['Negativo'])),'PRED_FINAL'] = 'Positivo' "
      ],
      "execution_count": 75,
      "outputs": []
    },
    {
      "cell_type": "code",
      "metadata": {
        "id": "CO4wnwPzKdRd"
      },
      "source": [
        "#Juntando os dados das prediçãos realizada com o modelo que achamos melhor, classificação utilizando rede neural (Tensorflow) com os dados coletados no tweet.\n",
        "saida_final = pd.concat([df_experimento_final['texto_original'],df_experimento_final['texto'],PRED_FINAL], axis=1,)[['texto_original','texto','PRED_FINAL']]"
      ],
      "execution_count": 76,
      "outputs": []
    },
    {
      "cell_type": "code",
      "metadata": {
        "id": "VB5ug-0DK1EE",
        "colab": {
          "base_uri": "https://localhost:8080/",
          "height": 0
        },
        "outputId": "07551287-cdc4-4123-96fa-df7453e1ed48"
      },
      "source": [
        "#Exibindo 50 linhas aleatórias\n",
        "saida_final.loc[0:299].sample(300)"
      ],
      "execution_count": 77,
      "outputs": [
        {
          "output_type": "execute_result",
          "data": {
            "text/html": [
              "<div>\n",
              "<style scoped>\n",
              "    .dataframe tbody tr th:only-of-type {\n",
              "        vertical-align: middle;\n",
              "    }\n",
              "\n",
              "    .dataframe tbody tr th {\n",
              "        vertical-align: top;\n",
              "    }\n",
              "\n",
              "    .dataframe thead th {\n",
              "        text-align: right;\n",
              "    }\n",
              "</style>\n",
              "<table border=\"1\" class=\"dataframe\">\n",
              "  <thead>\n",
              "    <tr style=\"text-align: right;\">\n",
              "      <th></th>\n",
              "      <th>texto_original</th>\n",
              "      <th>texto</th>\n",
              "      <th>PRED_FINAL</th>\n",
              "    </tr>\n",
              "  </thead>\n",
              "  <tbody>\n",
              "    <tr>\n",
              "      <th>32</th>\n",
              "      <td>pra mim correios tinha que trabalhar todo dia, pra deixar de entregar as coisas atrasado</td>\n",
              "      <td>mim trabalhar todo dia deixar entregar coisas atrasado</td>\n",
              "      <td>Negativo</td>\n",
              "    </tr>\n",
              "    <tr>\n",
              "      <th>226</th>\n",
              "      <td>depois do cara dos correios ser imensamente grosso comigo chego no carro e por um minuto ele não eh rebocado sextou</td>\n",
              "      <td>cara imensamente groso comigo chego caro minuto nao rebocado sextou</td>\n",
              "      <td>Negativo</td>\n",
              "    </tr>\n",
              "    <tr>\n",
              "      <th>11</th>\n",
              "      <td>Eu animadíssimaaaaaa\\n2 mins dps lembrei que seria impossível pois os correios podem foder com tudo já que tratam as encomendas feitos ogrooos ai que raiva</td>\n",
              "      <td>animadisima mins dps lembrei imposivel pois podem foder tudo tratam encomendas feitos ogros raiva</td>\n",
              "      <td>Negativo</td>\n",
              "    </tr>\n",
              "    <tr>\n",
              "      <th>36</th>\n",
              "      <td>Meu relógio do Edward já chegou :c mas os correios estão fechados pra virada do ano.\\n\\nEu vou pegar ele só na quarta ou na quinta :c</td>\n",
              "      <td>relogio edward chegou fechados virada ano pegar quarta quinta</td>\n",
              "      <td>Positivo</td>\n",
              "    </tr>\n",
              "    <tr>\n",
              "      <th>94</th>\n",
              "      <td>a desgraça dos Correios devolveu minha mercadoria que eu to esperando a 3 meses pra China</td>\n",
              "      <td>desgraca devolveu mercadoria esperando meses china</td>\n",
              "      <td>Negativo</td>\n",
              "    </tr>\n",
              "    <tr>\n",
              "      <th>250</th>\n",
              "      <td>tomara que segunda os correios entregue meus anéis</td>\n",
              "      <td>tomara segunda entregue aneis</td>\n",
              "      <td>Negativo</td>\n",
              "    </tr>\n",
              "    <tr>\n",
              "      <th>162</th>\n",
              "      <td>Queria uma boa notícia dos correios... Só uma...</td>\n",
              "      <td>queria boa noticia coreios uma</td>\n",
              "      <td>Neutro</td>\n",
              "    </tr>\n",
              "    <tr>\n",
              "      <th>258</th>\n",
              "      <td>Eu fico imaginando quem pede privatização dos Correios certamente não passou raiva com transportadora.</td>\n",
              "      <td>fico imaginando pede privatizacao certamente nao pasou raiva transportadora</td>\n",
              "      <td>Neutro</td>\n",
              "    </tr>\n",
              "    <tr>\n",
              "      <th>292</th>\n",
              "      <td>minhas arma me acordaram pra assinar um papel e de tarde meu pai vai nos correios retirar</td>\n",
              "      <td>arma acordaram asinar papel tarde pai retirar</td>\n",
              "      <td>Neutro</td>\n",
              "    </tr>\n",
              "    <tr>\n",
              "      <th>48</th>\n",
              "      <td>N preciso pombos correios, obg😀</td>\n",
              "      <td>preciso pombos coreios obg</td>\n",
              "      <td>Neutro</td>\n",
              "    </tr>\n",
              "    <tr>\n",
              "      <th>243</th>\n",
              "      <td>última sexta do ano q ja começou eu me chateando e agora puta com os correios...</td>\n",
              "      <td>ultima sexta comecou chateando agora puta coreios</td>\n",
              "      <td>Negativo</td>\n",
              "    </tr>\n",
              "    <tr>\n",
              "      <th>158</th>\n",
              "      <td>Não há necessidade de xingar o Correios aqui, porque eu já não tenho mais saco pra isso. O jeito é ir naquela MERDA de agência segunda-feira e pessoalmente pegar a correspondência, porque não vale a pena se estressar com esses carteiros inúteis dessa cidade.</td>\n",
              "      <td>nao necesidade xingar aqui porque nao saco iso jeito naquela merda agencia segundafeira pesoalmente pegar corespondencia porque nao vale pena estresar eses carteiros inuteis desa cidade</td>\n",
              "      <td>Negativo</td>\n",
              "    </tr>\n",
              "    <tr>\n",
              "      <th>137</th>\n",
              "      <td>Curitiba é o limbo dos correios, pqp</td>\n",
              "      <td>curitiba limbo coreios pqp</td>\n",
              "      <td>Negativo</td>\n",
              "    </tr>\n",
              "    <tr>\n",
              "      <th>154</th>\n",
              "      <td>olhei agr no site dos Correios minha blusa do Flamengo passou por Curitiba ontem e ta chegando em São Paulo, mano tomara q chegue no rio antes do dia 31 q eu acho q é quase impossível 😔</td>\n",
              "      <td>olhei agr site blusa flamengo pasou curitiba ontem chegando paulo mano tomara chegue rio antes dia acho quase imposivel</td>\n",
              "      <td>Neutro</td>\n",
              "    </tr>\n",
              "    <tr>\n",
              "      <th>90</th>\n",
              "      <td>Definitivamente eu odeio os correios</td>\n",
              "      <td>definitivamente odeio</td>\n",
              "      <td>Negativo</td>\n",
              "    </tr>\n",
              "    <tr>\n",
              "      <th>164</th>\n",
              "      <td>Ah mano porra eu sou mt ansioso pq q o Correios só funciona dia de semana??????? Vou ter q esperar DOIS dias pra chegar minha mesa sendo q já chegou aqui na cidade oh caraio</td>\n",
              "      <td>mano pora ansioso funciona dia semana esperar dois dias chegar mesa sendo chegou aqui cidade caraio</td>\n",
              "      <td>Negativo</td>\n",
              "    </tr>\n",
              "    <tr>\n",
              "      <th>128</th>\n",
              "      <td>correios socaram no cy meu album</td>\n",
              "      <td>socaram album</td>\n",
              "      <td>Negativo</td>\n",
              "    </tr>\n",
              "    <tr>\n",
              "      <th>96</th>\n",
              "      <td>Aí cara eu odeio os correios</td>\n",
              "      <td>cara odeio</td>\n",
              "      <td>Negativo</td>\n",
              "    </tr>\n",
              "    <tr>\n",
              "      <th>24</th>\n",
              "      <td>PELO AMOR DE DEUS TOMARA QUE OS CORREIOS TRABALHEM AMANHÃ, principalmente o SEDEX QUE PAGUEI.</td>\n",
              "      <td>amor deus tomara trabalhem amanha principalmente sedex paguei</td>\n",
              "      <td>Neutro</td>\n",
              "    </tr>\n",
              "    <tr>\n",
              "      <th>297</th>\n",
              "      <td>Eu ODEIO os correios, sempre acabo me estressando toda vez que encomendo algo! Que porcaria</td>\n",
              "      <td>odeio coreios sempre acabo estresando toda vez encomendo algo porcaria</td>\n",
              "      <td>Negativo</td>\n",
              "    </tr>\n",
              "    <tr>\n",
              "      <th>68</th>\n",
              "      <td>os correios estão cobrando desde agosto R$15 por pacote de compra internacional mesmo não sendo tacado pela receita. além de impostos que pagamos para manter o péssimo serviço deles agora temos que pagar 15 reais por pacote, isso é um absurdo.</td>\n",
              "      <td>cobrando desde agosto r15 pacote compra internacional nao sendo tacado receita alem impostos pagamos manter pesimo servico agora pagar reais pacote absurdo</td>\n",
              "      <td>Negativo</td>\n",
              "    </tr>\n",
              "    <tr>\n",
              "      <th>295</th>\n",
              "      <td>Será que e só a minha roupa que não chego dos correios 🏤🥺</td>\n",
              "      <td>roupa nao chego</td>\n",
              "      <td>Negativo</td>\n",
              "    </tr>\n",
              "    <tr>\n",
              "      <th>280</th>\n",
              "      <td>- Na ditadura que era bom! Os Correios eram uma empresa respeitável e eficiente, orgulho do Brasil. \\n- Querem vender com os Correios.\\n- Tá certo! Bando de vagabundos que nunca fizeram nada direito e blá blá blá...</td>\n",
              "      <td>ditadura bom empresa respeitavel eficiente orgulho brasil querem vender coreios certo bando vagabundos nunca fizeram nada direito bla bla bla</td>\n",
              "      <td>Neutro</td>\n",
              "    </tr>\n",
              "    <tr>\n",
              "      <th>190</th>\n",
              "      <td>Que raiva dos Correios</td>\n",
              "      <td>raiva</td>\n",
              "      <td>Negativo</td>\n",
              "    </tr>\n",
              "    <tr>\n",
              "      <th>66</th>\n",
              "      <td>to bem arrasada com esses correios que eu recebi esse ano, sério! foi lindo demais, mas nem parecia que eu ia tomar no cu</td>\n",
              "      <td>bem arasada eses recebi ese ano serio lindo demais parecia tomar</td>\n",
              "      <td>Negativo</td>\n",
              "    </tr>\n",
              "    <tr>\n",
              "      <th>200</th>\n",
              "      <td>Meu white people problem de hoje é: vendi minha calça da Amaro e acabei de sair dos correios. No ônibus voltando pra casa, outra roupa foi comprada. EU PODERIA TER DADO SÓ UMA VIAGEM.</td>\n",
              "      <td>white people problem hoje vendi calca amaro acabei sair coreios onibus voltando casa outra roupa comprada poderia dado viagem</td>\n",
              "      <td>Neutro</td>\n",
              "    </tr>\n",
              "    <tr>\n",
              "      <th>57</th>\n",
              "      <td>Vey pq q o perfil oficial do Correios tá curtindo o Twitter do Bonoro? Kkkkkkkk paia isso</td>\n",
              "      <td>vey perfil oficial curtindo twiter bonoro paia</td>\n",
              "      <td>Negativo</td>\n",
              "    </tr>\n",
              "    <tr>\n",
              "      <th>95</th>\n",
              "      <td>os correios colocaram que meu endereço está errado só pra não entregar meus produtos hoje. que raiva</td>\n",
              "      <td>colocaram endereco erado nao entregar produtos hoje raiva</td>\n",
              "      <td>Negativo</td>\n",
              "    </tr>\n",
              "    <tr>\n",
              "      <th>123</th>\n",
              "      <td>Caramba é preciso de muita sorte pra isso acontecer! Agora não tenho uma encomenda perdida pelos Correios. Eu tenho DUAS!!!! Valeu @CorreiosBR é preciso de muita competência pra deixar isso acontecer. Serviço nota 1000. 🤬😡🤬😡</td>\n",
              "      <td>caramba preciso muita sorte acontecer agora nao encomenda perdida coreios duas valeu preciso muita competencia deixar acontecer servico nota</td>\n",
              "      <td>Neutro</td>\n",
              "    </tr>\n",
              "    <tr>\n",
              "      <th>131</th>\n",
              "      <td>correios cobrem mais barato por favor ja n tenho dinheiro e tenho q devolver vários livros</td>\n",
              "      <td>cobrem barato favor dinheiro devolver varios livros</td>\n",
              "      <td>Neutro</td>\n",
              "    </tr>\n",
              "    <tr>\n",
              "      <th>102</th>\n",
              "      <td>o sistema dos correios tá um lixo esse fim de ano, hein?</td>\n",
              "      <td>sistema lixo ese fim ano hein</td>\n",
              "      <td>Negativo</td>\n",
              "    </tr>\n",
              "    <tr>\n",
              "      <th>181</th>\n",
              "      <td>odeio mt os correios por me fazer andar tento</td>\n",
              "      <td>odeio fazer andar tento</td>\n",
              "      <td>Negativo</td>\n",
              "    </tr>\n",
              "    <tr>\n",
              "      <th>76</th>\n",
              "      <td>A pior parte de fazer #comprasonline é esperar a entrega, principalmente se é feita pelos #correios</td>\n",
              "      <td>pior parte fazer esperar entrega principalmente feita</td>\n",
              "      <td>Positivo</td>\n",
              "    </tr>\n",
              "    <tr>\n",
              "      <th>70</th>\n",
              "      <td>Meu tear já ta em porto alegre o q fode é q os correios de Viamão demoram uma eternidade</td>\n",
              "      <td>tear porto alegre fode viamao demoram eternidade</td>\n",
              "      <td>Negativo</td>\n",
              "    </tr>\n",
              "    <tr>\n",
              "      <th>201</th>\n",
              "      <td>O mano, no correios ta falando que foi entregue minha camisa eu não recebi nada</td>\n",
              "      <td>mano falando entregue camisa nao recebi nada</td>\n",
              "      <td>Negativo</td>\n",
              "    </tr>\n",
              "    <tr>\n",
              "      <th>187</th>\n",
              "      <td>O celular encomendado não chegou, estou há dias na enrolação pelo cancelamento e reembolso e me chega o chip que era brinde da compra. O CHIP. Só pra me dar mais um trabalho de eu ir aos Correios pra devolver.</td>\n",
              "      <td>celular encomendado nao chegou dias enrolacao cancelamento rembolso chega chip brinde compra chip dar trabalho devolver</td>\n",
              "      <td>Negativo</td>\n",
              "    </tr>\n",
              "    <tr>\n",
              "      <th>28</th>\n",
              "      <td>Sonhei que tava na praia pro ano novo, 3 caminhões afundaram no mar, um dor correios, um da coca e um da Ambev</td>\n",
              "      <td>sonhei tava praia novo caminhoes afundaram mar dor coreios coca ambev</td>\n",
              "      <td>Neutro</td>\n",
              "    </tr>\n",
              "    <tr>\n",
              "      <th>156</th>\n",
              "      <td>Maioria das pessoas que trabalham nos correios são uns filhos da puta ...</td>\n",
              "      <td>maioria pesoas trabalham uns filhos puta</td>\n",
              "      <td>Negativo</td>\n",
              "    </tr>\n",
              "    <tr>\n",
              "      <th>254</th>\n",
              "      <td>Tenho uma teoria de que quanto mais você rastreia um pedido nos correios, mas ele demora a chegar</td>\n",
              "      <td>teoria quanto rastreia pedido coreios demora chegar</td>\n",
              "      <td>Negativo</td>\n",
              "    </tr>\n",
              "    <tr>\n",
              "      <th>204</th>\n",
              "      <td>Certeza que a minha bolsa vai chegar quando eu estiver lá na praia e eu vou ter que ficar ligando pro centro de distribuição dos correios aqui perto de casa pra ver se eles seguram a minha encomenda ali pra eu pegar dia 7 ou p pedir pros meus pais pegarem dia 3</td>\n",
              "      <td>certeza bolsa chegar praia ficar ligando centro distribuicao aqui perto casa ver seguram encomenda ali pegar dia pedir pros pais pegarem dia</td>\n",
              "      <td>Neutro</td>\n",
              "    </tr>\n",
              "    <tr>\n",
              "      <th>86</th>\n",
              "      <td>Foda se foi a única que não recebeu as notas 😭 esqueceram se de mim, vou processar os correios 😂😂</td>\n",
              "      <td>foda unica nao recebeu notas esqueceram mim procesar</td>\n",
              "      <td>Negativo</td>\n",
              "    </tr>\n",
              "    <tr>\n",
              "      <th>217</th>\n",
              "      <td>Correios acelera o passo para meu bot chegar logo</td>\n",
              "      <td>acelera paso bot chegar logo</td>\n",
              "      <td>Negativo</td>\n",
              "    </tr>\n",
              "    <tr>\n",
              "      <th>22</th>\n",
              "      <td>Fiz três compras internacionais no final de novembro. \\nEm duas delas eu não fui cobrada pelos correios: já foram entregues.\\nEm uma me foi cobrada a nova taxa de 15 reais dos correios. O prazo pra chegar na minha casa é 40 dias úteis. \\n\\nMas era pra agilizar o processo, né?</td>\n",
              "      <td>fiz tres compras internacionais final novembro duas nao cobrada coreios entregues cobrada nova taxa reais coreios prazo chegar casa dias uteis agilizar proceso</td>\n",
              "      <td>Positivo</td>\n",
              "    </tr>\n",
              "    <tr>\n",
              "      <th>19</th>\n",
              "      <td>mano eu vi agora q picharam \"privatiza\" no portão do Correios aqui na rua de trás de casa</td>\n",
              "      <td>mano agora picharam privatiza portao aqui rua tras casa</td>\n",
              "      <td>Neutro</td>\n",
              "    </tr>\n",
              "    <tr>\n",
              "      <th>135</th>\n",
              "      <td>Meu sofrimento é acompanhar o pedido pelos correios</td>\n",
              "      <td>sofrimento acompanhar pedido</td>\n",
              "      <td>Neutro</td>\n",
              "    </tr>\n",
              "    <tr>\n",
              "      <th>85</th>\n",
              "      <td>correios entregando num sábado, quem te viu quem te vê</td>\n",
              "      <td>entregando sabado viu</td>\n",
              "      <td>Neutro</td>\n",
              "    </tr>\n",
              "    <tr>\n",
              "      <th>212</th>\n",
              "      <td>Os correios poderiam me ajudar, que demora</td>\n",
              "      <td>poderiam ajudar demora</td>\n",
              "      <td>Neutro</td>\n",
              "    </tr>\n",
              "    <tr>\n",
              "      <th>63</th>\n",
              "      <td>Partiu Fut nos Correios!</td>\n",
              "      <td>partiu fut coreios</td>\n",
              "      <td>Neutro</td>\n",
              "    </tr>\n",
              "    <tr>\n",
              "      <th>9</th>\n",
              "      <td>Próximo quinta feira o carteiro do correios vai cansar de passar aqui em casa</td>\n",
              "      <td>proximo quinta feira carteiro cansar pasar aqui casa</td>\n",
              "      <td>Neutro</td>\n",
              "    </tr>\n",
              "    <tr>\n",
              "      <th>290</th>\n",
              "      <td>Não acharia nem um pouco ruim dos Correios entregarem o meu terno hoje</td>\n",
              "      <td>nao acharia pouco ruim entregarem terno hoje</td>\n",
              "      <td>Neutro</td>\n",
              "    </tr>\n",
              "    <tr>\n",
              "      <th>248</th>\n",
              "      <td>Mais uma vez @LojasMarabraz @LojaMarabraz @zcloficial fazem eu retornar aos #Correios para gastar mais $15 em AR com a falta de respeito deles com nós #Consumidores</td>\n",
              "      <td>vez fazem retornar gastar falta respeito</td>\n",
              "      <td>Negativo</td>\n",
              "    </tr>\n",
              "    <tr>\n",
              "      <th>246</th>\n",
              "      <td>não vou mais responder os correios</td>\n",
              "      <td>nao responder</td>\n",
              "      <td>Negativo</td>\n",
              "    </tr>\n",
              "    <tr>\n",
              "      <th>279</th>\n",
              "      <td>Já rodei o terreno todo esperando os correios</td>\n",
              "      <td>rodei tereno todo esperando</td>\n",
              "      <td>Neutro</td>\n",
              "    </tr>\n",
              "    <tr>\n",
              "      <th>14</th>\n",
              "      <td>Ei @jairbolsonaro tira o monopólio dos correios para logística que vc vai ver o país crescer.</td>\n",
              "      <td>tira monopolio logistica ver pais crescer</td>\n",
              "      <td>Neutro</td>\n",
              "    </tr>\n",
              "    <tr>\n",
              "      <th>205</th>\n",
              "      <td>Que preguiça de ir aos correios</td>\n",
              "      <td>preguica</td>\n",
              "      <td>Neutro</td>\n",
              "    </tr>\n",
              "    <tr>\n",
              "      <th>50</th>\n",
              "      <td>MANO QUE AGONIA\\n\\no negócio já tá no Correios mas só dá pra pegar segunda</td>\n",
              "      <td>mano agonia negocio pegar segunda</td>\n",
              "      <td>Neutro</td>\n",
              "    </tr>\n",
              "    <tr>\n",
              "      <th>151</th>\n",
              "      <td>Pensei q o Correios dos EUA fosse mais organizado mas depois dessa gsus</td>\n",
              "      <td>pensei eua fose organizado desa gsus</td>\n",
              "      <td>Positivo</td>\n",
              "    </tr>\n",
              "    <tr>\n",
              "      <th>127</th>\n",
              "      <td>toda vez que o app do correios atualiza minha encomenda eu choro</td>\n",
              "      <td>toda vez atualiza encomenda choro</td>\n",
              "      <td>Neutro</td>\n",
              "    </tr>\n",
              "    <tr>\n",
              "      <th>34</th>\n",
              "      <td>Nesse réveillon vou agradecer a Deus por está vivo ainda agradecer pelos livramentos\\nAgradecer pela minha família que está todo mundo bem \\nOque importa e está com saúde o resto nos correios atrás</td>\n",
              "      <td>nese reveilon agradecer deus vivo ainda agradecer livramentos agradecer familia todo mundo bem oque importa saude resto atras</td>\n",
              "      <td>Positivo</td>\n",
              "    </tr>\n",
              "    <tr>\n",
              "      <th>236</th>\n",
              "      <td>Será que a Manuela vai defender a privatização dos Correios quando começar a receber reclamações de atrasos nas entregas?</td>\n",
              "      <td>manuela defender privatizacao comecar receber reclamacoes atrasos entregas</td>\n",
              "      <td>Neutro</td>\n",
              "    </tr>\n",
              "    <tr>\n",
              "      <th>33</th>\n",
              "      <td>e meu mouse ainda n chego\\nodeio os correios</td>\n",
              "      <td>mouse ainda chego odeio</td>\n",
              "      <td>Positivo</td>\n",
              "    </tr>\n",
              "    <tr>\n",
              "      <th>3</th>\n",
              "      <td>Mn sé o correios entregar o bgl amanhã eu vou ficar muito feliz pprt</td>\n",
              "      <td>entregar bgl amanha ficar feliz prt</td>\n",
              "      <td>Neutro</td>\n",
              "    </tr>\n",
              "    <tr>\n",
              "      <th>80</th>\n",
              "      <td>Fui aos correios do shopping fazer os últimos envios do ano e Pedrinho pediu p ir agradecer o papai noel pelos presentes desse ano 😂😍\\nComo não se orgulhar do ser humano que ele esta se formando?!\\n#PedrinhoEducado #mamaebabona #Pedrinhograto #Pedrinho5anos\\n🎅🎄🎁</td>\n",
              "      <td>shoping fazer ultimos envios pedrinho pediu agradecer papai noel presentes dese nao orgulhar humano formando</td>\n",
              "      <td>Neutro</td>\n",
              "    </tr>\n",
              "    <tr>\n",
              "      <th>47</th>\n",
              "      <td>Correios taxando o caralho todo vai se foder</td>\n",
              "      <td>taxando caralho todo foder</td>\n",
              "      <td>Negativo</td>\n",
              "    </tr>\n",
              "    <tr>\n",
              "      <th>171</th>\n",
              "      <td>Nada no Brasil é pior que os Correios, pqp</td>\n",
              "      <td>nada brasil pior coreios pqp</td>\n",
              "      <td>Negativo</td>\n",
              "    </tr>\n",
              "    <tr>\n",
              "      <th>91</th>\n",
              "      <td>tem 116 pessoas na minha frente aqui na fila dos correios</td>\n",
              "      <td>pesoas frente aqui fila</td>\n",
              "      <td>Neutro</td>\n",
              "    </tr>\n",
              "    <tr>\n",
              "      <th>180</th>\n",
              "      <td>to em Vila velha trabalhando com meu patrao no correios😴</td>\n",
              "      <td>vila velha trabalhando patrao coreios</td>\n",
              "      <td>Negativo</td>\n",
              "    </tr>\n",
              "    <tr>\n",
              "      <th>165</th>\n",
              "      <td>Passei 40 anos nos correios, porém voltei com meus bbs</td>\n",
              "      <td>pasei anos coreios porem voltei</td>\n",
              "      <td>Neutro</td>\n",
              "    </tr>\n",
              "    <tr>\n",
              "      <th>232</th>\n",
              "      <td>Comprei um watercooler da @CoolerMaster na @kabumcombr que veio vazando líquido. Entrei em contato com a loja rapidamente após abertura da caixa e após o envio de algumas fotos e alguns protocolos de praxe eles prontamente enviaram um código dos correios, embalei certinho...</td>\n",
              "      <td>comprei watercoler veio vazando liquido entrei contato loja rapidamente apos abertura caixa apos envio algumas fotos alguns protocolos praxe prontamente enviaram codigo coreios embalei certinho</td>\n",
              "      <td>Neutro</td>\n",
              "    </tr>\n",
              "    <tr>\n",
              "      <th>104</th>\n",
              "      <td>um fret de 30 reais vc não ta querendo ajudar tbm correios</td>\n",
              "      <td>fret reais nao querendo ajudar tbm</td>\n",
              "      <td>Neutro</td>\n",
              "    </tr>\n",
              "    <tr>\n",
              "      <th>100</th>\n",
              "      <td>ontem os correios não entregaram nada e apareceu \"entrega não pode ser feita, carteiro não atendido\" aí agora o bagui saiu p entrega de novo, quero só ver</td>\n",
              "      <td>ontem nao entregaram nada apareceu entrega nao pode feita carteiro nao atendido agora bagui saiu entrega novo quero ver</td>\n",
              "      <td>Positivo</td>\n",
              "    </tr>\n",
              "    <tr>\n",
              "      <th>119</th>\n",
              "      <td>eu fiquei em casa a manhã inteira e minha avó o dia inteiro aí quando a gente sai a porra dos correios vem com a encomenda caralho em isso q eh sorte</td>\n",
              "      <td>fiquei casa manha inteira avo dia inteiro gente sai pora vem encomenda caralho sorte</td>\n",
              "      <td>Neutro</td>\n",
              "    </tr>\n",
              "    <tr>\n",
              "      <th>237</th>\n",
              "      <td>eu falei pro cara do correios esperar um minuto (e ele tava escutando pq ele tinha falado cmg) ele simplesmente FOI EMBORA FOI EMBORAAAA</td>\n",
              "      <td>falei cara esperar minuto tava escutando falado cmg simplesmente embora embora</td>\n",
              "      <td>Negativo</td>\n",
              "    </tr>\n",
              "    <tr>\n",
              "      <th>225</th>\n",
              "      <td>Pra posta algo tipo uma camisa ou coisa pequena pelo Correios tem que pagar isso ???</td>\n",
              "      <td>posta algo tipo camisa coisa pequena pagar</td>\n",
              "      <td>Positivo</td>\n",
              "    </tr>\n",
              "    <tr>\n",
              "      <th>281</th>\n",
              "      <td>Quem acha que privatizar os correios vai resolver tudo certamente não conhece os serviços da DirectLog</td>\n",
              "      <td>acha privatizar resolver tudo certamente nao conhece servicos directlog</td>\n",
              "      <td>Neutro</td>\n",
              "    </tr>\n",
              "    <tr>\n",
              "      <th>38</th>\n",
              "      <td>to esperando meu certificado pelos correios 😍✌🏻🤫🥴🤪</td>\n",
              "      <td>esperando certificado</td>\n",
              "      <td>Neutro</td>\n",
              "    </tr>\n",
              "    <tr>\n",
              "      <th>41</th>\n",
              "      <td>meus dois álbuns chegaram eh só ir buscar nos Correios e eu n aguento mais essa merda de praia eu to numa caverna quero minha casa meus albuns to surtando tudo num tuite pq n tenho internet p.mais</td>\n",
              "      <td>dois albuns chegaram buscar aguento merda praia caverna quero casa albuns surtando tudo tuite internet pmais</td>\n",
              "      <td>Negativo</td>\n",
              "    </tr>\n",
              "    <tr>\n",
              "      <th>222</th>\n",
              "      <td>Esses bofinho dos correios que isso já quero o contato</td>\n",
              "      <td>eses bofinho quero contato</td>\n",
              "      <td>Negativo</td>\n",
              "    </tr>\n",
              "    <tr>\n",
              "      <th>239</th>\n",
              "      <td>Mercado livre fdp, uma hora entrega no meu endereço outra não, tenho q ir lá nos correios</td>\n",
              "      <td>mercado livre fdp hora entrega endereco outra nao</td>\n",
              "      <td>Negativo</td>\n",
              "    </tr>\n",
              "    <tr>\n",
              "      <th>124</th>\n",
              "      <td>Como eu sou uma pessoa muito previnida, eu justifico a multa no site e via correios! #quemnunca</td>\n",
              "      <td>pesoa previnida justifico multa site via coreios</td>\n",
              "      <td>Neutro</td>\n",
              "    </tr>\n",
              "    <tr>\n",
              "      <th>51</th>\n",
              "      <td>a pior parte de vc esperar um pacote dos correios nem é sair do buraco negro q é curitiba e sim do buraco negro de resende, as coisas chegam aqui e eles entregam o dia que eles querem bichoooooo</td>\n",
              "      <td>pior parte esperar pacote sair buraco negro curitiba sim buraco negro resende coisas chegam aqui entregam dia querem bicho</td>\n",
              "      <td>Negativo</td>\n",
              "    </tr>\n",
              "    <tr>\n",
              "      <th>214</th>\n",
              "      <td>Vou passar a tarde toda nos correios fds</td>\n",
              "      <td>pasar tarde toda fds</td>\n",
              "      <td>Negativo</td>\n",
              "    </tr>\n",
              "    <tr>\n",
              "      <th>263</th>\n",
              "      <td>os correios entregam no sábado?</td>\n",
              "      <td>entregam sabado</td>\n",
              "      <td>Neutro</td>\n",
              "    </tr>\n",
              "    <tr>\n",
              "      <th>65</th>\n",
              "      <td>mas né, correios</td>\n",
              "      <td></td>\n",
              "      <td>Neutro</td>\n",
              "    </tr>\n",
              "    <tr>\n",
              "      <th>99</th>\n",
              "      <td>Eu já perdi as contas de quantas vezes entrei no site dos correios, de ontem pra hoje kk</td>\n",
              "      <td>perdi contas quantas vezes entrei site coreios ontem hoje</td>\n",
              "      <td>Neutro</td>\n",
              "    </tr>\n",
              "    <tr>\n",
              "      <th>144</th>\n",
              "      <td>tou à espera de uma encomenda desde dia 25, tão a brincar comigo só pode, ainda por cima em correio azul que devia de ser entregue em 24h, a puta da encomenda já está em Portugal à dois dias nos correios e os cabroes não me trazem a encomenda</td>\n",
              "      <td>tou espera encomenda desde dia tao brincar comigo pode ainda cima azul devia entregue 24h puta encomenda portugal dois dias cabroes nao trazem encomenda</td>\n",
              "      <td>Negativo</td>\n",
              "    </tr>\n",
              "    <tr>\n",
              "      <th>216</th>\n",
              "      <td>a prova que chaves é mais brasileiro que mexicano é o jaiminho ser igualzinho aos funcionários dos correios</td>\n",
              "      <td>prova chaves brasileiro mexicano jaiminho igualzinho funcionarios</td>\n",
              "      <td>Neutro</td>\n",
              "    </tr>\n",
              "    <tr>\n",
              "      <th>170</th>\n",
              "      <td>meu deus quase cinco horas da tarde e o carro dos correios ainda n passou</td>\n",
              "      <td>deus quase cinco horas tarde caro ainda pasou</td>\n",
              "      <td>Negativo</td>\n",
              "    </tr>\n",
              "    <tr>\n",
              "      <th>58</th>\n",
              "      <td>que odio dos correios bicho</td>\n",
              "      <td>odio bicho</td>\n",
              "      <td>Negativo</td>\n",
              "    </tr>\n",
              "    <tr>\n",
              "      <th>163</th>\n",
              "      <td>Hoje eu paguei os famoso 15ão de importação dos Correios pqp Paulo Guedes privatiza tudooooo</td>\n",
              "      <td>hoje paguei famoso 15ao importacao pqp paulo guedes privatiza tudo</td>\n",
              "      <td>Negativo</td>\n",
              "    </tr>\n",
              "    <tr>\n",
              "      <th>84</th>\n",
              "      <td>Eu só queria que os Correios viessem deixar minha última encomenda desse ano.</td>\n",
              "      <td>queria viesem deixar ultima encomenda dese ano</td>\n",
              "      <td>Negativo</td>\n",
              "    </tr>\n",
              "    <tr>\n",
              "      <th>196</th>\n",
              "      <td>Alguém me segura, pq eu vou tacar fogo nos correios!!!!</td>\n",
              "      <td>alguem segura tacar fogo coreios</td>\n",
              "      <td>Neutro</td>\n",
              "    </tr>\n",
              "    <tr>\n",
              "      <th>285</th>\n",
              "      <td>apareceu um ad de uma luminária no instagram ontem, aí eu gostei e comprei, e já saiu pra entrega hoje kkkkkkk \\ncorreios eu te amo</td>\n",
              "      <td>apareceu luminaria instagram ontem gostei comprei saiu entrega hoje amo</td>\n",
              "      <td>Positivo</td>\n",
              "    </tr>\n",
              "    <tr>\n",
              "      <th>272</th>\n",
              "      <td>Na moral odeio os correios, podia ser tão simples mandar a rapaziada entregar as coisas, mas não, tem que ficar mandando pra lá e pra cá</td>\n",
              "      <td>moral odeio coreios podia tao simples mandar rapaziada entregar coisas nao ficar mandando</td>\n",
              "      <td>Negativo</td>\n",
              "    </tr>\n",
              "    <tr>\n",
              "      <th>157</th>\n",
              "      <td>RDR2 = ganhar 3 dólares numa missão, ficar com a cabeça a prêmio por 125 dólares e ter que juntar esse dinheiro pra pagar nos Correios e ter um pouco de paz</td>\n",
              "      <td>rdr2 ganhar dolares misao ficar cabeca premio 125 dolares juntar ese dinheiro pagar pouco paz</td>\n",
              "      <td>Neutro</td>\n",
              "    </tr>\n",
              "    <tr>\n",
              "      <th>112</th>\n",
              "      <td>Chorando ao lembrar q vou passar reileao em guriri mas o vestido q comprei p passar o mesmo, ta em alegre NOS CORREIOS. To triste n to feliz</td>\n",
              "      <td>chorando lembrar pasar reileao guriri vestido comprei pasar mesmo alegre coreios triste feliz</td>\n",
              "      <td>Neutro</td>\n",
              "    </tr>\n",
              "    <tr>\n",
              "      <th>27</th>\n",
              "      <td>Do nada a Nath chegou lá me xingando e tinha um cara preso no caminhão dos correios</td>\n",
              "      <td>nada nath chegou xingando cara preso caminhao</td>\n",
              "      <td>Negativo</td>\n",
              "    </tr>\n",
              "    <tr>\n",
              "      <th>291</th>\n",
              "      <td>Eu peguei um uber pra ir nos correios ai chamo o 99 e pego o mesmo cara pra voltar kkkk</td>\n",
              "      <td>peguei uber chamo pego cara voltar</td>\n",
              "      <td>Positivo</td>\n",
              "    </tr>\n",
              "    <tr>\n",
              "      <th>6</th>\n",
              "      <td>Diz pra mim que o correios funcionam amanhã! 🙏🏻🙏🏻🙏🏻🙏🏻</td>\n",
              "      <td>diz mim funcionam amanha</td>\n",
              "      <td>Neutro</td>\n",
              "    </tr>\n",
              "    <tr>\n",
              "      <th>0</th>\n",
              "      <td>[21:05:25] pai taokei: Seu telefone e que operadora\\n\\n [21:06:11] Alexandre Mattos: é do Correios Celular kkkk\\n\\n [21:06:19] Alexandre Mattos: operadora do correios\\n\\n [21:07:18] pai taokei: Blz então</td>\n",
              "      <td>210525 pai taokei telefone operadora 21061 alexandre matos celular 210619 alexandre matos operadora 210718 pai taokei blz entao</td>\n",
              "      <td>Neutro</td>\n",
              "    </tr>\n",
              "    <tr>\n",
              "      <th>219</th>\n",
              "      <td>maldito fim de ano q os correios n att</td>\n",
              "      <td>maldito fim</td>\n",
              "      <td>Negativo</td>\n",
              "    </tr>\n",
              "    <tr>\n",
              "      <th>249</th>\n",
              "      <td>eu tenho um ódio fudido desse correios de Nilópolis, só tem gente incompetente puta que pariuuuu</td>\n",
              "      <td>odio fudido dese nilopolis gente incompetente puta pariu</td>\n",
              "      <td>Negativo</td>\n",
              "    </tr>\n",
              "    <tr>\n",
              "      <th>30</th>\n",
              "      <td>Correios. Façam de mim uma pessoa orgulhosa 🙌🏻</td>\n",
              "      <td>coreios facam mim pesoa orgulhosa</td>\n",
              "      <td>Neutro</td>\n",
              "    </tr>\n",
              "    <tr>\n",
              "      <th>252</th>\n",
              "      <td>num dá nem pra cagar pq tem que fica esperando o correios</td>\n",
              "      <td>cagar fica esperando</td>\n",
              "      <td>Negativo</td>\n",
              "    </tr>\n",
              "    <tr>\n",
              "      <th>97</th>\n",
              "      <td>eu sou mto adulta \\ntô ASSINANDO MEU PLANO DE SAÚDE \\ntem noção? nunca assinei nada que não fosse entrega dos Correios</td>\n",
              "      <td>mto adulta asinando plano saude nocao nunca asinei nada nao fose entrega</td>\n",
              "      <td>Positivo</td>\n",
              "    </tr>\n",
              "    <tr>\n",
              "      <th>88</th>\n",
              "      <td>Precisando postar o item e não tem uma agência dos correios aberta hoje. Isso porque falaram que algumas iam estar de plantão.</td>\n",
              "      <td>precisando postar item nao agencia aberta hoje porque falaram algumas iam estar plantao</td>\n",
              "      <td>Neutro</td>\n",
              "    </tr>\n",
              "    <tr>\n",
              "      <th>260</th>\n",
              "      <td>Quem só reclama dos Correios é pq nunca teve uma mercadoria na Total Express.</td>\n",
              "      <td>reclama nunca mercadoria total expres</td>\n",
              "      <td>Neutro</td>\n",
              "    </tr>\n",
              "    <tr>\n",
              "      <th>251</th>\n",
              "      <td>ah sei lá último lugar que eu quero trabalhar é correios pq pela cara dos cara de merda e a vontade DEVE SER HORRÍVEL</td>\n",
              "      <td>sei ultimo lugar quero trabalhar cara cara merda vontade deve horivel</td>\n",
              "      <td>Negativo</td>\n",
              "    </tr>\n",
              "    <tr>\n",
              "      <th>195</th>\n",
              "      <td>que raiva o negócio dos correios dizendo que o carteiro não pode ser atendido o carteiro NEM VEIO AQUI EM CASA UI QUE ÓDIO</td>\n",
              "      <td>raiva negocio dizendo carteiro nao pode atendido carteiro veio aqui casa odio</td>\n",
              "      <td>Negativo</td>\n",
              "    </tr>\n",
              "    <tr>\n",
              "      <th>203</th>\n",
              "      <td>Você ta de boa vagabundando dentro de casa ninguém lembra de ti, quando tu vai gravar é natação, correios, gente ligando, problemas no trabalho. Eu só quero gravar um vídeozinho puifa</td>\n",
              "      <td>boa vagabundando dentro casa ninguem lembra gravar natacao coreios gente ligando problemas trabalho quero gravar videozinho puifa</td>\n",
              "      <td>Neutro</td>\n",
              "    </tr>\n",
              "    <tr>\n",
              "      <th>198</th>\n",
              "      <td>Correios não consegue fazer uma entrega se algum problema. A gente liga eles não conseguem nem atender a um telefonema. Q desserviço vcs prestam.</td>\n",
              "      <td>nao consegue fazer entrega algum problema gente liga nao conseguem atender telefonema deservico vcs prestam</td>\n",
              "      <td>Negativo</td>\n",
              "    </tr>\n",
              "    <tr>\n",
              "      <th>218</th>\n",
              "      <td>meus livros chegaram muito rápido parabéns correios</td>\n",
              "      <td>livros chegaram rapido parabens</td>\n",
              "      <td>Positivo</td>\n",
              "    </tr>\n",
              "    <tr>\n",
              "      <th>132</th>\n",
              "      <td>comprei um negócio e já tava esperando os correios aí lembrei q esqueci de pagar o boleto</td>\n",
              "      <td>comprei negocio tava esperando lembrei esqueci pagar boleto</td>\n",
              "      <td>Neutro</td>\n",
              "    </tr>\n",
              "    <tr>\n",
              "      <th>110</th>\n",
              "      <td>Pra piorar minha relação com os Correios recentemente meu primo comprou uma encomenda que foi assaltada. Ou seja, mesmo ainda estando no prazo eu estou muito tenso com a minha.</td>\n",
              "      <td>piorar relacao recentemente primo comprou encomenda asaltada seja ainda estando prazo tenso minha</td>\n",
              "      <td>Neutro</td>\n",
              "    </tr>\n",
              "    <tr>\n",
              "      <th>111</th>\n",
              "      <td>Meus nenens já foram mandados para os correios 😍😍😍😍 aparentemente vai chegar antes do esperado</td>\n",
              "      <td>nenens mandados aparentemente chegar antes esperado</td>\n",
              "      <td>Positivo</td>\n",
              "    </tr>\n",
              "    <tr>\n",
              "      <th>233</th>\n",
              "      <td>Meu Marmitex deve ter vindo pelo correios e foi desviado para Curitiba</td>\n",
              "      <td>marmitex deve vindo desviado curitiba</td>\n",
              "      <td>Negativo</td>\n",
              "    </tr>\n",
              "    <tr>\n",
              "      <th>191</th>\n",
              "      <td>Busquei meu cell no correios hoje, não tava aguentando essa demora pra entregar</td>\n",
              "      <td>busquei cel hoje nao tava aguentando demora entregar</td>\n",
              "      <td>Neutro</td>\n",
              "    </tr>\n",
              "    <tr>\n",
              "      <th>155</th>\n",
              "      <td>saiu pra entrega e nao chegou eu vou comer o cu dos correios</td>\n",
              "      <td>saiu entrega nao chegou comer</td>\n",
              "      <td>Positivo</td>\n",
              "    </tr>\n",
              "    <tr>\n",
              "      <th>54</th>\n",
              "      <td>Por que demorei tanto tempo pra comprar Salto Mortal? aaa agora não me aguento de ansiedade pra esse livro chegarrrr. correios, pfvrr trabalhem na segunda!!</td>\n",
              "      <td>demorei tanto tempo comprar salto mortal agora nao aguento ansiedade ese livro chegar coreios pfvr trabalhem segunda</td>\n",
              "      <td>Neutro</td>\n",
              "    </tr>\n",
              "    <tr>\n",
              "      <th>23</th>\n",
              "      <td>Correios de Curitiba pfvr libera meu army bomb 3 meses já</td>\n",
              "      <td>curitiba pfvr libera army bomb meses</td>\n",
              "      <td>Neutro</td>\n",
              "    </tr>\n",
              "    <tr>\n",
              "      <th>93</th>\n",
              "      <td>Meu celular chegou dia 17 no Brasil e o Correios não movimentou até então</td>\n",
              "      <td>celular chegou dia brasil nao movimentou entao</td>\n",
              "      <td>Neutro</td>\n",
              "    </tr>\n",
              "    <tr>\n",
              "      <th>25</th>\n",
              "      <td>Será que os correios entregam amanhã? 🙄🤭</td>\n",
              "      <td>entregam amanha</td>\n",
              "      <td>Neutro</td>\n",
              "    </tr>\n",
              "    <tr>\n",
              "      <th>188</th>\n",
              "      <td>Passando raiva com os maravilhosos serviços dos Correios 😠😠...eu hein!</td>\n",
              "      <td>pasando raiva maravilhosos servicos hein</td>\n",
              "      <td>Negativo</td>\n",
              "    </tr>\n",
              "    <tr>\n",
              "      <th>282</th>\n",
              "      <td>mano, eu esperando a merda da cnh chegar e ela nem pro correios foi ainda</td>\n",
              "      <td>mano esperando merda cnh chegar ainda</td>\n",
              "      <td>Negativo</td>\n",
              "    </tr>\n",
              "    <tr>\n",
              "      <th>175</th>\n",
              "      <td>Eu odeio as agências de correios!!!</td>\n",
              "      <td>odeio agencias coreios</td>\n",
              "      <td>Neutro</td>\n",
              "    </tr>\n",
              "    <tr>\n",
              "      <th>227</th>\n",
              "      <td>ligando pros correios pra ver se consigo resolver essa merda de situação dos meus álbuns na anvisa pq tá difícil</td>\n",
              "      <td>ligando pros ver consigo resolver merda situacao albuns anvisa dificil</td>\n",
              "      <td>Negativo</td>\n",
              "    </tr>\n",
              "    <tr>\n",
              "      <th>172</th>\n",
              "      <td>N consegui enviar o meu celular p Sp hj e cm o Correios é uma merda só volta quarta e eu só vou poder enviar quarta p chegar lá pela sexta pra voltar depois de um mes e demorar mais dois dias pra chegar na minha casa, ou seja só lá pelo dia 7 de fevereiro estarei c meu celular :(</td>\n",
              "      <td>consegui enviar celular merda volta quarta poder enviar quarta chegar sexta voltar mes demorar dois dias chegar casa dia fevereiro estarei celular</td>\n",
              "      <td>Neutro</td>\n",
              "    </tr>\n",
              "    <tr>\n",
              "      <th>134</th>\n",
              "      <td>se eu não for no casamento é pq o correios errou o endereço pra deixar meu convite</td>\n",
              "      <td>nao casamento erou endereco deixar convite</td>\n",
              "      <td>Negativo</td>\n",
              "    </tr>\n",
              "    <tr>\n",
              "      <th>215</th>\n",
              "      <td>Comprei um celular no Mercado Livre ontem e hoje ele já saiu pra entrega. Correios: nunca critiquei.</td>\n",
              "      <td>comprei celular mercado livre ontem hoje saiu entrega coreios nunca critiquei</td>\n",
              "      <td>Positivo</td>\n",
              "    </tr>\n",
              "    <tr>\n",
              "      <th>207</th>\n",
              "      <td>Vou ficar até às 19h a olhar pela janela a ver se chega o homem do correios para me entregar o monitor</td>\n",
              "      <td>ficar 19h olhar janela ver chega homem entregar monitor</td>\n",
              "      <td>Neutro</td>\n",
              "    </tr>\n",
              "    <tr>\n",
              "      <th>150</th>\n",
              "      <td>encomendei o livro antes de ontem para começar a ler hoje no máximo, pedi p irem levantar hoje aos correios, não foram agora só abre na quarta fds kkkkk puta de brincadeira</td>\n",
              "      <td>encomendei livro antes ontem comecar ler hoje maximo pedi irem levantar hoje coreios nao agora abre quarta fds puta brincadeira</td>\n",
              "      <td>Negativo</td>\n",
              "    </tr>\n",
              "    <tr>\n",
              "      <th>122</th>\n",
              "      <td>última sexta do ano:banco, correios, problemas com banco e correios, falta de paciência e ninguém pra tomar um litrão...#sextou</td>\n",
              "      <td>ultima sexta anobanco coreios problemas banco coreios falta paciencia ninguem tomar litrao</td>\n",
              "      <td>Neutro</td>\n",
              "    </tr>\n",
              "    <tr>\n",
              "      <th>202</th>\n",
              "      <td>DPS DE 1 MES NOS CORREIOS E NO TOTAL 5 MESES A ESPERA QUE O TEMPO DO PROJETO SEJA FINALIZADO, EU FINALMENTE VOU TER MEU PHOTOBOOK DO DREAMCATCHER</td>\n",
              "      <td>dps mes total meses espera tempo projeto finalizado finalmente photobok dreamcatcher</td>\n",
              "      <td>Negativo</td>\n",
              "    </tr>\n",
              "    <tr>\n",
              "      <th>209</th>\n",
              "      <td>Juro que odeio os correios mete-me um nojo, é sempre a mesma coisa, devem achar que eu vou ter que estar o dia todo em casa à espera de uma encomenda , pfv</td>\n",
              "      <td>juro odeio meteme nojo sempre mesma coisa devem achar estar dia todo casa espera encomenda pfv</td>\n",
              "      <td>Negativo</td>\n",
              "    </tr>\n",
              "    <tr>\n",
              "      <th>87</th>\n",
              "      <td>poxa, correios...... entrega meu presente de natal logo 😔</td>\n",
              "      <td>poxa coreios entrega presente natal logo</td>\n",
              "      <td>Neutro</td>\n",
              "    </tr>\n",
              "    <tr>\n",
              "      <th>108</th>\n",
              "      <td>Imaginem este conceito que aparentemente já é feito noutros países mas acho que ainda não chegou à tuga. Todas as cartas que os chavalos escrevessem e fossem enviadas ao pai natal pelos correios ficarem livres para a acesso e qq cidadão pode ler a carta e dar ele essa prenda+</td>\n",
              "      <td>imaginem conceito aparentemente feito noutros paises acho ainda nao chegou tuga todas cartas chavalos escrevesem fosem enviadas pai natal ficarem livres aceso cidadao pode ler carta dar prenda</td>\n",
              "      <td>Neutro</td>\n",
              "    </tr>\n",
              "    <tr>\n",
              "      <th>192</th>\n",
              "      <td>Muito feliz que o Correios entregou minhas encomendas antes do ano novo</td>\n",
              "      <td>feliz entregou encomendas antes novo</td>\n",
              "      <td>Positivo</td>\n",
              "    </tr>\n",
              "    <tr>\n",
              "      <th>269</th>\n",
              "      <td>EU DESCOBRI PQ OS CORREIOS DEMORAM</td>\n",
              "      <td>descobri demoram</td>\n",
              "      <td>Negativo</td>\n",
              "    </tr>\n",
              "    <tr>\n",
              "      <th>107</th>\n",
              "      <td>Ontem cheguei em ksa e vi q os Correios foram beeeem generosos comigo! Tinha pelo menos umas 10 caixas de encomendas 😂😂 e meu Adidas Stan Smith que ganhei de natal e estou apaixonaada 🥰</td>\n",
              "      <td>ontem cheguei ksa bem generosos comigo menos umas caixas encomendas adidas stan smith ganhei natal apaixonada</td>\n",
              "      <td>Positivo</td>\n",
              "    </tr>\n",
              "    <tr>\n",
              "      <th>184</th>\n",
              "      <td>Mochila com capa de chuva impermeável.\\nCapacidade: 26l\\nAcompanha um exclusivo porta-capacete.\\nSuporta até 12 kg.\\n\\nProduto novo!\\nLoja virtual.\\nEntrega em todo o Brasil. Via Correios.</td>\n",
              "      <td>mochila capa chuva impermeavel capacidade 26l acompanha exclusivo portacapacete suporta produto novo loja virtual entrega todo brasil via coreios</td>\n",
              "      <td>Positivo</td>\n",
              "    </tr>\n",
              "    <tr>\n",
              "      <th>241</th>\n",
              "      <td>Meu deus parou uma van dos correios aqui na rua de casa</td>\n",
              "      <td>deus parou van aqui rua casa</td>\n",
              "      <td>Neutro</td>\n",
              "    </tr>\n",
              "    <tr>\n",
              "      <th>287</th>\n",
              "      <td>Correios,petrobras,BB, lei rouanet etc...2019 tem que começar as privatizaçoes  chega de so os petralhas ganhar e acumular verbas publicas</td>\n",
              "      <td>coreiospetrobrasb lei rouanet etc2019 comecar privatizacoes chega petralhas ganhar acumular verbas publicas</td>\n",
              "      <td>Neutro</td>\n",
              "    </tr>\n",
              "    <tr>\n",
              "      <th>173</th>\n",
              "      <td>Velho que raiva pq não chega logo as minhas entrega em correios você me odeia?</td>\n",
              "      <td>velho raiva nao chega logo entrega odeia</td>\n",
              "      <td>Negativo</td>\n",
              "    </tr>\n",
              "    <tr>\n",
              "      <th>46</th>\n",
              "      <td>AAAAAAAAAAAAAAAAAA meu celular ta a caminho de SVP... só que agora vem feriado... será que os correios trabalham Segunda? kk</td>\n",
              "      <td>celular caminho svp agora vem feriado trabalham segunda</td>\n",
              "      <td>Neutro</td>\n",
              "    </tr>\n",
              "    <tr>\n",
              "      <th>257</th>\n",
              "      <td>Os Correios atrasam cartões de natal e boas festas até de quem mente que enviou.</td>\n",
              "      <td>atrasam cartoes natal boas festas mente enviou</td>\n",
              "      <td>Negativo</td>\n",
              "    </tr>\n",
              "    <tr>\n",
              "      <th>16</th>\n",
              "      <td>minha carta de hogwarts tá presa no correios de curitiba faz tempo hein</td>\n",
              "      <td>carta hogwarts presa curitiba faz tempo hein</td>\n",
              "      <td>Negativo</td>\n",
              "    </tr>\n",
              "    <tr>\n",
              "      <th>220</th>\n",
              "      <td>Cara o serviço dos correios é muito ruim</td>\n",
              "      <td>cara servico ruim</td>\n",
              "      <td>Negativo</td>\n",
              "    </tr>\n",
              "    <tr>\n",
              "      <th>139</th>\n",
              "      <td>Minha mãe hj me acordou falando que estavam me chamando no portão e que era do correios, eu desci toda atravessa com a cara amassada e tudo, abri o portão, e não tinha ninguém. NINGUÉM. Era de outra casa q estavam chamando</td>\n",
              "      <td>mae acordou falando chamando portao coreios desci toda atravesa cara amasada tudo abri portao nao ninguem ninguem outra casa chamando</td>\n",
              "      <td>Neutro</td>\n",
              "    </tr>\n",
              "    <tr>\n",
              "      <th>117</th>\n",
              "      <td>quanto sera q custa pra eu manda uma boina pro soonyoung via malote dos correios</td>\n",
              "      <td>quanto sera custa manda boina sonyoung via malote</td>\n",
              "      <td>Neutro</td>\n",
              "    </tr>\n",
              "    <tr>\n",
              "      <th>69</th>\n",
              "      <td>Eu odeio comprar em lugar que o frete não é dos correios, tipo a C&amp;amp;A.</td>\n",
              "      <td>odeio comprar lugar frete nao coreios tipo campa</td>\n",
              "      <td>Negativo</td>\n",
              "    </tr>\n",
              "    <tr>\n",
              "      <th>45</th>\n",
              "      <td>Eu fico lendo os correios anônimos dos outros e é tão fofo, aff</td>\n",
              "      <td>fico lendo anonimos outros tao fofo</td>\n",
              "      <td>Neutro</td>\n",
              "    </tr>\n",
              "    <tr>\n",
              "      <th>39</th>\n",
              "      <td>Pro meu 2018 terminar perfeito, só peço que os Correios trabalhem no dia 31 e entreguem os famigerados pc+monitor\\nFicaria felizao</td>\n",
              "      <td>2018 terminar perfeito peco trabalhem dia entreguem famigerados pcmonitor ficaria felizao</td>\n",
              "      <td>Neutro</td>\n",
              "    </tr>\n",
              "    <tr>\n",
              "      <th>141</th>\n",
              "      <td>*bolsonaro privatiza os correios e a empresa vira uma das mais eficientes do mundo* (não acredito que isso possa acontecer, mas vamos convencionar q sim)\\n\\nturminha do twitter contra o fascismo: ah agora eu entregar minhas encomendas de bicicleta pra boicotar a empresa fascista</td>\n",
              "      <td>bolsonaro privatiza empresa vira eficientes mundo nao acredito posa acontecer vamos convencionar sim turminha twiter contra fascismo agora entregar encomendas bicicleta boicotar empresa fascista</td>\n",
              "      <td>Neutro</td>\n",
              "    </tr>\n",
              "    <tr>\n",
              "      <th>5</th>\n",
              "      <td>Taí! Um dos primeiros jogos que vou comprar em 2019 vai ser o Mario Tennis! Que bom que abriu uma @LojaBigBoyGames  em Brasília, pq dessa vez faço questão de ir na loja buscar. Trauma dos Correios MODE ON!!! 🤣</td>\n",
              "      <td>tai primeiros jogos comprar 2019 mario tenis bom abriu brasilia desa vez faco questao loja buscar trauma mode</td>\n",
              "      <td>Negativo</td>\n",
              "    </tr>\n",
              "    <tr>\n",
              "      <th>40</th>\n",
              "      <td>não sei como ninguém reclamou sobre a taxa obrigatória de 15 reais dos correios para receber o pacote\\nsério, é ridiculo</td>\n",
              "      <td>nao sei ninguem reclamou sobre taxa obrigatoria reais receber pacote serio ridiculo</td>\n",
              "      <td>Negativo</td>\n",
              "    </tr>\n",
              "    <tr>\n",
              "      <th>77</th>\n",
              "      <td>Acho que a única coisa mais lerda que o site dos Correios e o Sistema Acadêmico da UFRJ sou eu mesma</td>\n",
              "      <td>acho unica coisa lerda site sistema academico ufrj mesma</td>\n",
              "      <td>Neutro</td>\n",
              "    </tr>\n",
              "    <tr>\n",
              "      <th>296</th>\n",
              "      <td>Cada dia que passa, fico com mais nojo dos correios... Privatização Já!</td>\n",
              "      <td>cada dia pasa fico nojo coreios privatizacao</td>\n",
              "      <td>Neutro</td>\n",
              "    </tr>\n",
              "    <tr>\n",
              "      <th>229</th>\n",
              "      <td>Os Correios resolveram entregar uma das minhas encomendas na minha casa (e não precisarei ir na agência buscar, dessa vez). Nem acreditei! Presente de Natal atrasado isso (ele devia estar parado em Curitiba, rs).</td>\n",
              "      <td>resolveram entregar encomendas casa nao precisarei agencia buscar desa vez acreditei presente natal atrasado ele devia estar parado curitiba</td>\n",
              "      <td>Negativo</td>\n",
              "    </tr>\n",
              "    <tr>\n",
              "      <th>120</th>\n",
              "      <td>Se dia primeiro de janeiro não privatizarem o correios eu já vou pedir impitima</td>\n",
              "      <td>dia primeiro janeiro nao privatizarem pedir impitima</td>\n",
              "      <td>Neutro</td>\n",
              "    </tr>\n",
              "    <tr>\n",
              "      <th>147</th>\n",
              "      <td>Esse é o mal de comprar pela net, esperar os correios</td>\n",
              "      <td>ese mal comprar net esperar</td>\n",
              "      <td>Negativo</td>\n",
              "    </tr>\n",
              "    <tr>\n",
              "      <th>294</th>\n",
              "      <td>Estou desde as 9 acordado à espera que os correios tragam o meu portátil ...\\nTou a dar em maluco :)</td>\n",
              "      <td>desde acordado espera tragam portatil tou dar maluco</td>\n",
              "      <td>Neutro</td>\n",
              "    </tr>\n",
              "    <tr>\n",
              "      <th>109</th>\n",
              "      <td>Gente me tira uma dúvida, os correios funcionam aos sábados?</td>\n",
              "      <td>gente tira duvida funcionam sabados</td>\n",
              "      <td>Neutro</td>\n",
              "    </tr>\n",
              "    <tr>\n",
              "      <th>153</th>\n",
              "      <td>esse pessoal dos correios são uns fdp</td>\n",
              "      <td>ese pesoal uns fdp</td>\n",
              "      <td>Negativo</td>\n",
              "    </tr>\n",
              "    <tr>\n",
              "      <th>206</th>\n",
              "      <td>#correios unindo as famílias brasileiras, todo mundo nas agências com vô, vó, filho de colo, tia doente. Só pra escapar da fila.......</td>\n",
              "      <td>unindo familias brasileiras todo mundo agencias filho colo tia doente escapar fila</td>\n",
              "      <td>Neutro</td>\n",
              "    </tr>\n",
              "    <tr>\n",
              "      <th>138</th>\n",
              "      <td>A porra dos correios não libera a opção de pagar o despacho la no site, e meu ukulele não chega por causa disso... Que ódio que tenho dessa empresa maldita... Serviço caro pra um caralho e igualmente uma merda...</td>\n",
              "      <td>pora nao libera opcao pagar despacho site ukulele nao chega causa diso odio desa empresa maldita servico caro caralho igualmente merda</td>\n",
              "      <td>Negativo</td>\n",
              "    </tr>\n",
              "    <tr>\n",
              "      <th>189</th>\n",
              "      <td>Péssimo serviço dos Correios</td>\n",
              "      <td>pesimo servico</td>\n",
              "      <td>Negativo</td>\n",
              "    </tr>\n",
              "    <tr>\n",
              "      <th>230</th>\n",
              "      <td>Gente, olha que legal a @SigaZattini me mandou o produto errado 2x, mesmo eu avisando que isso ia acontecer e agora quer que eu paguei os Correios para devolver o produto! Tá de SACANAGEM</td>\n",
              "      <td>gente olha legal mandou produto erado avisando acontecer agora quer paguei devolver produto sacanagem</td>\n",
              "      <td>Negativo</td>\n",
              "    </tr>\n",
              "    <tr>\n",
              "      <th>29</th>\n",
              "      <td>Após dia 1º de Janeiro, veremos GREVES\\nGreves de bancários\\nGreve dos Correios\\nGreves\\nPara a geração adolescente-petista, que nunca viveu isso, já aviso: O PT, PSOL e PC do B, sempre fizeram isso, é só isso que eles sabem fazer fazer, além de roubar, claro.</td>\n",
              "      <td>apos dia janeiro veremos greves greves bancarios greve greves geracao adolescentepetista nunca viveu iso aviso psol sempre fizeram iso sabem fazer fazer alem roubar claro</td>\n",
              "      <td>Neutro</td>\n",
              "    </tr>\n",
              "    <tr>\n",
              "      <th>264</th>\n",
              "      <td>eu odeio os correios AAAAAA minhas encomendas chegaram todas fudidas as caixas</td>\n",
              "      <td>odeio encomendas chegaram todas fudidas caixas</td>\n",
              "      <td>Negativo</td>\n",
              "    </tr>\n",
              "    <tr>\n",
              "      <th>145</th>\n",
              "      <td>E hoje fui mostrar um print pro cara do correios,ele ficou vendo m fotos\\nDEI UM GRITO\\nAbusado</td>\n",
              "      <td>hoje mostrar print cara coreiosele ficou vendo fotos dei grito abusado</td>\n",
              "      <td>Positivo</td>\n",
              "    </tr>\n",
              "    <tr>\n",
              "      <th>293</th>\n",
              "      <td>Eu lindíssima ligando nos correios e pedindo para eles passarem mais cedo hj</td>\n",
              "      <td>lindisima ligando pedindo pasarem cedo</td>\n",
              "      <td>Neutro</td>\n",
              "    </tr>\n",
              "    <tr>\n",
              "      <th>49</th>\n",
              "      <td>Gostaria de agradecer ao presidente @jairbolsonaro pelo convite para a posse presidencial. Infelizmente o convite ainda não chegou, com certeza é problema nos correios.</td>\n",
              "      <td>gostaria agradecer presidente convite pose presidencial infelizmente convite ainda nao chegou certeza problema coreios</td>\n",
              "      <td>Negativo</td>\n",
              "    </tr>\n",
              "    <tr>\n",
              "      <th>115</th>\n",
              "      <td>tô indignada q mandei meu celular p garantia pelos correios quarta, chegou lá hoje, já arrumaram e vão mandar em até 24hrs mas vou tá viajando 😭😭😭</td>\n",
              "      <td>indignada mandei celular garantia quarta chegou hoje arumaram vao mandar 24hrs viajando</td>\n",
              "      <td>Neutro</td>\n",
              "    </tr>\n",
              "    <tr>\n",
              "      <th>133</th>\n",
              "      <td>S usar branco atraísse paz, nnhm médico ficaria em depressão. Se usar amarelo atraísse dinheiro, o pessoal ds correios estariam rico ! S usar vermelho resolvesse a vd amorosa, nhm bombeiro se divorciava ... N adianta passar a virada d ano d brnco e passar o rstnte d ano ns trevas</td>\n",
              "      <td>usar branco atraise paz nhm medico ficaria depresao usar amarelo atraise dinheiro pesoal estariam rico usar vermelho resolvese amorosa nhm bombeiro divorciava adianta pasar virada brnco pasar rstnte trevas</td>\n",
              "      <td>Neutro</td>\n",
              "    </tr>\n",
              "    <tr>\n",
              "      <th>211</th>\n",
              "      <td>Correios é uma bosta mesmo</td>\n",
              "      <td>bosta</td>\n",
              "      <td>Negativo</td>\n",
              "    </tr>\n",
              "    <tr>\n",
              "      <th>56</th>\n",
              "      <td>eu pensei que tinha perdido meu cartão mas não, só guardei ele na caixinha de correios mesmo</td>\n",
              "      <td>pensei perdido cartao nao guardei caixinha</td>\n",
              "      <td>Neutro</td>\n",
              "    </tr>\n",
              "    <tr>\n",
              "      <th>174</th>\n",
              "      <td>Vi o carro dos correios parado na esquina me iludi achando q era o meu tear</td>\n",
              "      <td>caro parado esquina iludi achando tear</td>\n",
              "      <td>Negativo</td>\n",
              "    </tr>\n",
              "    <tr>\n",
              "      <th>286</th>\n",
              "      <td>\"mais meia hora e vou para casa\"\\n (passado 2h) \\neu: atao??\\nele: To a ir agora para casa 😒😑\\n SENDO QUE QUERO IR AOS CORREIOS E IR TER C O RODRIGO AS 14:30, QUE HORAS SÃO ? 14h 😑😑😑😑😑😑😑😑😑</td>\n",
              "      <td>mais meia hora casa pasado atao ele agora casa sendo quero rodrigo 1430 horas 14h</td>\n",
              "      <td>Neutro</td>\n",
              "    </tr>\n",
              "    <tr>\n",
              "      <th>35</th>\n",
              "      <td>Será que os correios funcionará dia 31?</td>\n",
              "      <td>funcionara dia</td>\n",
              "      <td>Neutro</td>\n",
              "    </tr>\n",
              "    <tr>\n",
              "      <th>194</th>\n",
              "      <td>Muita Raiva dos Correios! \\n😡</td>\n",
              "      <td>muita raiva coreios</td>\n",
              "      <td>Negativo</td>\n",
              "    </tr>\n",
              "    <tr>\n",
              "      <th>268</th>\n",
              "      <td>Felicidade é olhar o correios e ver que sua encomenda já chegou 😍💁🏻</td>\n",
              "      <td>felicidade olhar ver encomenda chegou</td>\n",
              "      <td>Positivo</td>\n",
              "    </tr>\n",
              "    <tr>\n",
              "      <th>98</th>\n",
              "      <td>minha blusa está nos correios, vou pegar só segunda</td>\n",
              "      <td>blusa coreios pegar segunda</td>\n",
              "      <td>Neutro</td>\n",
              "    </tr>\n",
              "    <tr>\n",
              "      <th>1</th>\n",
              "      <td>Acho que os correios resolveram deixar pra lá a compra que fiz na colourpop e só liberar ano que vem mesmo (foi enviada 12 dez, até agora não tem atualização de rastreio)</td>\n",
              "      <td>acho resolveram deixar compra fiz colourpop liberar vem foi enviada dez agora nao atualizacao rastreio</td>\n",
              "      <td>Neutro</td>\n",
              "    </tr>\n",
              "    <tr>\n",
              "      <th>121</th>\n",
              "      <td>hj no fut eu entreguei o suficiente pra arranjar um emprego nos Correios</td>\n",
              "      <td>fut entreguei suficiente aranjar emprego</td>\n",
              "      <td>Neutro</td>\n",
              "    </tr>\n",
              "    <tr>\n",
              "      <th>221</th>\n",
              "      <td>- odeio os correios 😡😡😡😡</td>\n",
              "      <td>odeio</td>\n",
              "      <td>Negativo</td>\n",
              "    </tr>\n",
              "    <tr>\n",
              "      <th>26</th>\n",
              "      <td>Em casa, estou em casa! Encontrei muitos pacotes de presente na caixa de correios. Queria poder ter passado com os familiares, mas sinto que cada um agora passa entre os filhos, netos... E então, a velha Mary acaba se reclusando com o coração apertado, só me faltam os gatos!</td>\n",
              "      <td>casa casa encontrei muitos pacotes presente caixa coreios queria poder pasado familiares sinto cada agora pasa filhos netos entao velha mary acaba reclusando coracao apertado faltam gatos</td>\n",
              "      <td>Positivo</td>\n",
              "    </tr>\n",
              "    <tr>\n",
              "      <th>53</th>\n",
              "      <td>Tomara que pegue fogo nos correios tbm, pra aprender a entregar as coisas no prazo\\nMas não pegue fogo no que tá minhas coisa, pode ser em outro</td>\n",
              "      <td>tomara pegue fogo tbm aprender entregar coisas prazo nao pegue fogo coisa pode outro</td>\n",
              "      <td>Negativo</td>\n",
              "    </tr>\n",
              "    <tr>\n",
              "      <th>197</th>\n",
              "      <td>aeee acabou a luz nos correios</td>\n",
              "      <td>acabou luz</td>\n",
              "      <td>Neutro</td>\n",
              "    </tr>\n",
              "    <tr>\n",
              "      <th>159</th>\n",
              "      <td>ter ódio profundo no seu coração pelos Correios é sinal de equilíbrio emocional</td>\n",
              "      <td>odio profundo coracao sinal equilibrio emocional</td>\n",
              "      <td>Negativo</td>\n",
              "    </tr>\n",
              "    <tr>\n",
              "      <th>103</th>\n",
              "      <td>Só quero pegar meu tênis Fila logo aff, vem pra Bangu final de semana, correios fechado.</td>\n",
              "      <td>quero pegar tenis fila logo vem bangu final semana fechado</td>\n",
              "      <td>Neutro</td>\n",
              "    </tr>\n",
              "    <tr>\n",
              "      <th>114</th>\n",
              "      <td>Correios, o meu mais sinceros VAI TOMAR NO CU</td>\n",
              "      <td>coreios sinceros tomar</td>\n",
              "      <td>Negativo</td>\n",
              "    </tr>\n",
              "    <tr>\n",
              "      <th>60</th>\n",
              "      <td>Alguém sabe o horário de funcionamento dos Correios hoje?</td>\n",
              "      <td>alguem sabe horario funcionamento hoje</td>\n",
              "      <td>Neutro</td>\n",
              "    </tr>\n",
              "    <tr>\n",
              "      <th>262</th>\n",
              "      <td>bom acho que os correios nao vao mudar a situação do barato la mais hj\\nacredito que só dia 2 mesmo</td>\n",
              "      <td>bom acho nao vao mudar situacao barato acredito dia</td>\n",
              "      <td>Neutro</td>\n",
              "    </tr>\n",
              "    <tr>\n",
              "      <th>83</th>\n",
              "      <td>\" que 2019 me traga ...\" \\nTá achando que o ano trabalha nos correios? Corre atrás não pra tu ver, fdp acomodado do caralho.</td>\n",
              "      <td>2019 traga achando trabalha coreios core atras nao ver fdp acomodado caralho</td>\n",
              "      <td>Negativo</td>\n",
              "    </tr>\n",
              "    <tr>\n",
              "      <th>74</th>\n",
              "      <td>Mano, se liguem no que passei\\nEu comprei uma cadeira na Aliexpress, aí ok, tive que pagar 20% do valor em taxa. \\n\\nOs &amp;gt;Correios&amp;lt; estrangeiros atrasaram exatamente TUDO e o vendedor tbm n deu uma explicação nem satisfação, fiquei 1 mês esperando e nada.</td>\n",
              "      <td>mano liguem pasei comprei cadeira aliexpres pagar valor taxa gtcoreioslt estrangeiros atrasaram exatamente tudo vendedor tbm deu explicacao satisfacao fiquei mes esperando nada</td>\n",
              "      <td>Neutro</td>\n",
              "    </tr>\n",
              "    <tr>\n",
              "      <th>13</th>\n",
              "      <td>puta que pariu to com mt medo dessa demora dos correios</td>\n",
              "      <td>puta pariu medo desa demora</td>\n",
              "      <td>Negativo</td>\n",
              "    </tr>\n",
              "    <tr>\n",
              "      <th>231</th>\n",
              "      <td>Uma das partes mais legais de ser do Fish Tank é que eles enviam um cartão fofo de aniversário. Mas os correios são tão LERDOS com as coisas do Fish Tank que é capaz de eu receber meus parabéns do BUCK-TICK só quando tiver 80 anos :&amp;lt;</td>\n",
              "      <td>partes legais fish tank enviam cartao fofo aniversario tao lerdos coisas fish tank capaz receber parabens bucktick anos</td>\n",
              "      <td>Negativo</td>\n",
              "    </tr>\n",
              "    <tr>\n",
              "      <th>142</th>\n",
              "      <td>hoje tinha gente batendo no portão daqui de casa e eu fui toda feliz atender né pensando que era os correios e era testemunha de jeová nunca fui tão tombada</td>\n",
              "      <td>hoje gente batendo portao daqui casa toda feliz atender pensando testemunha jeova nunca tao tombada</td>\n",
              "      <td>Neutro</td>\n",
              "    </tr>\n",
              "    <tr>\n",
              "      <th>213</th>\n",
              "      <td>Pode vir correios</td>\n",
              "      <td>pode vir</td>\n",
              "      <td>Neutro</td>\n",
              "    </tr>\n",
              "    <tr>\n",
              "      <th>62</th>\n",
              "      <td>tiração esses correios</td>\n",
              "      <td>tiracao eses</td>\n",
              "      <td>Negativo</td>\n",
              "    </tr>\n",
              "    <tr>\n",
              "      <th>275</th>\n",
              "      <td>Vou me arrumar e buscar meus mimos nos correios</td>\n",
              "      <td>arumar buscar mimos</td>\n",
              "      <td>Neutro</td>\n",
              "    </tr>\n",
              "    <tr>\n",
              "      <th>186</th>\n",
              "      <td>Eu com certeza já passei mais tempo numa agência de Correios do que na igreja. O que será que Jesus pensa disso?</td>\n",
              "      <td>certeza pasei tempo agencia igreja jesus pensa diso</td>\n",
              "      <td>Negativo</td>\n",
              "    </tr>\n",
              "    <tr>\n",
              "      <th>244</th>\n",
              "      <td>nunca mais compro nada pela internet e deixo pros correios entregar....</td>\n",
              "      <td>nunca compro nada internet deixo pros entregar</td>\n",
              "      <td>Neutro</td>\n",
              "    </tr>\n",
              "    <tr>\n",
              "      <th>299</th>\n",
              "      <td>Os serviços dos Correios são tão precários que nem o site funciona, que merda.</td>\n",
              "      <td>servicos tao precarios site funciona merda</td>\n",
              "      <td>Negativo</td>\n",
              "    </tr>\n",
              "    <tr>\n",
              "      <th>113</th>\n",
              "      <td>NINGUÉM me respondeu se os correios entregam no sábado</td>\n",
              "      <td>ninguem respondeu entregam sabado</td>\n",
              "      <td>Neutro</td>\n",
              "    </tr>\n",
              "    <tr>\n",
              "      <th>242</th>\n",
              "      <td>Rezando pros correios funcionarem direito UMA VEZ NA VIDA e minha camiseta chegar antes do fest.</td>\n",
              "      <td>rezando pros funcionarem direito vez vida camiseta chegar antes fest</td>\n",
              "      <td>Neutro</td>\n",
              "    </tr>\n",
              "    <tr>\n",
              "      <th>182</th>\n",
              "      <td>Eu acho muito estranho esse pessoal que pede a privatização dos correios e ao invés de usarem outros serviços, continuam enchendo a porra do saco falando essa merda. Meu anjo, oi????</td>\n",
              "      <td>acho estranho ese pesoal pede privatizacao inves usarem outros servicos continuam enchendo pora saco falando merda anjo</td>\n",
              "      <td>Neutro</td>\n",
              "    </tr>\n",
              "    <tr>\n",
              "      <th>4</th>\n",
              "      <td>Nunca mais compro nada pela internet, ranço demais. Correios me fodeu!</td>\n",
              "      <td>nunca compro nada internet ranco demais fodeu</td>\n",
              "      <td>Negativo</td>\n",
              "    </tr>\n",
              "    <tr>\n",
              "      <th>118</th>\n",
              "      <td>dúvida do dian:\\nbaseado nas cartas dos correios que a gente recebe com varios endereços, a gente mora no calhau, no olho d’água ou no parque shalom @LemosAlinea VALENDO</td>\n",
              "      <td>duvida dian baseado cartas gente recebe varios enderecos gente mora calhau olho dagua parque shalom valendo</td>\n",
              "      <td>Neutro</td>\n",
              "    </tr>\n",
              "    <tr>\n",
              "      <th>75</th>\n",
              "      <td>Bozo não quer privatizar os Correios. Já é bom motivo pra pedir impeachment</td>\n",
              "      <td>bozo nao quer privatizar coreios bom motivo pedir impeachment</td>\n",
              "      <td>Neutro</td>\n",
              "    </tr>\n",
              "    <tr>\n",
              "      <th>266</th>\n",
              "      <td>chocada com a inboxshoes q comprei o tênis ontem de manhã e hoje cedo ja recebi mensagem dos correios dizendo que ele tinha saído pra entrega</td>\n",
              "      <td>chocada inboxshoes comprei tenis ontem manha hoje cedo recebi mensagem dizendo saido entrega</td>\n",
              "      <td>Positivo</td>\n",
              "    </tr>\n",
              "    <tr>\n",
              "      <th>223</th>\n",
              "      <td>q que adianta ter primo q trabalha nos correios se ele não pega minhas coisas e traz na minha casa antes do carteiro</td>\n",
              "      <td>adianta primo trabalha nao pega coisas traz casa antes carteiro</td>\n",
              "      <td>Neutro</td>\n",
              "    </tr>\n",
              "    <tr>\n",
              "      <th>277</th>\n",
              "      <td>os correios tão muito rapidos agora qq aconteceu? antes eu ficava o dia inteiro metendo o pau por causa dos meus pedidos atrasados</td>\n",
              "      <td>tao rapidos agora aconteceu antes ficava dia inteiro metendo pau causa pedidos atrasados</td>\n",
              "      <td>Negativo</td>\n",
              "    </tr>\n",
              "    <tr>\n",
              "      <th>271</th>\n",
              "      <td>maior prova da existencia do diabo é a instituição CORREIOS</td>\n",
              "      <td>maior prova existencia diabo instituicao</td>\n",
              "      <td>Positivo</td>\n",
              "    </tr>\n",
              "    <tr>\n",
              "      <th>79</th>\n",
              "      <td>Ontem meu amigo do trabalho perguntou o que tanto eu compro na internet porque sempre que ele passa em frente ao meu notebook ele vê o site dos correios aberto no rastreamento. Hauhauhau</td>\n",
              "      <td>ontem amigo trabalho perguntou tanto compro internet porque sempre pasa frente notebok site aberto rastreamento hauhauhau</td>\n",
              "      <td>Neutro</td>\n",
              "    </tr>\n",
              "    <tr>\n",
              "      <th>105</th>\n",
              "      <td>Olha que coisa legal! \\nA fatura do meu cartão de crédito vence todo dia 10, e os Correios só entregaram a fatura ONTEM!! ONTEM!!!!! Que absurdo!</td>\n",
              "      <td>olha coisa legal fatura cartao credito vence todo dia entregaram fatura ontem ontem absurdo</td>\n",
              "      <td>Positivo</td>\n",
              "    </tr>\n",
              "    <tr>\n",
              "      <th>10</th>\n",
              "      <td>Estourar a equipa toda por causa da merda da taça Lucilio/cerveja/carica/correios/selos......</td>\n",
              "      <td>estourar equipa toda causa merda taca luciliocervejacaricacoreiosselos</td>\n",
              "      <td>Negativo</td>\n",
              "    </tr>\n",
              "    <tr>\n",
              "      <th>7</th>\n",
              "      <td>Recebendo pacote dos correios em Las Vegas\\nBoa tarde</td>\n",
              "      <td>recebendo pacote las vegas boa tarde</td>\n",
              "      <td>Neutro</td>\n",
              "    </tr>\n",
              "    <tr>\n",
              "      <th>199</th>\n",
              "      <td>Correios consegue se superar no ramo de pior empresa</td>\n",
              "      <td>consegue superar ramo pior empresa</td>\n",
              "      <td>Neutro</td>\n",
              "    </tr>\n",
              "    <tr>\n",
              "      <th>259</th>\n",
              "      <td>Correios eu ja desisti deles</td>\n",
              "      <td>desisti</td>\n",
              "      <td>Negativo</td>\n",
              "    </tr>\n",
              "    <tr>\n",
              "      <th>289</th>\n",
              "      <td>To nos Correios enviando um Boné Alma Sertaneja pra Italva - RJ.</td>\n",
              "      <td>enviando bone alma sertaneja italva</td>\n",
              "      <td>Neutro</td>\n",
              "    </tr>\n",
              "    <tr>\n",
              "      <th>140</th>\n",
              "      <td>Que desgraça desses correios, atrasando mais do que tudo</td>\n",
              "      <td>desgraca deses coreios atrasando tudo</td>\n",
              "      <td>Negativo</td>\n",
              "    </tr>\n",
              "    <tr>\n",
              "      <th>116</th>\n",
              "      <td>hj fui no correios toda feliz buscar minha encomenda e o cara q atendeu foi tao grosso q eu queria jogar uma bomba no cu dele</td>\n",
              "      <td>toda feliz buscar encomenda cara atendeu groso queria jogar bomba</td>\n",
              "      <td>Neutro</td>\n",
              "    </tr>\n",
              "    <tr>\n",
              "      <th>177</th>\n",
              "      <td>no momento pensando que queria que o povo do correios trabalhasse esse fim de semana kkjjk</td>\n",
              "      <td>momento pensando queria povo trabalhase ese fim semana kjk</td>\n",
              "      <td>Neutro</td>\n",
              "    </tr>\n",
              "    <tr>\n",
              "      <th>253</th>\n",
              "      <td>Eita chegou presente (mas tem q ir buscar no correios por causa do peso)</td>\n",
              "      <td>eita chegou presente mas buscar causa peso</td>\n",
              "      <td>Neutro</td>\n",
              "    </tr>\n",
              "    <tr>\n",
              "      <th>31</th>\n",
              "      <td>OTT-RJ INFORMA :\\n\\n30/12 - 08:15h\\nTiros na comunidade do Cebolô, na Rua do antigo Correios no bairro Arsenal em São Gonçalo. Cuidado na região.\\n#OTTRJ</td>\n",
              "      <td>otrj informa 3012 0815h tiros comunidade cebolo rua antigo bairo arsenal goncalo cuidado regiao</td>\n",
              "      <td>Positivo</td>\n",
              "    </tr>\n",
              "    <tr>\n",
              "      <th>288</th>\n",
              "      <td>tenho que ir no correios da Taquara, doente é foda 😢</td>\n",
              "      <td>taquara doente foda</td>\n",
              "      <td>Negativo</td>\n",
              "    </tr>\n",
              "    <tr>\n",
              "      <th>106</th>\n",
              "      <td>ㅤ…☁️ ⃗  (anônimo ou user). . \\n  ㅤ  ♡ﾞ﹏ ‹ (user para quem quer mandar)\\n  ㅤ  ✉︎ ﹏¹ (texto)\\n\\nesse será o novo modelinho q irei tweetar os correios!</td>\n",
              "      <td>anonimo user user quer mandar texto ese novo modelinho irei twetar coreios</td>\n",
              "      <td>Neutro</td>\n",
              "    </tr>\n",
              "    <tr>\n",
              "      <th>89</th>\n",
              "      <td>o presente de moza1 ja ta aqui e eu espero do fundo do meu coração que os Correios me entreguem até dia 14</td>\n",
              "      <td>presente moza1 aqui espero fundo coracao entreguem dia</td>\n",
              "      <td>Negativo</td>\n",
              "    </tr>\n",
              "    <tr>\n",
              "      <th>247</th>\n",
              "      <td>os correios estão mais cheios que sei lá o quê</td>\n",
              "      <td>cheios sei que</td>\n",
              "      <td>Positivo</td>\n",
              "    </tr>\n",
              "    <tr>\n",
              "      <th>148</th>\n",
              "      <td>ver a babi recebendo a carta, me deixou muito feliz, juro q já estava ligando pros correios pra saber pq a demora</td>\n",
              "      <td>ver babi recebendo carta deixou feliz juro ligando pros saber demora</td>\n",
              "      <td>Neutro</td>\n",
              "    </tr>\n",
              "    <tr>\n",
              "      <th>178</th>\n",
              "      <td>E eu que vim no correios e tem 21 pessoas na minha frente</td>\n",
              "      <td>vim pesoas frente</td>\n",
              "      <td>Neutro</td>\n",
              "    </tr>\n",
              "    <tr>\n",
              "      <th>17</th>\n",
              "      <td>E pensar que o meu tão aguardado encontro com o Malleus Maleficarum depende da boa vontade dos Correios...</td>\n",
              "      <td>pensar tao aguardado encontro maleus maleficarum depende boa vontade coreios</td>\n",
              "      <td>Neutro</td>\n",
              "    </tr>\n",
              "    <tr>\n",
              "      <th>283</th>\n",
              "      <td>Também quero esses correios anônimos, alguém de bom coração aí</td>\n",
              "      <td>quero eses anonimos alguem bom coracao</td>\n",
              "      <td>Neutro</td>\n",
              "    </tr>\n",
              "    <tr>\n",
              "      <th>12</th>\n",
              "      <td>Atualmente meu maior sonho é que privatizem os correios</td>\n",
              "      <td>atualmente maior sonho privatizem</td>\n",
              "      <td>Negativo</td>\n",
              "    </tr>\n",
              "    <tr>\n",
              "      <th>55</th>\n",
              "      <td>wtf primeiro o mercado livre matou o frete gratis pra ca pro norte e agr n da mais pra comprar do exterior sem pagar 15 bolsas de coco pros correios\\n\\nO BAGULHO Q EU COMPREI FOI 2 REAL wtf brasel</td>\n",
              "      <td>wtf primeiro mercado livre matou frete gratis norte agr comprar exterior pagar bolsas coco pros bagulho comprei real wtf brasel</td>\n",
              "      <td>Neutro</td>\n",
              "    </tr>\n",
              "    <tr>\n",
              "      <th>126</th>\n",
              "      <td>De acordo com a previsão dos correios eu vou pra praia com mei palmo de raiz e cabelo branco 🤦‍♀️</td>\n",
              "      <td>acordo previsao praia mei palmo raiz cabelo branco</td>\n",
              "      <td>Neutro</td>\n",
              "    </tr>\n",
              "    <tr>\n",
              "      <th>92</th>\n",
              "      <td>Segundo matéria da PEGN, de 1 milhão de encomendas entregues por dia pelos Correios 70% são  provenientes do e-commerce.</td>\n",
              "      <td>segundo materia pegn milhao encomendas entregues dia provenientes ecomerce</td>\n",
              "      <td>Negativo</td>\n",
              "    </tr>\n",
              "    <tr>\n",
              "      <th>64</th>\n",
              "      <td>Como bom escorpiano, no lugar de Bolsonaro eu faria um filme sobre Ustra com dinheiro da Lei  Rouanet com patrocínio da Petrobras e Correios só para ver se a esquerda aprovaria...😂</td>\n",
              "      <td>bom escorpiano lugar bolsonaro faria filme sobre ustra dinheiro lei rouanet patrocinio petrobras ver esquerda aprovaria</td>\n",
              "      <td>Neutro</td>\n",
              "    </tr>\n",
              "    <tr>\n",
              "      <th>240</th>\n",
              "      <td>Vim no centro só pra ir nos correios e buscar os panetones com Thayna, mas to saindo com iPhone novo kkkkkk êê</td>\n",
              "      <td>vim centro buscar panetones thayna saindo iphone novo</td>\n",
              "      <td>Neutro</td>\n",
              "    </tr>\n",
              "    <tr>\n",
              "      <th>101</th>\n",
              "      <td>Correios podia trabalhar pelo menos no sábado, ô carai</td>\n",
              "      <td>podia trabalhar menos sabado carai</td>\n",
              "      <td>Neutro</td>\n",
              "    </tr>\n",
              "    <tr>\n",
              "      <th>256</th>\n",
              "      <td>eu odeio os correios</td>\n",
              "      <td>odeio</td>\n",
              "      <td>Negativo</td>\n",
              "    </tr>\n",
              "    <tr>\n",
              "      <th>59</th>\n",
              "      <td>Meu livro THM chegooooouuuu. Tá bom que o Correios não entregou aqui e tá lá no sistema que o carteiro que não veio não foi atendido, mas chegooou. Semana que vem vou buscar 😍</td>\n",
              "      <td>livro thm chegou bom nao entregou aqui sistema carteiro nao veio nao atendido chegou semana vem buscar</td>\n",
              "      <td>Negativo</td>\n",
              "    </tr>\n",
              "    <tr>\n",
              "      <th>149</th>\n",
              "      <td>Minhas camisetas da @uselolja chegaram na minha caixa postal, mas o Correios não abre sábado 🥺</td>\n",
              "      <td>camisetas chegaram caixa postal nao abre sabado</td>\n",
              "      <td>Negativo</td>\n",
              "    </tr>\n",
              "    <tr>\n",
              "      <th>71</th>\n",
              "      <td>Correios lançam selo comemorativo sobre 1ª etapa do projeto Sirius \\nEvento aconteceu em Campinas (SP), no Centro Nacional de Pesquisa em Energia e Materiais (CNPEM), neste sábado (29). Ministro Gilberto Kassab participou da homenagem e falou sobre afastamento de cargo no gov…</td>\n",
              "      <td>lancam selo comemorativo sobre etapa projeto sirius evento aconteceu campinas centro nacional pesquisa energia materiais cnpem neste sabado ministro gilberto kasab participou homenagem falou sobre afastamento cargo gov</td>\n",
              "      <td>Neutro</td>\n",
              "    </tr>\n",
              "    <tr>\n",
              "      <th>72</th>\n",
              "      <td>acabo de descobrir que o livro que pedi não tem rastreador ele pode estar sozinho desamparado no correios da minha cidade há dias pobrezinho sou um animal</td>\n",
              "      <td>acabo descobrir livro pedi nao rastreador pode estar sozinho desamparado cidade dias pobrezinho animal</td>\n",
              "      <td>Neutro</td>\n",
              "    </tr>\n",
              "    <tr>\n",
              "      <th>276</th>\n",
              "      <td>eu tenho a plena convicção de que quem pede privatização dos correios não usa transportadora privada pq olha</td>\n",
              "      <td>plena conviccao pede privatizacao nao usa transportadora privada olha</td>\n",
              "      <td>Neutro</td>\n",
              "    </tr>\n",
              "    <tr>\n",
              "      <th>278</th>\n",
              "      <td>Obrigado correios pela incompetência habitual</td>\n",
              "      <td>obrigado incompetencia habitual</td>\n",
              "      <td>Negativo</td>\n",
              "    </tr>\n",
              "    <tr>\n",
              "      <th>235</th>\n",
              "      <td>Correios mente muito,\\nFalando que veio aqui e não tinha ngm, o cuuuu deles</td>\n",
              "      <td>mente muito falando veio aqui nao ngm</td>\n",
              "      <td>Negativo</td>\n",
              "    </tr>\n",
              "    <tr>\n",
              "      <th>52</th>\n",
              "      <td>Eu to nervosa, porque vou chegar de viagem e vão ter 22 CDS do SF9 pra embalar e enviar, literalmente os CDS vão chegar em 15 dias e passaram limpo em todas as taxas. Os correios me dando mimos depois de quebrarem minhas pernas com as taxas dos meus Sensuous D:</td>\n",
              "      <td>nervosa porque chegar viagem vao cds sf9 embalar enviar literalmente cds vao chegar dias pasaram limpo todas taxas dando mimos quebrarem pernas taxas sensuous</td>\n",
              "      <td>Neutro</td>\n",
              "    </tr>\n",
              "    <tr>\n",
              "      <th>81</th>\n",
              "      <td>Poxa correios, taxando minhas encomendas logo nos últimos dias de 2018, te odeio sabia</td>\n",
              "      <td>poxa coreios taxando encomendas logo ultimos dias 2018 odeio sabia</td>\n",
              "      <td>Neutro</td>\n",
              "    </tr>\n",
              "    <tr>\n",
              "      <th>61</th>\n",
              "      <td>Espero bem que os correios trabalhem segunda feira</td>\n",
              "      <td>espero bem trabalhem segunda feira</td>\n",
              "      <td>Negativo</td>\n",
              "    </tr>\n",
              "    <tr>\n",
              "      <th>234</th>\n",
              "      <td>meu nome quase entrou no Serasa pq o correios n mandou minha conta da vivo</td>\n",
              "      <td>nome quase entrou serasa mandou conta vivo</td>\n",
              "      <td>Neutro</td>\n",
              "    </tr>\n",
              "    <tr>\n",
              "      <th>255</th>\n",
              "      <td>mano é serio\\n\\no negocio ja ta na minha cidade faz quase uma semana e o correios NAO COMEÇA A ENTREGA MANO\\n\\nserio parece que eles tentam enrolar o máximo que der</td>\n",
              "      <td>mano serio negocio cidade faz quase semana nao comeca entrega mano serio parece tentam enrolar maximo der</td>\n",
              "      <td>Negativo</td>\n",
              "    </tr>\n",
              "    <tr>\n",
              "      <th>176</th>\n",
              "      <td>Espero que os correios não percam meu passaporte</td>\n",
              "      <td>espero nao percam pasaporte</td>\n",
              "      <td>Neutro</td>\n",
              "    </tr>\n",
              "    <tr>\n",
              "      <th>267</th>\n",
              "      <td>Só queria saber quem me mandou esses correios anónimo</td>\n",
              "      <td>queria saber mandou eses anonimo</td>\n",
              "      <td>Negativo</td>\n",
              "    </tr>\n",
              "    <tr>\n",
              "      <th>168</th>\n",
              "      <td>que tristeza depender dos Correios nesse fim de ano</td>\n",
              "      <td>tristeza depender nese fim</td>\n",
              "      <td>Neutro</td>\n",
              "    </tr>\n",
              "    <tr>\n",
              "      <th>8</th>\n",
              "      <td>Gente, manda minha gata por Correios que eu vou ficar por aqui</td>\n",
              "      <td>gente manda gata ficar aqui</td>\n",
              "      <td>Neutro</td>\n",
              "    </tr>\n",
              "    <tr>\n",
              "      <th>67</th>\n",
              "      <td>Tô ficando bolada já com esse Correios que não entrega meu celular</td>\n",
              "      <td>ficando bolada ese nao entrega celular</td>\n",
              "      <td>Neutro</td>\n",
              "    </tr>\n",
              "    <tr>\n",
              "      <th>238</th>\n",
              "      <td>Dá próxima vez que tiver frete pelo o Correios eu pago, mesmo que esteja R$1000,00 porque essas transportadora não serve para merda nenhuma além de te estressar</td>\n",
              "      <td>proxima vez frete pago r100 porque esas transportadora nao serve merda nenhuma alem estresar</td>\n",
              "      <td>Negativo</td>\n",
              "    </tr>\n",
              "    <tr>\n",
              "      <th>208</th>\n",
              "      <td>Fui chamado em mais um concurso hahahahah vocês não sabem a felicidade que é receber o telegrama dos Correios. Porém vou continuar na prefeitura do Rio mesmo.</td>\n",
              "      <td>chamado concurso hahahahah nao sabem felicidade receber telegrama coreios porem continuar prefeitura rio mesmo</td>\n",
              "      <td>Neutro</td>\n",
              "    </tr>\n",
              "    <tr>\n",
              "      <th>125</th>\n",
              "      <td>demoro 1 dia pra entrega eu ja to todo coxinha pedindo privatização dos correios</td>\n",
              "      <td>demoro dia entrega todo coxinha pedindo privatizacao</td>\n",
              "      <td>Neutro</td>\n",
              "    </tr>\n",
              "    <tr>\n",
              "      <th>167</th>\n",
              "      <td>que negócio chato essa taxa de 15 reais cobrada pelo correios viu pqp</td>\n",
              "      <td>negocio chato taxa reais cobrada viu pqp</td>\n",
              "      <td>Neutro</td>\n",
              "    </tr>\n",
              "    <tr>\n",
              "      <th>73</th>\n",
              "      <td>Olá nenês. \\n\\nEnvios pendentes serao feitos assim que estiver tudo normalizado  para envios no Correios BR. Espero que compreendam 💜</td>\n",
              "      <td>ola nenes envios pendentes serao feitos asim tudo normalizado envios espero comprendam</td>\n",
              "      <td>Neutro</td>\n",
              "    </tr>\n",
              "    <tr>\n",
              "      <th>179</th>\n",
              "      <td>Hoje nos correios uma mãe com duas crianças. As duas estavam brincando muito uma com a outra e riam o tempo todo e se abraçavam e aquele fuzuê de crianças que parecia que tinha umas 10!\\nImaginei se é isso o dia inteiro no ouvido da mãe e só consegui pensar \"Deus abençoe as mães\"!</td>\n",
              "      <td>hoje mae duas criancas duas brincando outra riam tempo todo abracavam fuzue criancas parecia umas imaginei dia inteiro ouvido mae consegui pensar deus abencoe maes</td>\n",
              "      <td>Neutro</td>\n",
              "    </tr>\n",
              "    <tr>\n",
              "      <th>245</th>\n",
              "      <td>O q q aconteceu c o Correios q tá entregando encomenda dentro do estado em 2 dias úteis? É pegadinha?</td>\n",
              "      <td>aconteceu entregando encomenda dentro estado dias uteis pegadinha</td>\n",
              "      <td>Negativo</td>\n",
              "    </tr>\n",
              "    <tr>\n",
              "      <th>129</th>\n",
              "      <td>fico vendo os correios anonimos que o @lovemail_ posta e so fico querendo receber um tbm :(</td>\n",
              "      <td>fico vendo anonimos posta fico querendo receber tbm</td>\n",
              "      <td>Neutro</td>\n",
              "    </tr>\n",
              "    <tr>\n",
              "      <th>143</th>\n",
              "      <td>Meu ódio principal de 2018 foi a droga dos correios, 2019 tá reservado pra Oi</td>\n",
              "      <td>odio principal 2018 droga coreios 2019 reservado</td>\n",
              "      <td>Negativo</td>\n",
              "    </tr>\n",
              "    <tr>\n",
              "      <th>43</th>\n",
              "      <td>dois correios anonimos numa semana so to começando a ficar com medo...</td>\n",
              "      <td>dois anonimos semana comecando ficar medo</td>\n",
              "      <td>Neutro</td>\n",
              "    </tr>\n",
              "    <tr>\n",
              "      <th>78</th>\n",
              "      <td>os correios trabalham ao fim de semana?</td>\n",
              "      <td>trabalham fim semana</td>\n",
              "      <td>Neutro</td>\n",
              "    </tr>\n",
              "    <tr>\n",
              "      <th>2</th>\n",
              "      <td>Tava lembrando dos correios elegantes dá escola, n tem nd melhor do q receber uma cartinha viu, pena q ninguém escreve cartinha de amor mais</td>\n",
              "      <td>tava lembrando elegantes escola melhor receber cartinha viu pena ninguem escreve cartinha amor</td>\n",
              "      <td>Neutro</td>\n",
              "    </tr>\n",
              "    <tr>\n",
              "      <th>82</th>\n",
              "      <td>eu to tão puta com os correios, tão passeando com a minha encomenda pelo rj inteiro</td>\n",
              "      <td>tao puta coreios tao paseando encomenda inteiro</td>\n",
              "      <td>Negativo</td>\n",
              "    </tr>\n",
              "    <tr>\n",
              "      <th>169</th>\n",
              "      <td>Ganhei uma sandália do tio dos Correios 😍</td>\n",
              "      <td>ganhei sandalia tio</td>\n",
              "      <td>Neutro</td>\n",
              "    </tr>\n",
              "    <tr>\n",
              "      <th>18</th>\n",
              "      <td>Os Correios estão numa preguiça de dar gosto. Duas semanas e nem sinal do meu certificado do curso de extensão/especialização que fiz.</td>\n",
              "      <td>preguica dar gosto duas semanas sinal certificado curso extensaoespecializacao fiz</td>\n",
              "      <td>Neutro</td>\n",
              "    </tr>\n",
              "    <tr>\n",
              "      <th>284</th>\n",
              "      <td>Eu já era a favor da privatização dos correios, depois de hoje mais ainda</td>\n",
              "      <td>favor privatizacao coreios hoje ainda</td>\n",
              "      <td>Neutro</td>\n",
              "    </tr>\n",
              "    <tr>\n",
              "      <th>210</th>\n",
              "      <td>Eu odeio os correios de todo meu coração</td>\n",
              "      <td>odeio todo coracao</td>\n",
              "      <td>Negativo</td>\n",
              "    </tr>\n",
              "    <tr>\n",
              "      <th>298</th>\n",
              "      <td>Tenho que ir nos correios, pegar minha encomenda :), mas a chave está com a vizinha, sorte que o povo me conhece, e deixa eu pegar. Pelo menos da outra vez, dessa não sei rs</td>\n",
              "      <td>coreios pegar encomenda chave vizinha sorte povo conhece deixa pegar menos outra vez desa nao sei</td>\n",
              "      <td>Neutro</td>\n",
              "    </tr>\n",
              "    <tr>\n",
              "      <th>273</th>\n",
              "      <td>Eu odeio tanto os correios. 😭😖</td>\n",
              "      <td>odeio tanto coreios</td>\n",
              "      <td>Negativo</td>\n",
              "    </tr>\n",
              "    <tr>\n",
              "      <th>21</th>\n",
              "      <td>Meu presentinho de Natal tem que ser entregue AMANHÃ pelos correios.</td>\n",
              "      <td>presentinho natal entregue amanha coreios</td>\n",
              "      <td>Neutro</td>\n",
              "    </tr>\n",
              "    <tr>\n",
              "      <th>261</th>\n",
              "      <td>O tempo que ando a passar nos correios até assusta</td>\n",
              "      <td>tempo ando pasar asusta</td>\n",
              "      <td>Neutro</td>\n",
              "    </tr>\n",
              "    <tr>\n",
              "      <th>270</th>\n",
              "      <td>Meu deus velho, olha\\nEu raramente fico puto, os correios chegaram perto de me deixar puto</td>\n",
              "      <td>deus velho olha raramente fico puto chegaram perto deixar puto</td>\n",
              "      <td>Negativo</td>\n",
              "    </tr>\n",
              "    <tr>\n",
              "      <th>152</th>\n",
              "      <td>uma dica pra vocês de quem for comprar coisa pela internet e eles não entregarem na sua área: baixem o aplicativo dos correios, coloca lá o código de rastreio e monitora por lá. O correio não tá mandando as cartas de retirada e o pessoal tá tendo que pagar taxa</td>\n",
              "      <td>dica comprar coisa internet nao entregarem area baixem aplicativo coreios coloca codigo rastreio monitora nao mandando cartas retirada pesoal tendo pagar taxa</td>\n",
              "      <td>Neutro</td>\n",
              "    </tr>\n",
              "    <tr>\n",
              "      <th>265</th>\n",
              "      <td>Só queria um retorno dos correios...</td>\n",
              "      <td>queria retorno coreios</td>\n",
              "      <td>Neutro</td>\n",
              "    </tr>\n",
              "    <tr>\n",
              "      <th>193</th>\n",
              "      <td>Toda porra de vez a saga: eu me estressando com os correios</td>\n",
              "      <td>toda pora vez saga estresando</td>\n",
              "      <td>Negativo</td>\n",
              "    </tr>\n",
              "    <tr>\n",
              "      <th>274</th>\n",
              "      <td>quando a amazon passa sua encomenda pros correios, que triste morte</td>\n",
              "      <td>amazon pasa encomenda pros coreios triste morte</td>\n",
              "      <td>Neutro</td>\n",
              "    </tr>\n",
              "    <tr>\n",
              "      <th>161</th>\n",
              "      <td>Cada item que comprei no Wish e no Ali os #correios fdp vão me cobrar R$15! Malditos, desgraçados, ardam no fogo do inferno!</td>\n",
              "      <td>cada item comprei wish ali fdp vao cobrar r15 malditos desgracados ardam fogo inferno</td>\n",
              "      <td>Negativo</td>\n",
              "    </tr>\n",
              "    <tr>\n",
              "      <th>20</th>\n",
              "      <td>Meus livros estão indo pra Viana tem três dias já. CADÊ MEUS LIVROS CORREIOS?</td>\n",
              "      <td>livros indo viana tres dias cade livros coreios</td>\n",
              "      <td>Neutro</td>\n",
              "    </tr>\n",
              "    <tr>\n",
              "      <th>44</th>\n",
              "      <td>[29/12 11:38 PM] Vitão ⚔⚔: Namoro via web\\n[29/12 11:38 PM] Vitão ⚔⚔: Uma maneira diferente de ser corno\\n[29/12 11:38 PM] Daniel ⚔⚔: Webcorno\\n[29/12 11:38 PM] Jair ⚔⚔: Chifre vem via correios\\n\\nKkkkkkkkkkkkkkkkkkkkkkkkkkkkkkkkkkkkkkklkkkkkkkkkkkkkkkkkkkkkkkkkkkkkkkkkkkkkkk</td>\n",
              "      <td>2912 138 vitao namoro via web 2912 138 vitao maneira diferente corno 2912 138 daniel webcorno 2912 138 jair chifre vem via klk</td>\n",
              "      <td>Negativo</td>\n",
              "    </tr>\n",
              "    <tr>\n",
              "      <th>160</th>\n",
              "      <td>fui no correios aqui perto e parece que nao tao curtindo mt trabalhar hoje</td>\n",
              "      <td>aqui perto parece nao curtindo trabalhar hoje</td>\n",
              "      <td>Neutro</td>\n",
              "    </tr>\n",
              "    <tr>\n",
              "      <th>166</th>\n",
              "      <td>Confraternização dos Correios está top 👌</td>\n",
              "      <td>confraternizacao top</td>\n",
              "      <td>Neutro</td>\n",
              "    </tr>\n",
              "    <tr>\n",
              "      <th>224</th>\n",
              "      <td>Quem só reclama dos Correios é pq nunca teve uma mercadoria na Total Express.</td>\n",
              "      <td>reclama nunca mercadoria total expres</td>\n",
              "      <td>Neutro</td>\n",
              "    </tr>\n",
              "    <tr>\n",
              "      <th>185</th>\n",
              "      <td>Boa notícia amoras ☺️ meu pai conversou com a moça do correios (amém boa lábia) e até 2kg consigo enviar por um frete BEM mais barato que o PAC ❤️</td>\n",
              "      <td>boa noticia amoras pai conversou moca amem boa labia 2kg consigo enviar frete bem barato pac</td>\n",
              "      <td>Positivo</td>\n",
              "    </tr>\n",
              "    <tr>\n",
              "      <th>228</th>\n",
              "      <td>Está difícil do Lula sair de Curitiba, acho que ele não esta preso na PF, está preso nos correios.</td>\n",
              "      <td>dificil lula sair curitiba acho nao preso preso coreios</td>\n",
              "      <td>Neutro</td>\n",
              "    </tr>\n",
              "    <tr>\n",
              "      <th>37</th>\n",
              "      <td>mano queria tanto receber aqueles correios anônimos soft mas n tenho amigo no sitekkkkkq fracasso</td>\n",
              "      <td>mano queria tanto receber anonimos soft amigo sitekq fracaso</td>\n",
              "      <td>Neutro</td>\n",
              "    </tr>\n",
              "    <tr>\n",
              "      <th>15</th>\n",
              "      <td>odeio o correios</td>\n",
              "      <td>odeio</td>\n",
              "      <td>Negativo</td>\n",
              "    </tr>\n",
              "    <tr>\n",
              "      <th>42</th>\n",
              "      <td>sera que os correios entregam coisas no dia 31? pq seria meu sonho meu celular chegar ainda esse ano</td>\n",
              "      <td>sera entregam coisas dia sonho celular chegar ainda ese</td>\n",
              "      <td>Neutro</td>\n",
              "    </tr>\n",
              "    <tr>\n",
              "      <th>130</th>\n",
              "      <td>finalmente meus biquínis foram colocados nos correios, agora é torcer pra chegar antes do verão acabar</td>\n",
              "      <td>finalmente biquinis colocados coreios agora torcer chegar antes verao acabar</td>\n",
              "      <td>Neutro</td>\n",
              "    </tr>\n",
              "    <tr>\n",
              "      <th>136</th>\n",
              "      <td>Ainda não me conformei com essa taxa de despacho postal dos correios. Agora não posso nem mais aliviar minha tristeza comprando coisas da China pq só dá mais dor de cabeça...</td>\n",
              "      <td>ainda nao conformei taxa despacho postal coreios agora nao poso aliviar tristeza comprando coisas china dor cabeca</td>\n",
              "      <td>Negativo</td>\n",
              "    </tr>\n",
              "    <tr>\n",
              "      <th>183</th>\n",
              "      <td>Passei tanta raiva no correios</td>\n",
              "      <td>pasei tanta raiva</td>\n",
              "      <td>Negativo</td>\n",
              "    </tr>\n",
              "    <tr>\n",
              "      <th>146</th>\n",
              "      <td>A @riachuelo me mandou uma blusa em apenas 3 dias úteis depois da confirmação do pagamento e com um frete super barato.\\n\\nAinda bem que ela não utiliza os Correios.\\n\\n❤️💙Riachuelo online é a melhor Riachuelo💙❤️</td>\n",
              "      <td>mandou blusa apenas dias uteis confirmacao pagamento frete super barato ainda bem nao utiliza coreios riachuelo online melhor riachuelo</td>\n",
              "      <td>Positivo</td>\n",
              "    </tr>\n",
              "  </tbody>\n",
              "</table>\n",
              "</div>"
            ],
            "text/plain": [
              "                                                                                                                                                                                                                                                                                texto_original  ... PRED_FINAL\n",
              "32   pra mim correios tinha que trabalhar todo dia, pra deixar de entregar as coisas atrasado                                                                                                                                                                                                   ...  Negativo \n",
              "226  depois do cara dos correios ser imensamente grosso comigo chego no carro e por um minuto ele não eh rebocado sextou                                                                                                                                                                        ...  Negativo \n",
              "11   Eu animadíssimaaaaaa\\n2 mins dps lembrei que seria impossível pois os correios podem foder com tudo já que tratam as encomendas feitos ogrooos ai que raiva                                                                                                                                ...  Negativo \n",
              "36   Meu relógio do Edward já chegou :c mas os correios estão fechados pra virada do ano.\\n\\nEu vou pegar ele só na quarta ou na quinta :c                                                                                                                                                      ...  Positivo \n",
              "94   a desgraça dos Correios devolveu minha mercadoria que eu to esperando a 3 meses pra China                                                                                                                                                                                                  ...  Negativo \n",
              "250  tomara que segunda os correios entregue meus anéis                                                                                                                                                                                                                                         ...  Negativo \n",
              "162  Queria uma boa notícia dos correios... Só uma...                                                                                                                                                                                                                                           ...  Neutro   \n",
              "258  Eu fico imaginando quem pede privatização dos Correios certamente não passou raiva com transportadora.                                                                                                                                                                                     ...  Neutro   \n",
              "292  minhas arma me acordaram pra assinar um papel e de tarde meu pai vai nos correios retirar                                                                                                                                                                                                  ...  Neutro   \n",
              "48   N preciso pombos correios, obg😀                                                                                                                                                                                                                                                            ...  Neutro   \n",
              "243  última sexta do ano q ja começou eu me chateando e agora puta com os correios...                                                                                                                                                                                                           ...  Negativo \n",
              "158  Não há necessidade de xingar o Correios aqui, porque eu já não tenho mais saco pra isso. O jeito é ir naquela MERDA de agência segunda-feira e pessoalmente pegar a correspondência, porque não vale a pena se estressar com esses carteiros inúteis dessa cidade.                         ...  Negativo \n",
              "137  Curitiba é o limbo dos correios, pqp                                                                                                                                                                                                                                                       ...  Negativo \n",
              "154  olhei agr no site dos Correios minha blusa do Flamengo passou por Curitiba ontem e ta chegando em São Paulo, mano tomara q chegue no rio antes do dia 31 q eu acho q é quase impossível 😔                                                                                                  ...  Neutro   \n",
              "90   Definitivamente eu odeio os correios                                                                                                                                                                                                                                                       ...  Negativo \n",
              "164  Ah mano porra eu sou mt ansioso pq q o Correios só funciona dia de semana??????? Vou ter q esperar DOIS dias pra chegar minha mesa sendo q já chegou aqui na cidade oh caraio                                                                                                              ...  Negativo \n",
              "128  correios socaram no cy meu album                                                                                                                                                                                                                                                           ...  Negativo \n",
              "96   Aí cara eu odeio os correios                                                                                                                                                                                                                                                               ...  Negativo \n",
              "24   PELO AMOR DE DEUS TOMARA QUE OS CORREIOS TRABALHEM AMANHÃ, principalmente o SEDEX QUE PAGUEI.                                                                                                                                                                                              ...  Neutro   \n",
              "297  Eu ODEIO os correios, sempre acabo me estressando toda vez que encomendo algo! Que porcaria                                                                                                                                                                                                ...  Negativo \n",
              "68   os correios estão cobrando desde agosto R$15 por pacote de compra internacional mesmo não sendo tacado pela receita. além de impostos que pagamos para manter o péssimo serviço deles agora temos que pagar 15 reais por pacote, isso é um absurdo.                                        ...  Negativo \n",
              "295  Será que e só a minha roupa que não chego dos correios 🏤🥺                                                                                                                                                                                                                                  ...  Negativo \n",
              "280  - Na ditadura que era bom! Os Correios eram uma empresa respeitável e eficiente, orgulho do Brasil. \\n- Querem vender com os Correios.\\n- Tá certo! Bando de vagabundos que nunca fizeram nada direito e blá blá blá...                                                                    ...  Neutro   \n",
              "190  Que raiva dos Correios                                                                                                                                                                                                                                                                     ...  Negativo \n",
              "66   to bem arrasada com esses correios que eu recebi esse ano, sério! foi lindo demais, mas nem parecia que eu ia tomar no cu                                                                                                                                                                  ...  Negativo \n",
              "200  Meu white people problem de hoje é: vendi minha calça da Amaro e acabei de sair dos correios. No ônibus voltando pra casa, outra roupa foi comprada. EU PODERIA TER DADO SÓ UMA VIAGEM.                                                                                                    ...  Neutro   \n",
              "57   Vey pq q o perfil oficial do Correios tá curtindo o Twitter do Bonoro? Kkkkkkkk paia isso                                                                                                                                                                                                  ...  Negativo \n",
              "95   os correios colocaram que meu endereço está errado só pra não entregar meus produtos hoje. que raiva                                                                                                                                                                                       ...  Negativo \n",
              "123  Caramba é preciso de muita sorte pra isso acontecer! Agora não tenho uma encomenda perdida pelos Correios. Eu tenho DUAS!!!! Valeu @CorreiosBR é preciso de muita competência pra deixar isso acontecer. Serviço nota 1000. 🤬😡🤬😡                                                           ...  Neutro   \n",
              "131  correios cobrem mais barato por favor ja n tenho dinheiro e tenho q devolver vários livros                                                                                                                                                                                                 ...  Neutro   \n",
              "102  o sistema dos correios tá um lixo esse fim de ano, hein?                                                                                                                                                                                                                                   ...  Negativo \n",
              "181  odeio mt os correios por me fazer andar tento                                                                                                                                                                                                                                              ...  Negativo \n",
              "76   A pior parte de fazer #comprasonline é esperar a entrega, principalmente se é feita pelos #correios                                                                                                                                                                                        ...  Positivo \n",
              "70   Meu tear já ta em porto alegre o q fode é q os correios de Viamão demoram uma eternidade                                                                                                                                                                                                   ...  Negativo \n",
              "201  O mano, no correios ta falando que foi entregue minha camisa eu não recebi nada                                                                                                                                                                                                            ...  Negativo \n",
              "187  O celular encomendado não chegou, estou há dias na enrolação pelo cancelamento e reembolso e me chega o chip que era brinde da compra. O CHIP. Só pra me dar mais um trabalho de eu ir aos Correios pra devolver.                                                                          ...  Negativo \n",
              "28   Sonhei que tava na praia pro ano novo, 3 caminhões afundaram no mar, um dor correios, um da coca e um da Ambev                                                                                                                                                                             ...  Neutro   \n",
              "156  Maioria das pessoas que trabalham nos correios são uns filhos da puta ...                                                                                                                                                                                                                  ...  Negativo \n",
              "254  Tenho uma teoria de que quanto mais você rastreia um pedido nos correios, mas ele demora a chegar                                                                                                                                                                                          ...  Negativo \n",
              "204  Certeza que a minha bolsa vai chegar quando eu estiver lá na praia e eu vou ter que ficar ligando pro centro de distribuição dos correios aqui perto de casa pra ver se eles seguram a minha encomenda ali pra eu pegar dia 7 ou p pedir pros meus pais pegarem dia 3                      ...  Neutro   \n",
              "86   Foda se foi a única que não recebeu as notas 😭 esqueceram se de mim, vou processar os correios 😂😂                                                                                                                                                                                          ...  Negativo \n",
              "217  Correios acelera o passo para meu bot chegar logo                                                                                                                                                                                                                                          ...  Negativo \n",
              "22   Fiz três compras internacionais no final de novembro. \\nEm duas delas eu não fui cobrada pelos correios: já foram entregues.\\nEm uma me foi cobrada a nova taxa de 15 reais dos correios. O prazo pra chegar na minha casa é 40 dias úteis. \\n\\nMas era pra agilizar o processo, né?       ...  Positivo \n",
              "19   mano eu vi agora q picharam \"privatiza\" no portão do Correios aqui na rua de trás de casa                                                                                                                                                                                                  ...  Neutro   \n",
              "135  Meu sofrimento é acompanhar o pedido pelos correios                                                                                                                                                                                                                                        ...  Neutro   \n",
              "85   correios entregando num sábado, quem te viu quem te vê                                                                                                                                                                                                                                     ...  Neutro   \n",
              "212  Os correios poderiam me ajudar, que demora                                                                                                                                                                                                                                                 ...  Neutro   \n",
              "63   Partiu Fut nos Correios!                                                                                                                                                                                                                                                                   ...  Neutro   \n",
              "9    Próximo quinta feira o carteiro do correios vai cansar de passar aqui em casa                                                                                                                                                                                                              ...  Neutro   \n",
              "290  Não acharia nem um pouco ruim dos Correios entregarem o meu terno hoje                                                                                                                                                                                                                     ...  Neutro   \n",
              "248  Mais uma vez @LojasMarabraz @LojaMarabraz @zcloficial fazem eu retornar aos #Correios para gastar mais $15 em AR com a falta de respeito deles com nós #Consumidores                                                                                                                       ...  Negativo \n",
              "246  não vou mais responder os correios                                                                                                                                                                                                                                                         ...  Negativo \n",
              "279  Já rodei o terreno todo esperando os correios                                                                                                                                                                                                                                              ...  Neutro   \n",
              "14   Ei @jairbolsonaro tira o monopólio dos correios para logística que vc vai ver o país crescer.                                                                                                                                                                                              ...  Neutro   \n",
              "205  Que preguiça de ir aos correios                                                                                                                                                                                                                                                            ...  Neutro   \n",
              "50   MANO QUE AGONIA\\n\\no negócio já tá no Correios mas só dá pra pegar segunda                                                                                                                                                                                                                 ...  Neutro   \n",
              "151  Pensei q o Correios dos EUA fosse mais organizado mas depois dessa gsus                                                                                                                                                                                                                    ...  Positivo \n",
              "127  toda vez que o app do correios atualiza minha encomenda eu choro                                                                                                                                                                                                                           ...  Neutro   \n",
              "34   Nesse réveillon vou agradecer a Deus por está vivo ainda agradecer pelos livramentos\\nAgradecer pela minha família que está todo mundo bem \\nOque importa e está com saúde o resto nos correios atrás                                                                                      ...  Positivo \n",
              "236  Será que a Manuela vai defender a privatização dos Correios quando começar a receber reclamações de atrasos nas entregas?                                                                                                                                                                  ...  Neutro   \n",
              "33   e meu mouse ainda n chego\\nodeio os correios                                                                                                                                                                                                                                               ...  Positivo \n",
              "3    Mn sé o correios entregar o bgl amanhã eu vou ficar muito feliz pprt                                                                                                                                                                                                                       ...  Neutro   \n",
              "80   Fui aos correios do shopping fazer os últimos envios do ano e Pedrinho pediu p ir agradecer o papai noel pelos presentes desse ano 😂😍\\nComo não se orgulhar do ser humano que ele esta se formando?!\\n#PedrinhoEducado #mamaebabona #Pedrinhograto #Pedrinho5anos\\n🎅🎄🎁                     ...  Neutro   \n",
              "47   Correios taxando o caralho todo vai se foder                                                                                                                                                                                                                                               ...  Negativo \n",
              "171  Nada no Brasil é pior que os Correios, pqp                                                                                                                                                                                                                                                 ...  Negativo \n",
              "91   tem 116 pessoas na minha frente aqui na fila dos correios                                                                                                                                                                                                                                  ...  Neutro   \n",
              "180  to em Vila velha trabalhando com meu patrao no correios😴                                                                                                                                                                                                                                   ...  Negativo \n",
              "165  Passei 40 anos nos correios, porém voltei com meus bbs                                                                                                                                                                                                                                     ...  Neutro   \n",
              "232  Comprei um watercooler da @CoolerMaster na @kabumcombr que veio vazando líquido. Entrei em contato com a loja rapidamente após abertura da caixa e após o envio de algumas fotos e alguns protocolos de praxe eles prontamente enviaram um código dos correios, embalei certinho...        ...  Neutro   \n",
              "104  um fret de 30 reais vc não ta querendo ajudar tbm correios                                                                                                                                                                                                                                 ...  Neutro   \n",
              "100  ontem os correios não entregaram nada e apareceu \"entrega não pode ser feita, carteiro não atendido\" aí agora o bagui saiu p entrega de novo, quero só ver                                                                                                                                 ...  Positivo \n",
              "119  eu fiquei em casa a manhã inteira e minha avó o dia inteiro aí quando a gente sai a porra dos correios vem com a encomenda caralho em isso q eh sorte                                                                                                                                      ...  Neutro   \n",
              "237  eu falei pro cara do correios esperar um minuto (e ele tava escutando pq ele tinha falado cmg) ele simplesmente FOI EMBORA FOI EMBORAAAA                                                                                                                                                   ...  Negativo \n",
              "225  Pra posta algo tipo uma camisa ou coisa pequena pelo Correios tem que pagar isso ???                                                                                                                                                                                                       ...  Positivo \n",
              "281  Quem acha que privatizar os correios vai resolver tudo certamente não conhece os serviços da DirectLog                                                                                                                                                                                     ...  Neutro   \n",
              "38   to esperando meu certificado pelos correios 😍✌🏻🤫🥴🤪                                                                                                                                                                                                                                         ...  Neutro   \n",
              "41   meus dois álbuns chegaram eh só ir buscar nos Correios e eu n aguento mais essa merda de praia eu to numa caverna quero minha casa meus albuns to surtando tudo num tuite pq n tenho internet p.mais                                                                                       ...  Negativo \n",
              "222  Esses bofinho dos correios que isso já quero o contato                                                                                                                                                                                                                                     ...  Negativo \n",
              "239  Mercado livre fdp, uma hora entrega no meu endereço outra não, tenho q ir lá nos correios                                                                                                                                                                                                  ...  Negativo \n",
              "124  Como eu sou uma pessoa muito previnida, eu justifico a multa no site e via correios! #quemnunca                                                                                                                                                                                            ...  Neutro   \n",
              "51   a pior parte de vc esperar um pacote dos correios nem é sair do buraco negro q é curitiba e sim do buraco negro de resende, as coisas chegam aqui e eles entregam o dia que eles querem bichoooooo                                                                                         ...  Negativo \n",
              "214  Vou passar a tarde toda nos correios fds                                                                                                                                                                                                                                                   ...  Negativo \n",
              "263  os correios entregam no sábado?                                                                                                                                                                                                                                                            ...  Neutro   \n",
              "65   mas né, correios                                                                                                                                                                                                                                                                           ...  Neutro   \n",
              "99   Eu já perdi as contas de quantas vezes entrei no site dos correios, de ontem pra hoje kk                                                                                                                                                                                                   ...  Neutro   \n",
              "144  tou à espera de uma encomenda desde dia 25, tão a brincar comigo só pode, ainda por cima em correio azul que devia de ser entregue em 24h, a puta da encomenda já está em Portugal à dois dias nos correios e os cabroes não me trazem a encomenda                                         ...  Negativo \n",
              "216  a prova que chaves é mais brasileiro que mexicano é o jaiminho ser igualzinho aos funcionários dos correios                                                                                                                                                                                ...  Neutro   \n",
              "170  meu deus quase cinco horas da tarde e o carro dos correios ainda n passou                                                                                                                                                                                                                  ...  Negativo \n",
              "58   que odio dos correios bicho                                                                                                                                                                                                                                                                ...  Negativo \n",
              "163  Hoje eu paguei os famoso 15ão de importação dos Correios pqp Paulo Guedes privatiza tudooooo                                                                                                                                                                                               ...  Negativo \n",
              "84   Eu só queria que os Correios viessem deixar minha última encomenda desse ano.                                                                                                                                                                                                              ...  Negativo \n",
              "196  Alguém me segura, pq eu vou tacar fogo nos correios!!!!                                                                                                                                                                                                                                    ...  Neutro   \n",
              "285  apareceu um ad de uma luminária no instagram ontem, aí eu gostei e comprei, e já saiu pra entrega hoje kkkkkkk \\ncorreios eu te amo                                                                                                                                                        ...  Positivo \n",
              "272  Na moral odeio os correios, podia ser tão simples mandar a rapaziada entregar as coisas, mas não, tem que ficar mandando pra lá e pra cá                                                                                                                                                   ...  Negativo \n",
              "157  RDR2 = ganhar 3 dólares numa missão, ficar com a cabeça a prêmio por 125 dólares e ter que juntar esse dinheiro pra pagar nos Correios e ter um pouco de paz                                                                                                                               ...  Neutro   \n",
              "112  Chorando ao lembrar q vou passar reileao em guriri mas o vestido q comprei p passar o mesmo, ta em alegre NOS CORREIOS. To triste n to feliz                                                                                                                                               ...  Neutro   \n",
              "27   Do nada a Nath chegou lá me xingando e tinha um cara preso no caminhão dos correios                                                                                                                                                                                                        ...  Negativo \n",
              "291  Eu peguei um uber pra ir nos correios ai chamo o 99 e pego o mesmo cara pra voltar kkkk                                                                                                                                                                                                    ...  Positivo \n",
              "6    Diz pra mim que o correios funcionam amanhã! 🙏🏻🙏🏻🙏🏻🙏🏻                                                                                                                                                                                                                                      ...  Neutro   \n",
              "0    [21:05:25] pai taokei: Seu telefone e que operadora\\n\\n [21:06:11] Alexandre Mattos: é do Correios Celular kkkk\\n\\n [21:06:19] Alexandre Mattos: operadora do correios\\n\\n [21:07:18] pai taokei: Blz então                                                                                ...  Neutro   \n",
              "219  maldito fim de ano q os correios n att                                                                                                                                                                                                                                                     ...  Negativo \n",
              "249  eu tenho um ódio fudido desse correios de Nilópolis, só tem gente incompetente puta que pariuuuu                                                                                                                                                                                           ...  Negativo \n",
              "30   Correios. Façam de mim uma pessoa orgulhosa 🙌🏻                                                                                                                                                                                                                                             ...  Neutro   \n",
              "252  num dá nem pra cagar pq tem que fica esperando o correios                                                                                                                                                                                                                                  ...  Negativo \n",
              "97   eu sou mto adulta \\ntô ASSINANDO MEU PLANO DE SAÚDE \\ntem noção? nunca assinei nada que não fosse entrega dos Correios                                                                                                                                                                     ...  Positivo \n",
              "88   Precisando postar o item e não tem uma agência dos correios aberta hoje. Isso porque falaram que algumas iam estar de plantão.                                                                                                                                                             ...  Neutro   \n",
              "260  Quem só reclama dos Correios é pq nunca teve uma mercadoria na Total Express.                                                                                                                                                                                                              ...  Neutro   \n",
              "251  ah sei lá último lugar que eu quero trabalhar é correios pq pela cara dos cara de merda e a vontade DEVE SER HORRÍVEL                                                                                                                                                                      ...  Negativo \n",
              "195  que raiva o negócio dos correios dizendo que o carteiro não pode ser atendido o carteiro NEM VEIO AQUI EM CASA UI QUE ÓDIO                                                                                                                                                                 ...  Negativo \n",
              "203  Você ta de boa vagabundando dentro de casa ninguém lembra de ti, quando tu vai gravar é natação, correios, gente ligando, problemas no trabalho. Eu só quero gravar um vídeozinho puifa                                                                                                    ...  Neutro   \n",
              "198  Correios não consegue fazer uma entrega se algum problema. A gente liga eles não conseguem nem atender a um telefonema. Q desserviço vcs prestam.                                                                                                                                          ...  Negativo \n",
              "218  meus livros chegaram muito rápido parabéns correios                                                                                                                                                                                                                                        ...  Positivo \n",
              "132  comprei um negócio e já tava esperando os correios aí lembrei q esqueci de pagar o boleto                                                                                                                                                                                                  ...  Neutro   \n",
              "110  Pra piorar minha relação com os Correios recentemente meu primo comprou uma encomenda que foi assaltada. Ou seja, mesmo ainda estando no prazo eu estou muito tenso com a minha.                                                                                                           ...  Neutro   \n",
              "111  Meus nenens já foram mandados para os correios 😍😍😍😍 aparentemente vai chegar antes do esperado                                                                                                                                                                                             ...  Positivo \n",
              "233  Meu Marmitex deve ter vindo pelo correios e foi desviado para Curitiba                                                                                                                                                                                                                     ...  Negativo \n",
              "191  Busquei meu cell no correios hoje, não tava aguentando essa demora pra entregar                                                                                                                                                                                                            ...  Neutro   \n",
              "155  saiu pra entrega e nao chegou eu vou comer o cu dos correios                                                                                                                                                                                                                               ...  Positivo \n",
              "54   Por que demorei tanto tempo pra comprar Salto Mortal? aaa agora não me aguento de ansiedade pra esse livro chegarrrr. correios, pfvrr trabalhem na segunda!!                                                                                                                               ...  Neutro   \n",
              "23   Correios de Curitiba pfvr libera meu army bomb 3 meses já                                                                                                                                                                                                                                  ...  Neutro   \n",
              "93   Meu celular chegou dia 17 no Brasil e o Correios não movimentou até então                                                                                                                                                                                                                  ...  Neutro   \n",
              "25   Será que os correios entregam amanhã? 🙄🤭                                                                                                                                                                                                                                                   ...  Neutro   \n",
              "188  Passando raiva com os maravilhosos serviços dos Correios 😠😠...eu hein!                                                                                                                                                                                                                     ...  Negativo \n",
              "282  mano, eu esperando a merda da cnh chegar e ela nem pro correios foi ainda                                                                                                                                                                                                                  ...  Negativo \n",
              "175  Eu odeio as agências de correios!!!                                                                                                                                                                                                                                                        ...  Neutro   \n",
              "227  ligando pros correios pra ver se consigo resolver essa merda de situação dos meus álbuns na anvisa pq tá difícil                                                                                                                                                                           ...  Negativo \n",
              "172  N consegui enviar o meu celular p Sp hj e cm o Correios é uma merda só volta quarta e eu só vou poder enviar quarta p chegar lá pela sexta pra voltar depois de um mes e demorar mais dois dias pra chegar na minha casa, ou seja só lá pelo dia 7 de fevereiro estarei c meu celular :(   ...  Neutro   \n",
              "134  se eu não for no casamento é pq o correios errou o endereço pra deixar meu convite                                                                                                                                                                                                         ...  Negativo \n",
              "215  Comprei um celular no Mercado Livre ontem e hoje ele já saiu pra entrega. Correios: nunca critiquei.                                                                                                                                                                                       ...  Positivo \n",
              "207  Vou ficar até às 19h a olhar pela janela a ver se chega o homem do correios para me entregar o monitor                                                                                                                                                                                     ...  Neutro   \n",
              "150  encomendei o livro antes de ontem para começar a ler hoje no máximo, pedi p irem levantar hoje aos correios, não foram agora só abre na quarta fds kkkkk puta de brincadeira                                                                                                               ...  Negativo \n",
              "122  última sexta do ano:banco, correios, problemas com banco e correios, falta de paciência e ninguém pra tomar um litrão...#sextou                                                                                                                                                            ...  Neutro   \n",
              "202  DPS DE 1 MES NOS CORREIOS E NO TOTAL 5 MESES A ESPERA QUE O TEMPO DO PROJETO SEJA FINALIZADO, EU FINALMENTE VOU TER MEU PHOTOBOOK DO DREAMCATCHER                                                                                                                                          ...  Negativo \n",
              "209  Juro que odeio os correios mete-me um nojo, é sempre a mesma coisa, devem achar que eu vou ter que estar o dia todo em casa à espera de uma encomenda , pfv                                                                                                                                ...  Negativo \n",
              "87   poxa, correios...... entrega meu presente de natal logo 😔                                                                                                                                                                                                                                  ...  Neutro   \n",
              "108  Imaginem este conceito que aparentemente já é feito noutros países mas acho que ainda não chegou à tuga. Todas as cartas que os chavalos escrevessem e fossem enviadas ao pai natal pelos correios ficarem livres para a acesso e qq cidadão pode ler a carta e dar ele essa prenda+       ...  Neutro   \n",
              "192  Muito feliz que o Correios entregou minhas encomendas antes do ano novo                                                                                                                                                                                                                    ...  Positivo \n",
              "269  EU DESCOBRI PQ OS CORREIOS DEMORAM                                                                                                                                                                                                                                                         ...  Negativo \n",
              "107  Ontem cheguei em ksa e vi q os Correios foram beeeem generosos comigo! Tinha pelo menos umas 10 caixas de encomendas 😂😂 e meu Adidas Stan Smith que ganhei de natal e estou apaixonaada 🥰                                                                                                  ...  Positivo \n",
              "184  Mochila com capa de chuva impermeável.\\nCapacidade: 26l\\nAcompanha um exclusivo porta-capacete.\\nSuporta até 12 kg.\\n\\nProduto novo!\\nLoja virtual.\\nEntrega em todo o Brasil. Via Correios.                                                                                               ...  Positivo \n",
              "241  Meu deus parou uma van dos correios aqui na rua de casa                                                                                                                                                                                                                                    ...  Neutro   \n",
              "287  Correios,petrobras,BB, lei rouanet etc...2019 tem que começar as privatizaçoes  chega de so os petralhas ganhar e acumular verbas publicas                                                                                                                                                 ...  Neutro   \n",
              "173  Velho que raiva pq não chega logo as minhas entrega em correios você me odeia?                                                                                                                                                                                                             ...  Negativo \n",
              "46   AAAAAAAAAAAAAAAAAA meu celular ta a caminho de SVP... só que agora vem feriado... será que os correios trabalham Segunda? kk                                                                                                                                                               ...  Neutro   \n",
              "257  Os Correios atrasam cartões de natal e boas festas até de quem mente que enviou.                                                                                                                                                                                                           ...  Negativo \n",
              "16   minha carta de hogwarts tá presa no correios de curitiba faz tempo hein                                                                                                                                                                                                                    ...  Negativo \n",
              "220  Cara o serviço dos correios é muito ruim                                                                                                                                                                                                                                                   ...  Negativo \n",
              "139  Minha mãe hj me acordou falando que estavam me chamando no portão e que era do correios, eu desci toda atravessa com a cara amassada e tudo, abri o portão, e não tinha ninguém. NINGUÉM. Era de outra casa q estavam chamando                                                             ...  Neutro   \n",
              "117  quanto sera q custa pra eu manda uma boina pro soonyoung via malote dos correios                                                                                                                                                                                                           ...  Neutro   \n",
              "69   Eu odeio comprar em lugar que o frete não é dos correios, tipo a C&amp;A.                                                                                                                                                                                                                  ...  Negativo \n",
              "45   Eu fico lendo os correios anônimos dos outros e é tão fofo, aff                                                                                                                                                                                                                            ...  Neutro   \n",
              "39   Pro meu 2018 terminar perfeito, só peço que os Correios trabalhem no dia 31 e entreguem os famigerados pc+monitor\\nFicaria felizao                                                                                                                                                         ...  Neutro   \n",
              "141  *bolsonaro privatiza os correios e a empresa vira uma das mais eficientes do mundo* (não acredito que isso possa acontecer, mas vamos convencionar q sim)\\n\\nturminha do twitter contra o fascismo: ah agora eu entregar minhas encomendas de bicicleta pra boicotar a empresa fascista    ...  Neutro   \n",
              "5    Taí! Um dos primeiros jogos que vou comprar em 2019 vai ser o Mario Tennis! Que bom que abriu uma @LojaBigBoyGames  em Brasília, pq dessa vez faço questão de ir na loja buscar. Trauma dos Correios MODE ON!!! 🤣                                                                          ...  Negativo \n",
              "40   não sei como ninguém reclamou sobre a taxa obrigatória de 15 reais dos correios para receber o pacote\\nsério, é ridiculo                                                                                                                                                                   ...  Negativo \n",
              "77   Acho que a única coisa mais lerda que o site dos Correios e o Sistema Acadêmico da UFRJ sou eu mesma                                                                                                                                                                                       ...  Neutro   \n",
              "296  Cada dia que passa, fico com mais nojo dos correios... Privatização Já!                                                                                                                                                                                                                    ...  Neutro   \n",
              "229  Os Correios resolveram entregar uma das minhas encomendas na minha casa (e não precisarei ir na agência buscar, dessa vez). Nem acreditei! Presente de Natal atrasado isso (ele devia estar parado em Curitiba, rs).                                                                       ...  Negativo \n",
              "120  Se dia primeiro de janeiro não privatizarem o correios eu já vou pedir impitima                                                                                                                                                                                                            ...  Neutro   \n",
              "147  Esse é o mal de comprar pela net, esperar os correios                                                                                                                                                                                                                                      ...  Negativo \n",
              "294  Estou desde as 9 acordado à espera que os correios tragam o meu portátil ...\\nTou a dar em maluco :)                                                                                                                                                                                       ...  Neutro   \n",
              "109  Gente me tira uma dúvida, os correios funcionam aos sábados?                                                                                                                                                                                                                               ...  Neutro   \n",
              "153  esse pessoal dos correios são uns fdp                                                                                                                                                                                                                                                      ...  Negativo \n",
              "206  #correios unindo as famílias brasileiras, todo mundo nas agências com vô, vó, filho de colo, tia doente. Só pra escapar da fila.......                                                                                                                                                     ...  Neutro   \n",
              "138  A porra dos correios não libera a opção de pagar o despacho la no site, e meu ukulele não chega por causa disso... Que ódio que tenho dessa empresa maldita... Serviço caro pra um caralho e igualmente uma merda...                                                                       ...  Negativo \n",
              "189  Péssimo serviço dos Correios                                                                                                                                                                                                                                                               ...  Negativo \n",
              "230  Gente, olha que legal a @SigaZattini me mandou o produto errado 2x, mesmo eu avisando que isso ia acontecer e agora quer que eu paguei os Correios para devolver o produto! Tá de SACANAGEM                                                                                                ...  Negativo \n",
              "29   Após dia 1º de Janeiro, veremos GREVES\\nGreves de bancários\\nGreve dos Correios\\nGreves\\nPara a geração adolescente-petista, que nunca viveu isso, já aviso: O PT, PSOL e PC do B, sempre fizeram isso, é só isso que eles sabem fazer fazer, além de roubar, claro.                       ...  Neutro   \n",
              "264  eu odeio os correios AAAAAA minhas encomendas chegaram todas fudidas as caixas                                                                                                                                                                                                             ...  Negativo \n",
              "145  E hoje fui mostrar um print pro cara do correios,ele ficou vendo m fotos\\nDEI UM GRITO\\nAbusado                                                                                                                                                                                            ...  Positivo \n",
              "293  Eu lindíssima ligando nos correios e pedindo para eles passarem mais cedo hj                                                                                                                                                                                                               ...  Neutro   \n",
              "49   Gostaria de agradecer ao presidente @jairbolsonaro pelo convite para a posse presidencial. Infelizmente o convite ainda não chegou, com certeza é problema nos correios.                                                                                                                   ...  Negativo \n",
              "115  tô indignada q mandei meu celular p garantia pelos correios quarta, chegou lá hoje, já arrumaram e vão mandar em até 24hrs mas vou tá viajando 😭😭😭                                                                                                                                         ...  Neutro   \n",
              "133  S usar branco atraísse paz, nnhm médico ficaria em depressão. Se usar amarelo atraísse dinheiro, o pessoal ds correios estariam rico ! S usar vermelho resolvesse a vd amorosa, nhm bombeiro se divorciava ... N adianta passar a virada d ano d brnco e passar o rstnte d ano ns trevas   ...  Neutro   \n",
              "211  Correios é uma bosta mesmo                                                                                                                                                                                                                                                                 ...  Negativo \n",
              "56   eu pensei que tinha perdido meu cartão mas não, só guardei ele na caixinha de correios mesmo                                                                                                                                                                                               ...  Neutro   \n",
              "174  Vi o carro dos correios parado na esquina me iludi achando q era o meu tear                                                                                                                                                                                                                ...  Negativo \n",
              "286  \"mais meia hora e vou para casa\"\\n (passado 2h) \\neu: atao??\\nele: To a ir agora para casa 😒😑\\n SENDO QUE QUERO IR AOS CORREIOS E IR TER C O RODRIGO AS 14:30, QUE HORAS SÃO ? 14h 😑😑😑😑😑😑😑😑😑                                                                                               ...  Neutro   \n",
              "35   Será que os correios funcionará dia 31?                                                                                                                                                                                                                                                    ...  Neutro   \n",
              "194  Muita Raiva dos Correios! \\n😡                                                                                                                                                                                                                                                              ...  Negativo \n",
              "268  Felicidade é olhar o correios e ver que sua encomenda já chegou 😍💁🏻                                                                                                                                                                                                                        ...  Positivo \n",
              "98   minha blusa está nos correios, vou pegar só segunda                                                                                                                                                                                                                                        ...  Neutro   \n",
              "1    Acho que os correios resolveram deixar pra lá a compra que fiz na colourpop e só liberar ano que vem mesmo (foi enviada 12 dez, até agora não tem atualização de rastreio)                                                                                                                 ...  Neutro   \n",
              "121  hj no fut eu entreguei o suficiente pra arranjar um emprego nos Correios                                                                                                                                                                                                                   ...  Neutro   \n",
              "221  - odeio os correios 😡😡😡😡                                                                                                                                                                                                                                                                   ...  Negativo \n",
              "26   Em casa, estou em casa! Encontrei muitos pacotes de presente na caixa de correios. Queria poder ter passado com os familiares, mas sinto que cada um agora passa entre os filhos, netos... E então, a velha Mary acaba se reclusando com o coração apertado, só me faltam os gatos!        ...  Positivo \n",
              "53   Tomara que pegue fogo nos correios tbm, pra aprender a entregar as coisas no prazo\\nMas não pegue fogo no que tá minhas coisa, pode ser em outro                                                                                                                                           ...  Negativo \n",
              "197  aeee acabou a luz nos correios                                                                                                                                                                                                                                                             ...  Neutro   \n",
              "159  ter ódio profundo no seu coração pelos Correios é sinal de equilíbrio emocional                                                                                                                                                                                                            ...  Negativo \n",
              "103  Só quero pegar meu tênis Fila logo aff, vem pra Bangu final de semana, correios fechado.                                                                                                                                                                                                   ...  Neutro   \n",
              "114  Correios, o meu mais sinceros VAI TOMAR NO CU                                                                                                                                                                                                                                              ...  Negativo \n",
              "60   Alguém sabe o horário de funcionamento dos Correios hoje?                                                                                                                                                                                                                                  ...  Neutro   \n",
              "262  bom acho que os correios nao vao mudar a situação do barato la mais hj\\nacredito que só dia 2 mesmo                                                                                                                                                                                        ...  Neutro   \n",
              "83   \" que 2019 me traga ...\" \\nTá achando que o ano trabalha nos correios? Corre atrás não pra tu ver, fdp acomodado do caralho.                                                                                                                                                               ...  Negativo \n",
              "74   Mano, se liguem no que passei\\nEu comprei uma cadeira na Aliexpress, aí ok, tive que pagar 20% do valor em taxa. \\n\\nOs &gt;Correios&lt; estrangeiros atrasaram exatamente TUDO e o vendedor tbm n deu uma explicação nem satisfação, fiquei 1 mês esperando e nada.                       ...  Neutro   \n",
              "13   puta que pariu to com mt medo dessa demora dos correios                                                                                                                                                                                                                                    ...  Negativo \n",
              "231  Uma das partes mais legais de ser do Fish Tank é que eles enviam um cartão fofo de aniversário. Mas os correios são tão LERDOS com as coisas do Fish Tank que é capaz de eu receber meus parabéns do BUCK-TICK só quando tiver 80 anos :&lt;                                               ...  Negativo \n",
              "142  hoje tinha gente batendo no portão daqui de casa e eu fui toda feliz atender né pensando que era os correios e era testemunha de jeová nunca fui tão tombada                                                                                                                               ...  Neutro   \n",
              "213  Pode vir correios                                                                                                                                                                                                                                                                          ...  Neutro   \n",
              "62   tiração esses correios                                                                                                                                                                                                                                                                     ...  Negativo \n",
              "275  Vou me arrumar e buscar meus mimos nos correios                                                                                                                                                                                                                                            ...  Neutro   \n",
              "186  Eu com certeza já passei mais tempo numa agência de Correios do que na igreja. O que será que Jesus pensa disso?                                                                                                                                                                           ...  Negativo \n",
              "244  nunca mais compro nada pela internet e deixo pros correios entregar....                                                                                                                                                                                                                    ...  Neutro   \n",
              "299  Os serviços dos Correios são tão precários que nem o site funciona, que merda.                                                                                                                                                                                                             ...  Negativo \n",
              "113  NINGUÉM me respondeu se os correios entregam no sábado                                                                                                                                                                                                                                     ...  Neutro   \n",
              "242  Rezando pros correios funcionarem direito UMA VEZ NA VIDA e minha camiseta chegar antes do fest.                                                                                                                                                                                           ...  Neutro   \n",
              "182  Eu acho muito estranho esse pessoal que pede a privatização dos correios e ao invés de usarem outros serviços, continuam enchendo a porra do saco falando essa merda. Meu anjo, oi????                                                                                                     ...  Neutro   \n",
              "4    Nunca mais compro nada pela internet, ranço demais. Correios me fodeu!                                                                                                                                                                                                                     ...  Negativo \n",
              "118  dúvida do dian:\\nbaseado nas cartas dos correios que a gente recebe com varios endereços, a gente mora no calhau, no olho d’água ou no parque shalom @LemosAlinea VALENDO                                                                                                                  ...  Neutro   \n",
              "75   Bozo não quer privatizar os Correios. Já é bom motivo pra pedir impeachment                                                                                                                                                                                                                ...  Neutro   \n",
              "266  chocada com a inboxshoes q comprei o tênis ontem de manhã e hoje cedo ja recebi mensagem dos correios dizendo que ele tinha saído pra entrega                                                                                                                                              ...  Positivo \n",
              "223  q que adianta ter primo q trabalha nos correios se ele não pega minhas coisas e traz na minha casa antes do carteiro                                                                                                                                                                       ...  Neutro   \n",
              "277  os correios tão muito rapidos agora qq aconteceu? antes eu ficava o dia inteiro metendo o pau por causa dos meus pedidos atrasados                                                                                                                                                         ...  Negativo \n",
              "271  maior prova da existencia do diabo é a instituição CORREIOS                                                                                                                                                                                                                                ...  Positivo \n",
              "79   Ontem meu amigo do trabalho perguntou o que tanto eu compro na internet porque sempre que ele passa em frente ao meu notebook ele vê o site dos correios aberto no rastreamento. Hauhauhau                                                                                                 ...  Neutro   \n",
              "105  Olha que coisa legal! \\nA fatura do meu cartão de crédito vence todo dia 10, e os Correios só entregaram a fatura ONTEM!! ONTEM!!!!! Que absurdo!                                                                                                                                          ...  Positivo \n",
              "10   Estourar a equipa toda por causa da merda da taça Lucilio/cerveja/carica/correios/selos......                                                                                                                                                                                              ...  Negativo \n",
              "7    Recebendo pacote dos correios em Las Vegas\\nBoa tarde                                                                                                                                                                                                                                      ...  Neutro   \n",
              "199  Correios consegue se superar no ramo de pior empresa                                                                                                                                                                                                                                       ...  Neutro   \n",
              "259  Correios eu ja desisti deles                                                                                                                                                                                                                                                               ...  Negativo \n",
              "289  To nos Correios enviando um Boné Alma Sertaneja pra Italva - RJ.                                                                                                                                                                                                                           ...  Neutro   \n",
              "140  Que desgraça desses correios, atrasando mais do que tudo                                                                                                                                                                                                                                   ...  Negativo \n",
              "116  hj fui no correios toda feliz buscar minha encomenda e o cara q atendeu foi tao grosso q eu queria jogar uma bomba no cu dele                                                                                                                                                              ...  Neutro   \n",
              "177  no momento pensando que queria que o povo do correios trabalhasse esse fim de semana kkjjk                                                                                                                                                                                                 ...  Neutro   \n",
              "253  Eita chegou presente (mas tem q ir buscar no correios por causa do peso)                                                                                                                                                                                                                   ...  Neutro   \n",
              "31   OTT-RJ INFORMA :\\n\\n30/12 - 08:15h\\nTiros na comunidade do Cebolô, na Rua do antigo Correios no bairro Arsenal em São Gonçalo. Cuidado na região.\\n#OTTRJ                                                                                                                                  ...  Positivo \n",
              "288  tenho que ir no correios da Taquara, doente é foda 😢                                                                                                                                                                                                                                       ...  Negativo \n",
              "106  ㅤ…☁️ ⃗  (anônimo ou user). . \\n  ㅤ  ♡ﾞ﹏ ‹ (user para quem quer mandar)\\n  ㅤ  ✉︎ ﹏¹ (texto)\\n\\nesse será o novo modelinho q irei tweetar os correios!                                                                                                                                       ...  Neutro   \n",
              "89   o presente de moza1 ja ta aqui e eu espero do fundo do meu coração que os Correios me entreguem até dia 14                                                                                                                                                                                 ...  Negativo \n",
              "247  os correios estão mais cheios que sei lá o quê                                                                                                                                                                                                                                             ...  Positivo \n",
              "148  ver a babi recebendo a carta, me deixou muito feliz, juro q já estava ligando pros correios pra saber pq a demora                                                                                                                                                                          ...  Neutro   \n",
              "178  E eu que vim no correios e tem 21 pessoas na minha frente                                                                                                                                                                                                                                  ...  Neutro   \n",
              "17   E pensar que o meu tão aguardado encontro com o Malleus Maleficarum depende da boa vontade dos Correios...                                                                                                                                                                                 ...  Neutro   \n",
              "283  Também quero esses correios anônimos, alguém de bom coração aí                                                                                                                                                                                                                             ...  Neutro   \n",
              "12   Atualmente meu maior sonho é que privatizem os correios                                                                                                                                                                                                                                    ...  Negativo \n",
              "55   wtf primeiro o mercado livre matou o frete gratis pra ca pro norte e agr n da mais pra comprar do exterior sem pagar 15 bolsas de coco pros correios\\n\\nO BAGULHO Q EU COMPREI FOI 2 REAL wtf brasel                                                                                       ...  Neutro   \n",
              "126  De acordo com a previsão dos correios eu vou pra praia com mei palmo de raiz e cabelo branco 🤦‍♀️                                                                                                                                                                                          ...  Neutro   \n",
              "92   Segundo matéria da PEGN, de 1 milhão de encomendas entregues por dia pelos Correios 70% são  provenientes do e-commerce.                                                                                                                                                                   ...  Negativo \n",
              "64   Como bom escorpiano, no lugar de Bolsonaro eu faria um filme sobre Ustra com dinheiro da Lei  Rouanet com patrocínio da Petrobras e Correios só para ver se a esquerda aprovaria...😂                                                                                                       ...  Neutro   \n",
              "240  Vim no centro só pra ir nos correios e buscar os panetones com Thayna, mas to saindo com iPhone novo kkkkkk êê                                                                                                                                                                             ...  Neutro   \n",
              "101  Correios podia trabalhar pelo menos no sábado, ô carai                                                                                                                                                                                                                                     ...  Neutro   \n",
              "256  eu odeio os correios                                                                                                                                                                                                                                                                       ...  Negativo \n",
              "59   Meu livro THM chegooooouuuu. Tá bom que o Correios não entregou aqui e tá lá no sistema que o carteiro que não veio não foi atendido, mas chegooou. Semana que vem vou buscar 😍                                                                                                            ...  Negativo \n",
              "149  Minhas camisetas da @uselolja chegaram na minha caixa postal, mas o Correios não abre sábado 🥺                                                                                                                                                                                             ...  Negativo \n",
              "71   Correios lançam selo comemorativo sobre 1ª etapa do projeto Sirius \\nEvento aconteceu em Campinas (SP), no Centro Nacional de Pesquisa em Energia e Materiais (CNPEM), neste sábado (29). Ministro Gilberto Kassab participou da homenagem e falou sobre afastamento de cargo no gov…      ...  Neutro   \n",
              "72   acabo de descobrir que o livro que pedi não tem rastreador ele pode estar sozinho desamparado no correios da minha cidade há dias pobrezinho sou um animal                                                                                                                                 ...  Neutro   \n",
              "276  eu tenho a plena convicção de que quem pede privatização dos correios não usa transportadora privada pq olha                                                                                                                                                                               ...  Neutro   \n",
              "278  Obrigado correios pela incompetência habitual                                                                                                                                                                                                                                              ...  Negativo \n",
              "235  Correios mente muito,\\nFalando que veio aqui e não tinha ngm, o cuuuu deles                                                                                                                                                                                                                ...  Negativo \n",
              "52   Eu to nervosa, porque vou chegar de viagem e vão ter 22 CDS do SF9 pra embalar e enviar, literalmente os CDS vão chegar em 15 dias e passaram limpo em todas as taxas. Os correios me dando mimos depois de quebrarem minhas pernas com as taxas dos meus Sensuous D:                      ...  Neutro   \n",
              "81   Poxa correios, taxando minhas encomendas logo nos últimos dias de 2018, te odeio sabia                                                                                                                                                                                                     ...  Neutro   \n",
              "61   Espero bem que os correios trabalhem segunda feira                                                                                                                                                                                                                                         ...  Negativo \n",
              "234  meu nome quase entrou no Serasa pq o correios n mandou minha conta da vivo                                                                                                                                                                                                                 ...  Neutro   \n",
              "255  mano é serio\\n\\no negocio ja ta na minha cidade faz quase uma semana e o correios NAO COMEÇA A ENTREGA MANO\\n\\nserio parece que eles tentam enrolar o máximo que der                                                                                                                       ...  Negativo \n",
              "176  Espero que os correios não percam meu passaporte                                                                                                                                                                                                                                           ...  Neutro   \n",
              "267  Só queria saber quem me mandou esses correios anónimo                                                                                                                                                                                                                                      ...  Negativo \n",
              "168  que tristeza depender dos Correios nesse fim de ano                                                                                                                                                                                                                                        ...  Neutro   \n",
              "8    Gente, manda minha gata por Correios que eu vou ficar por aqui                                                                                                                                                                                                                             ...  Neutro   \n",
              "67   Tô ficando bolada já com esse Correios que não entrega meu celular                                                                                                                                                                                                                         ...  Neutro   \n",
              "238  Dá próxima vez que tiver frete pelo o Correios eu pago, mesmo que esteja R$1000,00 porque essas transportadora não serve para merda nenhuma além de te estressar                                                                                                                           ...  Negativo \n",
              "208  Fui chamado em mais um concurso hahahahah vocês não sabem a felicidade que é receber o telegrama dos Correios. Porém vou continuar na prefeitura do Rio mesmo.                                                                                                                             ...  Neutro   \n",
              "125  demoro 1 dia pra entrega eu ja to todo coxinha pedindo privatização dos correios                                                                                                                                                                                                           ...  Neutro   \n",
              "167  que negócio chato essa taxa de 15 reais cobrada pelo correios viu pqp                                                                                                                                                                                                                      ...  Neutro   \n",
              "73   Olá nenês. \\n\\nEnvios pendentes serao feitos assim que estiver tudo normalizado  para envios no Correios BR. Espero que compreendam 💜                                                                                                                                                      ...  Neutro   \n",
              "179  Hoje nos correios uma mãe com duas crianças. As duas estavam brincando muito uma com a outra e riam o tempo todo e se abraçavam e aquele fuzuê de crianças que parecia que tinha umas 10!\\nImaginei se é isso o dia inteiro no ouvido da mãe e só consegui pensar \"Deus abençoe as mães\"!  ...  Neutro   \n",
              "245  O q q aconteceu c o Correios q tá entregando encomenda dentro do estado em 2 dias úteis? É pegadinha?                                                                                                                                                                                      ...  Negativo \n",
              "129  fico vendo os correios anonimos que o @lovemail_ posta e so fico querendo receber um tbm :(                                                                                                                                                                                                ...  Neutro   \n",
              "143  Meu ódio principal de 2018 foi a droga dos correios, 2019 tá reservado pra Oi                                                                                                                                                                                                              ...  Negativo \n",
              "43   dois correios anonimos numa semana so to começando a ficar com medo...                                                                                                                                                                                                                     ...  Neutro   \n",
              "78   os correios trabalham ao fim de semana?                                                                                                                                                                                                                                                    ...  Neutro   \n",
              "2    Tava lembrando dos correios elegantes dá escola, n tem nd melhor do q receber uma cartinha viu, pena q ninguém escreve cartinha de amor mais                                                                                                                                               ...  Neutro   \n",
              "82   eu to tão puta com os correios, tão passeando com a minha encomenda pelo rj inteiro                                                                                                                                                                                                        ...  Negativo \n",
              "169  Ganhei uma sandália do tio dos Correios 😍                                                                                                                                                                                                                                                  ...  Neutro   \n",
              "18   Os Correios estão numa preguiça de dar gosto. Duas semanas e nem sinal do meu certificado do curso de extensão/especialização que fiz.                                                                                                                                                     ...  Neutro   \n",
              "284  Eu já era a favor da privatização dos correios, depois de hoje mais ainda                                                                                                                                                                                                                  ...  Neutro   \n",
              "210  Eu odeio os correios de todo meu coração                                                                                                                                                                                                                                                   ...  Negativo \n",
              "298  Tenho que ir nos correios, pegar minha encomenda :), mas a chave está com a vizinha, sorte que o povo me conhece, e deixa eu pegar. Pelo menos da outra vez, dessa não sei rs                                                                                                              ...  Neutro   \n",
              "273  Eu odeio tanto os correios. 😭😖                                                                                                                                                                                                                                                             ...  Negativo \n",
              "21   Meu presentinho de Natal tem que ser entregue AMANHÃ pelos correios.                                                                                                                                                                                                                       ...  Neutro   \n",
              "261  O tempo que ando a passar nos correios até assusta                                                                                                                                                                                                                                         ...  Neutro   \n",
              "270  Meu deus velho, olha\\nEu raramente fico puto, os correios chegaram perto de me deixar puto                                                                                                                                                                                                 ...  Negativo \n",
              "152  uma dica pra vocês de quem for comprar coisa pela internet e eles não entregarem na sua área: baixem o aplicativo dos correios, coloca lá o código de rastreio e monitora por lá. O correio não tá mandando as cartas de retirada e o pessoal tá tendo que pagar taxa                      ...  Neutro   \n",
              "265  Só queria um retorno dos correios...                                                                                                                                                                                                                                                       ...  Neutro   \n",
              "193  Toda porra de vez a saga: eu me estressando com os correios                                                                                                                                                                                                                                ...  Negativo \n",
              "274  quando a amazon passa sua encomenda pros correios, que triste morte                                                                                                                                                                                                                        ...  Neutro   \n",
              "161  Cada item que comprei no Wish e no Ali os #correios fdp vão me cobrar R$15! Malditos, desgraçados, ardam no fogo do inferno!                                                                                                                                                               ...  Negativo \n",
              "20   Meus livros estão indo pra Viana tem três dias já. CADÊ MEUS LIVROS CORREIOS?                                                                                                                                                                                                              ...  Neutro   \n",
              "44   [29/12 11:38 PM] Vitão ⚔⚔: Namoro via web\\n[29/12 11:38 PM] Vitão ⚔⚔: Uma maneira diferente de ser corno\\n[29/12 11:38 PM] Daniel ⚔⚔: Webcorno\\n[29/12 11:38 PM] Jair ⚔⚔: Chifre vem via correios\\n\\nKkkkkkkkkkkkkkkkkkkkkkkkkkkkkkkkkkkkkkklkkkkkkkkkkkkkkkkkkkkkkkkkkkkkkkkkkkkkkk       ...  Negativo \n",
              "160  fui no correios aqui perto e parece que nao tao curtindo mt trabalhar hoje                                                                                                                                                                                                                 ...  Neutro   \n",
              "166  Confraternização dos Correios está top 👌                                                                                                                                                                                                                                                   ...  Neutro   \n",
              "224  Quem só reclama dos Correios é pq nunca teve uma mercadoria na Total Express.                                                                                                                                                                                                              ...  Neutro   \n",
              "185  Boa notícia amoras ☺️ meu pai conversou com a moça do correios (amém boa lábia) e até 2kg consigo enviar por um frete BEM mais barato que o PAC ❤️                                                                                                                                         ...  Positivo \n",
              "228  Está difícil do Lula sair de Curitiba, acho que ele não esta preso na PF, está preso nos correios.                                                                                                                                                                                         ...  Neutro   \n",
              "37   mano queria tanto receber aqueles correios anônimos soft mas n tenho amigo no sitekkkkkq fracasso                                                                                                                                                                                          ...  Neutro   \n",
              "15   odeio o correios                                                                                                                                                                                                                                                                           ...  Negativo \n",
              "42   sera que os correios entregam coisas no dia 31? pq seria meu sonho meu celular chegar ainda esse ano                                                                                                                                                                                       ...  Neutro   \n",
              "130  finalmente meus biquínis foram colocados nos correios, agora é torcer pra chegar antes do verão acabar                                                                                                                                                                                     ...  Neutro   \n",
              "136  Ainda não me conformei com essa taxa de despacho postal dos correios. Agora não posso nem mais aliviar minha tristeza comprando coisas da China pq só dá mais dor de cabeça...                                                                                                             ...  Negativo \n",
              "183  Passei tanta raiva no correios                                                                                                                                                                                                                                                             ...  Negativo \n",
              "146  A @riachuelo me mandou uma blusa em apenas 3 dias úteis depois da confirmação do pagamento e com um frete super barato.\\n\\nAinda bem que ela não utiliza os Correios.\\n\\n❤️💙Riachuelo online é a melhor Riachuelo💙❤️                                                                       ...  Positivo \n",
              "\n",
              "[300 rows x 3 columns]"
            ]
          },
          "metadata": {},
          "execution_count": 77
        }
      ]
    },
    {
      "cell_type": "code",
      "metadata": {
        "id": "iog8EKgk3YE2"
      },
      "source": [
        ""
      ],
      "execution_count": 77,
      "outputs": []
    },
    {
      "cell_type": "code",
      "metadata": {
        "id": "Yj2zuIcqVY6b"
      },
      "source": [
        "##GERAR ARQUIVOS DE SAÍDA COM O CONTEÚDO BAIXADO NO MOMENTO DA EXECUÇÃO DO NOTEBOOK\n",
        "#saida_final_Neg = saida_final.query('PRED_FINAL == \"Negativo\"').dropna()\n",
        "#saida_final_Neu = saida_final.query('PRED_FINAL == \"Neutro\"').dropna()\n",
        "#saida_final_Pos = saida_final.query('PRED_FINAL == \"Positivo\"').dropna()\n",
        "\n",
        "#saida_final_Neg.to_csv('Novos_Negativos.csv')\n",
        "#saida_final_Neu.to_csv('Novos_Neutros.csv')\n",
        "#saida_final_Pos.to_csv('Novos_Positivos.csv')"
      ],
      "execution_count": 78,
      "outputs": []
    }
  ]
}